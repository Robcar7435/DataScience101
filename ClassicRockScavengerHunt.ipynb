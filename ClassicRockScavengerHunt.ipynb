{
 "cells": [
  {
   "cell_type": "code",
   "execution_count": 1,
   "metadata": {
    "collapsed": true
   },
   "outputs": [],
   "source": [
    "# how to read a comma seperate file into panadas\n",
    "import pandas as pd\n",
    "file_name = '538/data/classic-rock/classic-rock-song-list.csv'\n",
    "data = pd.read_csv(file_name)\n"
   ]
  },
  {
   "cell_type": "markdown",
   "metadata": {},
   "source": [
    "## Questions\n",
    "+ What artist has the most sum plays of all songs?\n",
    "+ What are the beatles top 3 most played songs?\n",
    "+ What year had the most plays?\n",
    "+ Find three one hit wonders (only have one song in the data set)\n",
    "+ What artist had the highest average play count for all songs? \n",
    "+ What year was tom petty most popular (by play counts)?\n",
    "+ Is the sum total annual classic rock play count increasing or decreasing? (show counts by year) \n",
    "\n",
    "\n"
   ]
  },
  {
   "cell_type": "markdown",
   "metadata": {},
   "source": []
  }
 ],
 "metadata": {
  "kernelspec": {
   "display_name": "Python 2",
   "language": "python",
   "name": "python2"
  },
  "language_info": {
   "codemirror_mode": {
    "name": "ipython",
    "version": 2
   },
   "file_extension": ".py",
   "mimetype": "text/x-python",
   "name": "python",
   "nbconvert_exporter": "python",
   "pygments_lexer": "ipython2",
   "version": "2.7.6"
  }
 },
 "nbformat": 4,
 "nbformat_minor": 0
}
