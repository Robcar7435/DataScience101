{
 "cells": [
  {
   "cell_type": "markdown",
   "metadata": {
    "collapsed": true
   },
   "source": [
    "## Decision Tree Applications\n",
    "### Learn from Disaster\n",
    "##### Objectives\n",
    "+ Learn how to use the sklearn decision tree classification API\n",
    "+ Create basic plots and analysis using decision Trees\n",
    "+ familiarization with supervised learning data science work flow.\n",
    "\n",
    "#### Delivarables\n",
    "+ HTML or PDF extraction uploaded to OAKS from a jupyter notebook with the following:\n",
    "    + data loading\n",
    "    + data preproccessing transformation\n",
    "    + data splitting using a 70/30 split with a random hold out\n",
    "    + Three Decision Tree Models\n",
    "        * One Over fitted (good performance on training, poor performance on test)\n",
    "        * One Under fitted model (poor performance on both training and test)\n",
    "        * One optimum model good performance on training and test sets )\n",
    "        * plot of the final model\n",
    "        * Written summary of findings and recomendations from the model detailing which types of passengers are likely to survice a disaster, and lessons learning on model building\n",
    "        \n",
    "      + Performance will be dertimed by AUC of the ROC (import from sklearn.metrics)\n",
    "      + Note in order to determine over vs underfitting, roc_auc_score needs to be determined for both the training and test sets\n",
    "\n",
    "#### DataSet\n",
    "+ Download Titanic Data set from https://www.kaggle.com/c/titanic/data\n",
    " "
   ]
  },
  {
   "cell_type": "code",
   "execution_count": 1,
   "metadata": {},
   "outputs": [],
   "source": [
    "import pandas as pd\n",
    "file_path =  'data/titanic/train.csv'\n",
    "data = pd.read_csv(file_path)"
   ]
  }
 ],
 "metadata": {
  "kernelspec": {
   "display_name": "Python 3",
   "language": "python",
   "name": "python3"
  },
  "language_info": {
   "codemirror_mode": {
    "name": "ipython",
    "version": 3
   },
   "file_extension": ".py",
   "mimetype": "text/x-python",
   "name": "python",
   "nbconvert_exporter": "python",
   "pygments_lexer": "ipython3",
   "version": "3.6.9"
  }
 },
 "nbformat": 4,
 "nbformat_minor": 1
}
