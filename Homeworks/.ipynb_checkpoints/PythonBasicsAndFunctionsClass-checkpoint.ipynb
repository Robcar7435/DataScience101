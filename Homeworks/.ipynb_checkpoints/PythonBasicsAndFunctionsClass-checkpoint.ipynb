{
 "cells": [
  {
   "cell_type": "code",
   "execution_count": null,
   "metadata": {},
   "outputs": [],
   "source": []
  },
  {
   "cell_type": "markdown",
   "metadata": {},
   "source": [
    "##### Create a function that prints takes a string name as an argument, and returns \"hello my name is 'name'\"\n",
    "\n",
    "```python\n",
    "my_function('Steve')\n",
    "\n",
    "```\n",
    "\n",
    "\n",
    "\n",
    "\n",
    "should return 'hello my name is Steve'\n",
    "##### Create a function that uses returns only the digits from the following list\n",
    "\n",
    "```python\n",
    "\n",
    "my_list = ['test 123', 'test 456']\n",
    "\n",
    "```\n",
    "should return [123, 456]"
   ]
  }
 ],
 "metadata": {
  "kernelspec": {
   "display_name": "Python 3",
   "language": "python",
   "name": "python3"
  },
  "language_info": {
   "codemirror_mode": {
    "name": "ipython",
    "version": 3
   },
   "file_extension": ".py",
   "mimetype": "text/x-python",
   "name": "python",
   "nbconvert_exporter": "python",
   "pygments_lexer": "ipython3",
   "version": "3.6.9"
  }
 },
 "nbformat": 4,
 "nbformat_minor": 2
}
