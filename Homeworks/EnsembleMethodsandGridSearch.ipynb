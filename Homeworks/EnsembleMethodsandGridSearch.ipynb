{
 "cells": [
  {
   "cell_type": "markdown",
   "metadata": {},
   "source": [
    "### Objectives\n",
    "\n",
    "To compare logicist regression to Ensemble Methods, and leverage grid search cross validated tuning. Use at least 4 fold cross validation.  Students will have to create parameter grids and use cross validated grid search to find the optimum model. \n",
    "\n",
    "\n",
    "### Data\n",
    "use boston housing data to find the following\n",
    "Object if is to predict the price of houses in boston. \n",
    "\n",
    "about the data\n",
    "https://scikit-learn.org/stable/datasets/index.html#boston-dataset\n",
    "\n",
    "\n",
    "```python\n",
    "from sklearn import datasets\n",
    "boston = datasets.load_boston()\n",
    "X, y = boston.data, boston.target\n",
    "feature_names = boston.feature_names\n",
    "```\n",
    "\n",
    "### Deliverables\n",
    "jupter notebook the following\n",
    " + Three Regression Models, comparistion select  using r2_score, and MSE.:\n",
    "    * sklearn.linear_model LinearRegression cross validated, but no grid search\n",
    "    \n",
    "    * sklearn decision tree regression, with grid search cv on \n",
    "        + max_depth\n",
    "        + min_samples_split\n",
    "        \n",
    "    * sklearn.ensemble.RandomForestRegressor,  with grid search cv on \n",
    "        + n_estimators \n",
    "        + max_depth\n",
    "        + min_samples_split \n",
    "\n",
    "\n",
    "search the following parameters\n",
    "\n",
    "+ Compare select the best models using r2_score, and MSE.\n",
    "+ plot preds vs actuals for all three models\n",
    "+ plot feature importance for all models \n",
    "+ write a summary of findings. \n",
    "\n"
   ]
  }
 ],
 "metadata": {
  "kernelspec": {
   "display_name": "Python 3",
   "language": "python",
   "name": "python3"
  },
  "language_info": {
   "codemirror_mode": {
    "name": "ipython",
    "version": 3
   },
   "file_extension": ".py",
   "mimetype": "text/x-python",
   "name": "python",
   "nbconvert_exporter": "python",
   "pygments_lexer": "ipython3",
   "version": "3.6.9"
  }
 },
 "nbformat": 4,
 "nbformat_minor": 2
}
