{
 "cells": [
  {
   "cell_type": "markdown",
   "metadata": {},
   "source": [
    "#### Chicago Crime Data Cluster Project \n",
    "Using Chicago Open Data Portal\n",
    "\n",
    "download data Car Crahses\n",
    "\n",
    "https://data.cityofchicago.org/Public-Safety/Crimes-2018/3i3m-jwuy\n",
    "\n",
    "    export button, save as a csv file.\n",
    "\n"
   ]
  },
  {
   "cell_type": "markdown",
   "metadata": {},
   "source": [
    "## Scenario\n",
    "A task for has been setup in the city of Chicago to crack down on  'NARCOTICS'.\n",
    "\n",
    "Part of the strategy of the task for is use 'predictive policing' to deploy officers to know narcotics hotspots to increase survallence and police presences in the neighborhoods..\n",
    "\n",
    "\n",
    "\n",
    "### Deliverables\n",
    "a pdf or html markdown document, uploaded.\n",
    "+ Use a cluster model to idenity 3 areas where policy may be deployed.  \n",
    "+ Create plots that providing supporting evidence that narcotics violations are happening in that area\n",
    "+ Create plots that support that te cluster bounderies are correctly assigned\n",
    "+ Provide a written summary of your findings, recomendations potential pitfalls and advantages of using this particular method\n"
   ]
  },
  {
   "cell_type": "markdown",
   "metadata": {},
   "source": [
    "### Steps \n",
    "Data Loading\n",
    "\n",
    "+ load data\n",
    "+ filter to only narcotics violations\n",
    "\n",
    "Basic Data Understanding\n",
    "\n",
    "+ Plot Sum narcotics violations by day of the week\n",
    "+ Plot Sum of narcotics by day (for entire length of data set)\n",
    "\n",
    "Create Cluster Model\n",
    "\n",
    "+ scale 'Latitude', 'Longitude',\n",
    "+ cluster 'Latitude', 'Longitude',\n",
    "\n",
    "Model Evaluation\n",
    "+ plot clusters\n",
    "+ silloute plot clusters\n",
    "+ barplot cluster centers by count\n",
    "\n",
    "+ Write a summary"
   ]
  },
  {
   "cell_type": "code",
   "execution_count": 82,
   "metadata": {},
   "outputs": [
    {
     "data": {
      "text/html": [
       "<div>\n",
       "<style scoped>\n",
       "    .dataframe tbody tr th:only-of-type {\n",
       "        vertical-align: middle;\n",
       "    }\n",
       "\n",
       "    .dataframe tbody tr th {\n",
       "        vertical-align: top;\n",
       "    }\n",
       "\n",
       "    .dataframe thead th {\n",
       "        text-align: right;\n",
       "    }\n",
       "</style>\n",
       "<table border=\"1\" class=\"dataframe\">\n",
       "  <thead>\n",
       "    <tr style=\"text-align: right;\">\n",
       "      <th></th>\n",
       "      <th>ID</th>\n",
       "      <th>Case Number</th>\n",
       "      <th>Date</th>\n",
       "      <th>Block</th>\n",
       "      <th>IUCR</th>\n",
       "      <th>Primary Type</th>\n",
       "      <th>Description</th>\n",
       "      <th>Location Description</th>\n",
       "      <th>Arrest</th>\n",
       "      <th>Domestic</th>\n",
       "      <th>...</th>\n",
       "      <th>Ward</th>\n",
       "      <th>Community Area</th>\n",
       "      <th>FBI Code</th>\n",
       "      <th>X Coordinate</th>\n",
       "      <th>Y Coordinate</th>\n",
       "      <th>Year</th>\n",
       "      <th>Updated On</th>\n",
       "      <th>Latitude</th>\n",
       "      <th>Longitude</th>\n",
       "      <th>Location</th>\n",
       "    </tr>\n",
       "  </thead>\n",
       "  <tbody>\n",
       "    <tr>\n",
       "      <th>0</th>\n",
       "      <td>11583222</td>\n",
       "      <td>JC136409</td>\n",
       "      <td>12/26/2018 12:01:00 AM</td>\n",
       "      <td>044XX S RACINE AVE</td>\n",
       "      <td>1150</td>\n",
       "      <td>DECEPTIVE PRACTICE</td>\n",
       "      <td>CREDIT CARD FRAUD</td>\n",
       "      <td>OTHER</td>\n",
       "      <td>False</td>\n",
       "      <td>False</td>\n",
       "      <td>...</td>\n",
       "      <td>11.0</td>\n",
       "      <td>61.0</td>\n",
       "      <td>11</td>\n",
       "      <td>NaN</td>\n",
       "      <td>NaN</td>\n",
       "      <td>2018</td>\n",
       "      <td>02/02/2019 04:07:45 PM</td>\n",
       "      <td>NaN</td>\n",
       "      <td>NaN</td>\n",
       "      <td>NaN</td>\n",
       "    </tr>\n",
       "  </tbody>\n",
       "</table>\n",
       "<p>1 rows × 22 columns</p>\n",
       "</div>"
      ],
      "text/plain": [
       "         ID Case Number                    Date               Block  IUCR  \\\n",
       "0  11583222    JC136409  12/26/2018 12:01:00 AM  044XX S RACINE AVE  1150   \n",
       "\n",
       "         Primary Type        Description Location Description  Arrest  \\\n",
       "0  DECEPTIVE PRACTICE  CREDIT CARD FRAUD                OTHER   False   \n",
       "\n",
       "   Domestic  ...  Ward  Community Area  FBI Code  X Coordinate Y Coordinate  \\\n",
       "0     False  ...  11.0            61.0        11           NaN          NaN   \n",
       "\n",
       "   Year              Updated On  Latitude Longitude  Location  \n",
       "0  2018  02/02/2019 04:07:45 PM       NaN       NaN       NaN  \n",
       "\n",
       "[1 rows x 22 columns]"
      ]
     },
     "execution_count": 82,
     "metadata": {},
     "output_type": "execute_result"
    }
   ],
   "source": [
    "# load in data\n",
    "import pandas as pd\n",
    "file_name = 'data/Crimes_-_2018.csv'\n",
    "data = pd.read_csv(file_name)\n",
    "data.head(1)"
   ]
  }
 ],
 "metadata": {
  "kernelspec": {
   "display_name": "Python 3",
   "language": "python",
   "name": "python3"
  },
  "language_info": {
   "codemirror_mode": {
    "name": "ipython",
    "version": 3
   },
   "file_extension": ".py",
   "mimetype": "text/x-python",
   "name": "python",
   "nbconvert_exporter": "python",
   "pygments_lexer": "ipython3",
   "version": "3.6.9"
  }
 },
 "nbformat": 4,
 "nbformat_minor": 1
}
