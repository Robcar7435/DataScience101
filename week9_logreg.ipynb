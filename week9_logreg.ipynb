{
 "cells": [
  {
   "cell_type": "markdown",
   "metadata": {
    "collapsed": true
   },
   "source": [
    "# Moder Regression\n",
    "\n",
    "## Linear Regression \n",
    "\n",
    "\n",
    "\n",
    "\n",
    "\n",
    "\n",
    "## Logistic Regression \n",
    "https://www.datacamp.com/community/tutorials/understanding-logistic-regression-python\n",
    "## Normal equations\n",
    "http://anwarruff.com/normal-equation/\n",
    "## https://www.statisticssolutions.com/assumptions-of-linear-regression/"
   ]
  },
  {
   "cell_type": "code",
   "execution_count": 83,
   "metadata": {},
   "outputs": [],
   "source": [
    "import numpy as np \n",
    "# generate some data\n",
    "n = 10000\n",
    "def make_data(n, c1=.10,):\n",
    "    np.random.seed(2012)\n",
    "\n",
    "    x = np.reshape(np.arange(n) * c1 + np.random.normal(0,1,n), (-1,1))\n",
    "    y = np.reshape(np.arange(n) , (-1,1))\n",
    "\n",
    "    return x, y\n",
    "x, y = make_data(500)"
   ]
  },
  {
   "cell_type": "code",
   "execution_count": 84,
   "metadata": {},
   "outputs": [
    {
     "name": "stdout",
     "output_type": "stream",
     "text": [
      "(500, 1) (500, 1)\n"
     ]
    }
   ],
   "source": [
    "print(x.shape , y.shape)"
   ]
  },
  {
   "cell_type": "code",
   "execution_count": 85,
   "metadata": {},
   "outputs": [
    {
     "data": {
      "text/plain": [
       "array([[9.99782023]])"
      ]
     },
     "execution_count": 85,
     "metadata": {},
     "output_type": "execute_result"
    }
   ],
   "source": [
    "# regression directly using the normal equations\n",
    "np.matmul(np.matmul(np.linalg.inv(np.matmul(x.T, x)), x.T), y)\n",
    "\n",
    "\n"
   ]
  },
  {
   "cell_type": "markdown",
   "metadata": {},
   "source": [
    "## Modern Approach\n",
    "+ initializer\n",
    "+ loss function\n",
    "+ optimizer\n",
    "+ possibly regulatization\n",
    "\n",
    "\n",
    "\n",
    "\n",
    "\n"
   ]
  },
  {
   "cell_type": "code",
   "execution_count": 26,
   "metadata": {},
   "outputs": [
    {
     "name": "stdout",
     "output_type": "stream",
     "text": [
      "compute odds ratio  3.0\n[[1.5025853]]\n"
     ]
    }
   ],
   "source": [
    "# logistic regression\n",
    "from sklearn.linear_model import LogisticRegression\n",
    "import numpy as np\n",
    "n = 100\n",
    "data = {'mac':    [0, 0, 0, 0, 1, 1, 1, 1],\n",
    "        'iphone': [1, 0, 1, 0, 1, 1, 0, 1]}\n",
    "x = np.array(data['mac'])\n",
    "y = np.array(data['iphone'])\n",
    "\n",
    "# base odds \n",
    "# odds iphone with a mac 3/1\n",
    "# odd iphone with out a mac 2/2\n",
    "\n",
    "\n",
    "print('compute odds ratio ', (.75/.25) / (.5/.5))\n",
    "\n"
   ]
  },
  {
   "cell_type": "code",
   "execution_count": 24,
   "metadata": {},
   "outputs": [
    {
     "data": {
      "text/plain": [
       "1.5"
      ]
     },
     "execution_count": 24,
     "metadata": {},
     "output_type": "execute_result"
    }
   ],
   "source": [
    "\n"
   ]
  },
  {
   "cell_type": "code",
   "execution_count": null,
   "metadata": {},
   "outputs": [],
   "source": []
  }
 ],
 "metadata": {
  "kernelspec": {
   "display_name": "Python 3",
   "language": "python",
   "name": "python3"
  },
  "language_info": {
   "codemirror_mode": {
    "name": "ipython",
    "version": 3
   },
   "file_extension": ".py",
   "mimetype": "text/x-python",
   "name": "python",
   "nbconvert_exporter": "python",
   "pygments_lexer": "ipython3",
   "version": "3.6.7"
  }
 },
 "nbformat": 4,
 "nbformat_minor": 1
}
