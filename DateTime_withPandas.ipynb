{
 "cells": [
  {
   "cell_type": "markdown",
   "metadata": {},
   "source": [
    "### Handeling Dates in Python\n",
    "When reading in date columns, the first step should always be to normalize them to an enriched date datetime64[ns] format.  Csv are some times auto converted, but often dates are stored as strings and need to be converted.\n",
    "\n",
    "using pd.to_datetime to auto coerrence string columns to date formats"
   ]
  },
  {
   "cell_type": "code",
   "execution_count": 32,
   "metadata": {},
   "outputs": [
    {
     "name": "stdout",
     "output_type": "stream",
     "text": [
      "       start        end\n",
      "0 2012-01-15 2013-01-15\n",
      "1 2012-12-25 2013-01-17\n"
     ]
    },
    {
     "data": {
      "text/plain": [
       "start    datetime64[ns]\n",
       "end      datetime64[ns]\n",
       "dtype: object"
      ]
     },
     "execution_count": 32,
     "metadata": {},
     "output_type": "execute_result"
    }
   ],
   "source": [
    "import pandas as pd\n",
    "df = pd.DataFrame({'start': ['2012-01-15','2012-12-25' ], 'end': ['2013-01-15','2013-01-17' ]})\n",
    "\n",
    "## coerce a column to use pandas datetime \n",
    "df['start'] = pd.to_datetime(df['start'])\n",
    "df['end']  = pd.to_datetime(df['end'])\n",
    "print(df)\n",
    "df.dtypes"
   ]
  },
  {
   "cell_type": "markdown",
   "metadata": {},
   "source": [
    "#### Unusual Date formats\n",
    "pandas uses strftime under the hood and can make a date out of about anything.\n",
    "reference\n",
    "http://strftime.org/"
   ]
  },
  {
   "cell_type": "code",
   "execution_count": 62,
   "metadata": {},
   "outputs": [
    {
     "data": {
      "text/plain": [
       "Timestamp('2012-12-25 23:59:15')"
      ]
     },
     "execution_count": 62,
     "metadata": {},
     "output_type": "execute_result"
    }
   ],
   "source": [
    "## Examples of reading different date formats\n",
    "f='%Y/%m/%d'\n",
    "pd.to_datetime('2012/12/25', format=f)\n",
    "\n",
    "f='%m-%d-%Y'\n",
    "pd.to_datetime('12-25-2012', format=f)\n",
    "\n",
    "f='%m-%d-%Y'\n",
    "pd.to_datetime('12-25-2012', format=f)\n",
    "\n",
    "f='%b %d, %Y'\n",
    "pd.to_datetime('dec 25, 2012', format=f)\n",
    "\n",
    "f='%B %d, %Y'\n",
    "pd.to_datetime('december 25, 2012', format=f)\n",
    "\n",
    "pd.to_datetime('2012-12-25 23:59:15')\n"
   ]
  },
  {
   "cell_type": "markdown",
   "metadata": {},
   "source": [
    "#### Basic Features Using a Signle Date time column \n",
    "To extract basic information from a  Timestamp column, use the df module"
   ]
  },
  {
   "cell_type": "code",
   "execution_count": 34,
   "metadata": {},
   "outputs": [
    {
     "data": {
      "text/plain": [
       "0     15\n",
       "1    360\n",
       "Name: start, dtype: int64"
      ]
     },
     "execution_count": 34,
     "metadata": {},
     "output_type": "execute_result"
    }
   ],
   "source": [
    "df['start'].dt.dayofweek\n",
    "df['start'].dt.day_name()\n",
    "df['start'].dt.year\n",
    "df['start'].dt.month\n",
    "df['start'].dt.day\n",
    "df['start'].dt.dayofyear"
   ]
  },
  {
   "cell_type": "markdown",
   "metadata": {},
   "source": [
    "#### Dealing with Holidays\n",
    "pandas has a number of built in calendars in the tseries.holiday package.  After intialized,use a simple is in generator to determine 0 /1 when there day is a holiday, list the gen backinto a 'holiday' column"
   ]
  },
  {
   "cell_type": "code",
   "execution_count": 35,
   "metadata": {},
   "outputs": [
    {
     "data": {
      "text/plain": [
       "[0, 1]"
      ]
     },
     "execution_count": 35,
     "metadata": {},
     "output_type": "execute_result"
    }
   ],
   "source": [
    "from pandas.tseries.holiday import USFederalHolidayCalendar\n",
    "cal = USFederalHolidayCalendar().holidays()\n",
    "\n",
    "## is your date a federal holiday \n",
    "def is_holiday(array, cal):\n",
    "    for val in array:\n",
    "        if val in cal:\n",
    "            yield 1\n",
    "        else:\n",
    "            yield 0\n",
    "\n",
    "list(is_holiday(df['start'], cal))\n"
   ]
  },
  {
   "cell_type": "markdown",
   "metadata": {},
   "source": [
    "#### Date Differences\n",
    " by default, the date differences are as days,and can be done by directly subtracting columns.  This actually returns a timedelta object, where days can be extracted "
   ]
  },
  {
   "cell_type": "code",
   "execution_count": 36,
   "metadata": {},
   "outputs": [
    {
     "name": "stdout",
     "output_type": "stream",
     "text": [
      "0   -366\n",
      "1    -23\n",
      "dtype: int64\n"
     ]
    }
   ],
   "source": [
    "x = df['start'] - df['end']\n",
    "print(x.dt.days)"
   ]
  },
  {
   "cell_type": "markdown",
   "metadata": {},
   "source": [
    "#### time delta manululation \n",
    "What Day is it today, and a week ago today \n",
    "Using Time Deltas, to find differences \n"
   ]
  },
  {
   "cell_type": "code",
   "execution_count": 52,
   "metadata": {},
   "outputs": [
    {
     "name": "stdout",
     "output_type": "stream",
     "text": [
      "now 2019-11-13 15:43:23.311430\n",
      "one hour ago 2019-11-13 14:43:23.311430\n",
      "yesterday 2019-11-12 15:43:23.311430 \n",
      "lastweek 2019-11-06 15:43:23.311430 \n"
     ]
    }
   ],
   "source": [
    "from datetime import timedelta\n",
    "now = pd.to_datetime('today')\n",
    "one_hour_ago =  now +  timedelta(hours=-1)  \n",
    "one_day_ago = now +  timedelta(days=-1)  \n",
    "one_week_ago = now + timedelta(weeks=-1)    \n",
    "\n",
    "print('now {}'.format(now))\n",
    "print('one hour ago {}'.format(one_hour_ago))\n",
    "print('yesterday {} '.format(one_day_ago))\n",
    "print('lastweek {} '.format(one_week_ago))\n"
   ]
  },
  {
   "cell_type": "markdown",
   "metadata": {},
   "source": [
    "#### Put it all Together for Feature Engineering\n",
    "This combines a bunch of methods into a function that can be used for feature extraction"
   ]
  },
  {
   "cell_type": "code",
   "execution_count": 37,
   "metadata": {},
   "outputs": [
    {
     "name": "stdout",
     "output_type": "stream",
     "text": [
      "   dayOfWeek  year  month  dayOfYear  holiday  date_diff\n",
      "0          1  2013      1         15        0        366\n",
      "1          3  2013      1         17        0         23\n"
     ]
    }
   ],
   "source": [
    "## put it all together in a preprocessing function\n",
    "def date_features(df, start_col='start', end_col='end', cal=cal):\n",
    "    # coece to date time \n",
    "    df['start'] = pd.to_datetime(df[start_col])\n",
    "    df['end']  = pd.to_datetime(df[end_col])\n",
    "    # get end day of the week\n",
    "    df['dayOfWeek'] = df[ end_col].dt.dayofweek\n",
    "    # get end year\n",
    "    df['year'] = df[ end_col].dt.year\n",
    "    # get end month\n",
    "    df['month'] = df[ end_col].dt.month\n",
    "    # get end day of the year\n",
    "    df['dayOfYear'] = df[ end_col].dt.dayofyear\n",
    "    # get 0 /1 is holiday\n",
    "    df['holiday'] = list(is_holiday(df[ end_col], cal))\n",
    "    # get start end diff in days\n",
    "    df['date_diff'] = df[end_col] - df[start_col]\n",
    "    df['date_diff']  = df['date_diff'].dt.days\n",
    "    df = df.drop([start_col, end_col], axis=1)\n",
    "    return df\n",
    "\n",
    "df2 = date_features(df)\n",
    "print(df2)\n"
   ]
  }
 ],
 "metadata": {
  "kernelspec": {
   "display_name": "Python 3",
   "language": "python",
   "name": "python3"
  },
  "language_info": {
   "codemirror_mode": {
    "name": "ipython",
    "version": 3
   },
   "file_extension": ".py",
   "mimetype": "text/x-python",
   "name": "python",
   "nbconvert_exporter": "python",
   "pygments_lexer": "ipython3",
   "version": "3.6.8"
  }
 },
 "nbformat": 4,
 "nbformat_minor": 2
}
