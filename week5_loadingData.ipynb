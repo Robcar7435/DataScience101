{
 "cells": [
  {
   "cell_type": "markdown",
   "metadata": {
    "collapsed": true
   },
   "source": [
    "## CookBook on How to load data into python\n",
    "+ text Files\n",
    "+ csv files\n",
    "+ pickle files\n",
    "+ json files \n",
    "+ odds and ends \n"
   ]
  },
  {
   "cell_type": "code",
   "execution_count": 55,
   "metadata": {},
   "outputs": [],
   "source": [
    "import os \n",
    "os.mkdir('temp_data')"
   ]
  },
  {
   "cell_type": "code",
   "execution_count": 56,
   "metadata": {},
   "outputs": [],
   "source": [
    "# Writing lines of text to a text file Text file\n",
    "file_path = './temp_data/test.txt'\n",
    "with open(file_path, 'w') as f:  ## 'w' stands for 'write'\n",
    "    f.writelines('this is my test file \\n I am writting now in the second line')\n",
    "    "
   ]
  },
  {
   "cell_type": "code",
   "execution_count": 57,
   "metadata": {},
   "outputs": [
    {
     "name": "stdout",
     "output_type": "stream",
     "text": [
      "['this is my test file \\n', ' I am writting now in the second line'] <class 'list'>\n",
      "this is my test file \n",
      "  I am writting now in the second line\n"
     ]
    }
   ],
   "source": [
    "# Writing lines of text to a text file Text file\n",
    "with open(file_path, 'r') as f:  ## 'r' stands for 'read'\n",
    "    x = f.readlines()\n",
    "# read back file, as a list, where every line is an element of the list\n",
    "print(x, type(x))\n",
    "\n",
    "# entier list together as one string \n",
    "print(' '.join(x))\n"
   ]
  },
  {
   "cell_type": "markdown",
   "metadata": {},
   "source": [
    "#### Loading and Saving Data with Pandas \n",
    "pandas can handle mulitple formats both reading and writing data\n",
    "+ csv (comma sepearted file) is very common, not partitulary quick, but understandable way to load and save data\n",
    "    + if you have tsv (tab seperated data use ```sep='\\t'```\n",
    "    + occasionally en encoding needs to be specified as an arg ```encoding='utf-8'```\n",
    "+ pickle, is a serialized way to save data, is type safe but it basically endemic to python\n",
    "+ parquet is a relatively new format, is type safe and very fast to read and write"
   ]
  },
  {
   "cell_type": "code",
   "execution_count": 58,
   "metadata": {},
   "outputs": [
    {
     "name": "stdout",
     "output_type": "stream",
     "text": [
      "     a    b\n",
      "0  1.0    x\n",
      "1  2.0    y\n",
      "2  NaN  NaN\n",
      "     a     b\n",
      "0  1.0     x\n",
      "1  2.0     y\n",
      "2  NaN  None\n"
     ]
    }
   ],
   "source": [
    "import pandas as pd\n",
    "import os\n",
    "# create a data frame for testing\n",
    "df = pd.DataFrame({'a': [1, 2, None], 'b': ['x', 'y', None]})\n",
    "\n",
    "path = './temp_data/df.csv'\n",
    "# write to csv \n",
    "df.to_csv(path, header=True, index=False) # index=False, means no row numbers, header means write colnames\n",
    "\n",
    "# load from csv\n",
    "df_loaded = pd.read_csv(path, header=0)\n",
    "print(df_loaded)\n",
    "\n",
    "# write to pickle\n",
    "path = './temp_data/df.pkl'\n",
    "df.to_pickle(path)\n",
    "\n",
    "# load from pickle \n",
    "df_loaded = pd.read_pickle(path)\n",
    "print(df_loaded)\n"
   ]
  },
  {
   "cell_type": "markdown",
   "metadata": {},
   "source": [
    "#### Pandas CSV Writer\n",
    "pandas writes to a csv file line per row, and can be opened with the line "
   ]
  },
  {
   "cell_type": "code",
   "execution_count": 59,
   "metadata": {},
   "outputs": [
    {
     "name": "stdout",
     "output_type": "stream",
     "text": [
      "a,b\n",
      " 1.0,x\n",
      " 2.0,y\n",
      " ,\n",
      "\n"
     ]
    }
   ],
   "source": [
    "# show how pandas writes a csv file \n",
    "path = './temp_data/df.csv'\n",
    "with open(path, 'r') as f:  ## 'r' stands for 'read'\n",
    "    print(' '.join(f.readlines()))"
   ]
  },
  {
   "cell_type": "markdown",
   "metadata": {},
   "source": [
    "\n",
    "#### load and save data in excel format\n",
    "thisn requires a packages to be installed first\n",
    "+ ```  pip install openpyxl ``` \n",
    "+ ```  pip install xlrd ``` "
   ]
  },
  {
   "cell_type": "code",
   "execution_count": 60,
   "metadata": {},
   "outputs": [
    {
     "name": "stdout",
     "output_type": "stream",
     "text": [
      "   Unnamed: 0    a    b\n",
      "0           0  1.0    x\n",
      "1           1  2.0    y\n",
      "2           2  NaN  NaN\n"
     ]
    }
   ],
   "source": [
    "# Read Excel Data \n",
    "# needs  openpyxl to run, install with pip\n",
    "p = 'temp/df.xlsx'\n",
    "df.to_excel(p)\n",
    "print(pd.read_excel(p))\n"
   ]
  },
  {
   "cell_type": "code",
   "execution_count": null,
   "metadata": {},
   "outputs": [],
   "source": []
  },
  {
   "cell_type": "markdown",
   "metadata": {},
   "source": [
    "#### Json data is essentally a dictionay\n",
    "Json data is stored as string, in a dictionary or dictionary of dictionaries format.  It's pretty universal for things like webrequest arguements, als it requires that json package\n",
    "\n",
    "\n"
   ]
  },
  {
   "cell_type": "code",
   "execution_count": 61,
   "metadata": {},
   "outputs": [
    {
     "name": "stdout",
     "output_type": "stream",
     "text": [
      "{'name': 'USS YorkTown', 'size': {'displacement': [27, 100], 'dims': [820, 93, 34]}}\n",
      "USS YorkTown\n"
     ]
    }
   ],
   "source": [
    "import json\n",
    "# saves json\n",
    "d = {'name': 'USS YorkTown', 'size':{'displacement':[27,100], 'dims':[820, 93,34]}}\n",
    "path = './temp/df.json'\n",
    "with open(path, 'w') as f:\n",
    "    json.dump(d, f, ensure_ascii=False, indent=4)\n",
    "    \n",
    "with open(path, 'r') as f:\n",
    "    ship = (json.load(f))\n",
    "print(ship)\n",
    "print(ship['name'])"
   ]
  },
  {
   "cell_type": "markdown",
   "metadata": {},
   "source": [
    "#### Directories with many csvs of data \n",
    "a common problem is that a directory may contain many files of data that need to be used as one dataset."
   ]
  },
  {
   "cell_type": "code",
   "execution_count": 62,
   "metadata": {},
   "outputs": [
    {
     "data": {
      "text/plain": [
       "['f1.csv', 'f2.csv']"
      ]
     },
     "execution_count": 62,
     "metadata": {},
     "output_type": "execute_result"
    }
   ],
   "source": [
    "\n",
    "## setup a dirictory with multiple data files\n",
    "data_dir = './temp_data/data'\n",
    "try:\n",
    "    os.mkdir(data_dir)\n",
    "except:\n",
    "    pass\n",
    "# create a data frame for testing\n",
    "df = pd.DataFrame({'a': [1, 2, None], 'b': ['x', 'y', None]})\n",
    "\n",
    "\n",
    "# writes two csv to the data_dir directory \n",
    "df.to_csv(data_dir + '/f1.csv', header=True, index=False) # index=False, means no row numbers, header means write colnames\n",
    "df.to_csv(data_dir + '/f2.csv', header=True, index=False) # index=False, means no row numbers, header means write colnames\n",
    "\n",
    "\n",
    "os.listdir(data_dir) ## lists the two csv files "
   ]
  },
  {
   "cell_type": "markdown",
   "metadata": {},
   "source": [
    "#### Use Generators to Load Files\n",
    "+ give a list of file paths, a generator is used to load each file \n",
    "+ using the ```list()``` method loads every data frame, the ```next()``` loads files one at a time\n",
    "+ ```pd.concat``` vertically stacks all the data together. "
   ]
  },
  {
   "cell_type": "code",
   "execution_count": 63,
   "metadata": {},
   "outputs": [
    {
     "name": "stdout",
     "output_type": "stream",
     "text": [
      "['./temp_data/data/f1.csv', './temp_data/data/f2.csv']\n"
     ]
    },
    {
     "data": {
      "text/html": [
       "<div>\n",
       "<style scoped>\n",
       "    .dataframe tbody tr th:only-of-type {\n",
       "        vertical-align: middle;\n",
       "    }\n",
       "\n",
       "    .dataframe tbody tr th {\n",
       "        vertical-align: top;\n",
       "    }\n",
       "\n",
       "    .dataframe thead th {\n",
       "        text-align: right;\n",
       "    }\n",
       "</style>\n",
       "<table border=\"1\" class=\"dataframe\">\n",
       "  <thead>\n",
       "    <tr style=\"text-align: right;\">\n",
       "      <th></th>\n",
       "      <th>a</th>\n",
       "      <th>b</th>\n",
       "    </tr>\n",
       "  </thead>\n",
       "  <tbody>\n",
       "    <tr>\n",
       "      <th>0</th>\n",
       "      <td>1.0</td>\n",
       "      <td>x</td>\n",
       "    </tr>\n",
       "    <tr>\n",
       "      <th>1</th>\n",
       "      <td>2.0</td>\n",
       "      <td>y</td>\n",
       "    </tr>\n",
       "    <tr>\n",
       "      <th>2</th>\n",
       "      <td>NaN</td>\n",
       "      <td>NaN</td>\n",
       "    </tr>\n",
       "    <tr>\n",
       "      <th>0</th>\n",
       "      <td>1.0</td>\n",
       "      <td>x</td>\n",
       "    </tr>\n",
       "    <tr>\n",
       "      <th>1</th>\n",
       "      <td>2.0</td>\n",
       "      <td>y</td>\n",
       "    </tr>\n",
       "    <tr>\n",
       "      <th>2</th>\n",
       "      <td>NaN</td>\n",
       "      <td>NaN</td>\n",
       "    </tr>\n",
       "  </tbody>\n",
       "</table>\n",
       "</div>"
      ],
      "text/plain": [
       "     a    b\n",
       "0  1.0    x\n",
       "1  2.0    y\n",
       "2  NaN  NaN\n",
       "0  1.0    x\n",
       "1  2.0    y\n",
       "2  NaN  NaN"
      ]
     },
     "execution_count": 63,
     "metadata": {},
     "output_type": "execute_result"
    }
   ],
   "source": [
    "# create a list of files to read in \n",
    "file_list = [data_dir + '/' + str(f) for f in os.listdir(data_dir)]\n",
    "\n",
    "print(file_list)\n",
    "# create a loading generator \n",
    "def load(file_list):\n",
    "    for path in file_list:\n",
    "        yield pd.read_csv(path, header=0)\n",
    "# loads all files into a list of data frams\n",
    "df_list = list(load(file_list))        \n",
    "# vertically stacks the data frames \n",
    "pd.concat(df_list)        "
   ]
  },
  {
   "cell_type": "code",
   "execution_count": 64,
   "metadata": {},
   "outputs": [
    {
     "data": {
      "text/plain": [
       "0"
      ]
     },
     "execution_count": 64,
     "metadata": {},
     "output_type": "execute_result"
    }
   ],
   "source": [
    "os.system('rm temp_data -r')  ## cleans up and remove the temp_data directory"
   ]
  }
 ],
 "metadata": {
  "kernelspec": {
   "display_name": "Python 3",
   "language": "python",
   "name": "python3"
  },
  "language_info": {
   "codemirror_mode": {
    "name": "ipython",
    "version": 3
   },
   "file_extension": ".py",
   "mimetype": "text/x-python",
   "name": "python",
   "nbconvert_exporter": "python",
   "pygments_lexer": "ipython3",
   "version": "3.6.7"
  }
 },
 "nbformat": 4,
 "nbformat_minor": 1
}
