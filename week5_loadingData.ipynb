{
 "cells": [
  {
   "cell_type": "markdown",
   "metadata": {
    "collapsed": true
   },
   "source": [
    "## CookBook on How to load data into python\n",
    "+ text Files\n",
    "+ csv files\n",
    "+ pickle files\n",
    "+ json files \n",
    "+ odds and ends \n"
   ]
  },
  {
   "cell_type": "code",
   "execution_count": 14,
   "metadata": {},
   "outputs": [],
   "source": [
    "# Writing lines of text to a text file Text file\n",
    "file_path = 'test.txt'\n",
    "with open(file_path, 'w') as f:  ## 'w' stands for 'write'\n",
    "    f.writelines('this is my test file \\n I am writting now in the second line')\n",
    "    "
   ]
  },
  {
   "cell_type": "code",
   "execution_count": 19,
   "metadata": {
    "collapsed": false
   },
   "outputs": [
    {
     "name": "stdout",
     "output_type": "stream",
     "text": [
      "['this is my test file \\n', ' I am writting now in the second line'] <class 'list'>\nthis is my test file \n  I am writting now in the second line\n"
     ]
    }
   ],
   "source": [
    "# Writing lines of text to a text file Text file\n",
    "with open(file_path, 'r') as f:  ## 'r' stands for 'read'\n",
    "    x = f.readlines()\n",
    "# read back file, as a list, where every line is an element of the list\n",
    "print(x, type(x))\n",
    "\n",
    "# entier list together as one string \n",
    "print(' '.join(x))\n"
   ]
  },
  {
   "cell_type": "code",
   "execution_count": 2,
   "metadata": {},
   "outputs": [
    {
     "name": "stdout",
     "output_type": "stream",
     "text": [
      "   Unnamed: 0    a    b\n0           0  1.0    x\n1           1  2.0    y\n2           2  NaN  NaN\n   0  1.0    x\n0  1  2.0    y\n1  2  NaN  NaN\n     a     b\n0  1.0     x\n1  2.0     y\n2  NaN  None\n"
     ]
    }
   ],
   "source": [
    "import pandas as pd\n",
    "import os\n",
    "\n",
    "df = pd.DataFrame({'a': [1, 2, None], 'b': ['x', 'y', None]})\n",
    "# save to csv \n",
    "df.to_csv('df.csv', header=True)\n",
    "\n",
    "\n",
    "# save to pickle\n",
    "df.to_pickle('df.pkl')\n",
    "\n",
    "df_loaded = pd.read_csv('df.csv')\n",
    "print(df_loaded)\n",
    "\n",
    "df_loaded = pd.read_csv('df.csv', header=1)\n",
    "print(df_loaded)\n",
    "\n",
    "df_loaded = pd.read_pickle('df.pkl')\n",
    "print(df_loaded)\n"
   ]
  },
  {
   "cell_type": "code",
   "execution_count": 3,
   "metadata": {},
   "outputs": [
    {
     "name": "stdout",
     "output_type": "stream",
     "text": [
      ",a,b\n 0,1.0,x\n 1,2.0,y\n 2,,\n\n"
     ]
    }
   ],
   "source": [
    "# show how pandas writes a csv file \n",
    "with open('df.csv', 'r') as f:  ## 'r' stands for 'read'\n",
    "    print(' '.join(f.readlines()))"
   ]
  },
  {
   "cell_type": "code",
   "execution_count": 4,
   "metadata": {},
   "outputs": [
    {
     "name": "stdout",
     "output_type": "stream",
     "text": [
      "   Unnamed: 0    a    b\n0           0  1.0    x\n1           1  2.0    y\n2           2  NaN  NaN\n"
     ]
    }
   ],
   "source": [
    "# Read Excel Data \n",
    "# needs  openpyxl to run, install with pip\n",
    "p = 'df.xlsx'\n",
    "df.to_excel(p)\n",
    "print(pd.read_excel(p))\n"
   ]
  }
 ],
 "metadata": {
  "kernelspec": {
   "display_name": "Python 2",
   "language": "python",
   "name": "python2"
  },
  "language_info": {
   "codemirror_mode": {
    "name": "ipython",
    "version": 2
   },
   "file_extension": ".py",
   "mimetype": "text/x-python",
   "name": "python",
   "nbconvert_exporter": "python",
   "pygments_lexer": "ipython2",
   "version": "2.7.6"
  }
 },
 "nbformat": 4,
 "nbformat_minor": 0
}
