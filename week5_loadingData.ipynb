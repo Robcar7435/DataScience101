{
 "cells": [
  {
   "cell_type": "markdown",
   "metadata": {
    "collapsed": true
   },
   "source": [
    "## CookBook on How to load data into python\n",
    "+ text Files\n",
    "+ csv files\n",
    "+ pickle files\n",
    "+ json files \n",
    "+ odds and ends \n"
   ]
  },
  {
   "cell_type": "code",
   "execution_count": 1,
   "metadata": {},
   "outputs": [],
   "source": [
    "# Writing lines of text to a text file Text file\n",
    "file_path = 'test.txt'\n",
    "with open(file_path, 'w') as f:  ## 'w' stands for 'write'\n",
    "    f.writelines('this is my test file \\n I am writting now in the second line')\n",
    "    "
   ]
  },
  {
   "cell_type": "code",
   "execution_count": 2,
   "metadata": {},
   "outputs": [
    {
     "name": "stdout",
     "output_type": "stream",
     "text": [
      "['this is my test file \\n', ' I am writting now in the second line'] <class 'list'>\n",
      "this is my test file \n",
      "  I am writting now in the second line\n"
     ]
    }
   ],
   "source": [
    "# Writing lines of text to a text file Text file\n",
    "with open(file_path, 'r') as f:  ## 'r' stands for 'read'\n",
    "    x = f.readlines()\n",
    "# read back file, as a list, where every line is an element of the list\n",
    "print(x, type(x))\n",
    "\n",
    "# entier list together as one string \n",
    "print(' '.join(x))\n"
   ]
  },
  {
   "cell_type": "markdown",
   "metadata": {},
   "source": [
    "#### Loading and Saving Data with Pandas \n",
    "pandas can handle mulitple formats both reading and writing data\n",
    "+ csv (comma sepearted file) is very common, not partitulary quick, but understandable way to load and save data\n",
    "    + if you have tsv (tab seperated data use ```sep='\\t'```\n",
    "    + occasionally en encoding needs to be specified as an arg ```encoding='utf-8'```\n",
    "+ pickle, is a serialized way to save data, is type safe but it basically endemic to python\n",
    "+ parquet is a relatively new format, is type safe and very fast to read and write"
   ]
  },
  {
   "cell_type": "code",
   "execution_count": 3,
   "metadata": {},
   "outputs": [
    {
     "name": "stdout",
     "output_type": "stream",
     "text": [
      "     a    b\n",
      "0  1.0    x\n",
      "1  2.0    y\n",
      "2  NaN  NaN\n",
      "     a     b\n",
      "0  1.0     x\n",
      "1  2.0     y\n",
      "2  NaN  None\n"
     ]
    }
   ],
   "source": [
    "import pandas as pd\n",
    "import os\n",
    "# create a data frame for testing\n",
    "df = pd.DataFrame({'a': [1, 2, None], 'b': ['x', 'y', None]})\n",
    "\n",
    "# write to csv \n",
    "df.to_csv('df.csv', header=True, index=False) # index=False, means no row numbers, header means write colnames\n",
    "\n",
    "# load from csv\n",
    "df_loaded = pd.read_csv('df.csv', header=0)\n",
    "print(df_loaded)\n",
    "\n",
    "# write to pickle\n",
    "df.to_pickle('df.pkl')\n",
    "\n",
    "# load from pickle \n",
    "df_loaded = pd.read_pickle('df.pkl')\n",
    "print(df_loaded)\n"
   ]
  },
  {
   "cell_type": "markdown",
   "metadata": {},
   "source": [
    "#### Pandas CSV Writer\n",
    "pandas writes to a csv file line per row, and can be opened with the line "
   ]
  },
  {
   "cell_type": "code",
   "execution_count": 4,
   "metadata": {},
   "outputs": [
    {
     "name": "stdout",
     "output_type": "stream",
     "text": [
      "a,b\n",
      " 1.0,x\n",
      " 2.0,y\n",
      " ,\n",
      "\n"
     ]
    }
   ],
   "source": [
    "# show how pandas writes a csv file \n",
    "with open('df.csv', 'r') as f:  ## 'r' stands for 'read'\n",
    "    print(' '.join(f.readlines()))"
   ]
  },
  {
   "cell_type": "markdown",
   "metadata": {},
   "source": [
    "\n",
    "#### load and save data in excel format\n",
    "thisn requires a packages to be installed first\n",
    "+ ```  pip install openpyxl ``` \n",
    "+ ```  pip install xlrd ``` "
   ]
  },
  {
   "cell_type": "code",
   "execution_count": 5,
   "metadata": {},
   "outputs": [
    {
     "name": "stdout",
     "output_type": "stream",
     "text": [
      "   Unnamed: 0    a    b\n",
      "0           0  1.0    x\n",
      "1           1  2.0    y\n",
      "2           2  NaN  NaN\n"
     ]
    }
   ],
   "source": [
    "# Read Excel Data \n",
    "# needs  openpyxl to run, install with pip\n",
    "p = 'df.xlsx'\n",
    "df.to_excel(p)\n",
    "print(pd.read_excel(p))\n"
   ]
  },
  {
   "cell_type": "markdown",
   "metadata": {},
   "source": [
    "#### Json data is essentally a dictionay\n",
    "Json data is stored as string, in a dictionary or dictionary of dictionaries format.  It's pretty universal for things like webrequest arguements, als it requires that json package\n",
    "\n",
    "\n"
   ]
  },
  {
   "cell_type": "code",
   "execution_count": 25,
   "metadata": {},
   "outputs": [
    {
     "name": "stdout",
     "output_type": "stream",
     "text": [
      "{'name': 'USS YorkTown', 'size': {'displacement': [27, 100], 'dims': [820, 93, 34]}}\n",
      "USS YorkTown\n"
     ]
    }
   ],
   "source": [
    "import json\n",
    "# saves json\n",
    "d = {'name': 'USS YorkTown', 'size':{'displacement':[27,100], 'dims':[820, 93,34]}}\n",
    "\n",
    "with open('df.json', 'w') as f:\n",
    "    json.dump(d, f, ensure_ascii=False, indent=4)\n",
    "    \n",
    "with open('df.json', 'r') as f:\n",
    "    ship = (json.load(f))\n",
    "print(ship)\n",
    "print(ship['name'])"
   ]
  }
 ],
 "metadata": {
  "kernelspec": {
   "display_name": "Python 3",
   "language": "python",
   "name": "python3"
  },
  "language_info": {
   "codemirror_mode": {
    "name": "ipython",
    "version": 3
   },
   "file_extension": ".py",
   "mimetype": "text/x-python",
   "name": "python",
   "nbconvert_exporter": "python",
   "pygments_lexer": "ipython3",
   "version": "3.6.7"
  }
 },
 "nbformat": 4,
 "nbformat_minor": 1
}
