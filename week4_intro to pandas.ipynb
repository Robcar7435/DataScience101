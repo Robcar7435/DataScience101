{
 "cells": [
  {
   "cell_type": "markdown",
   "metadata": {
    "collapsed": true
   },
   "source": [
    "## Week 2\n",
    "### Day 1 Python 3.6 installation with jupter notebooks\n",
    "\n",
    "### Day 2 Python Basics Continued\n",
    "\n",
    "    \n",
    "\n"
   ]
  },
  {
   "cell_type": "code",
   "execution_count": 1,
   "metadata": {},
   "outputs": [
    {
     "name": "stdout",
     "output_type": "stream",
     "text": [
      "(2229, 8)\n               Song Clean ARTIST CLEAN Release Year  \\\n0        Caught Up in You  .38 Special         1982   \n1            Fantasy Girl  .38 Special          NaN   \n2         Hold On Loosely  .38 Special         1981   \n3  Rockin' Into the Night  .38 Special         1980   \n4       Art For Arts Sake         10cc         1975   \n\n                                COMBINED  First?  Year?  PlayCount  F*G  \n0        Caught Up in You by .38 Special       1      1         82   82  \n1            Fantasy Girl by .38 Special       1      0          3    0  \n2         Hold On Loosely by .38 Special       1      1         85   85  \n3  Rockin' Into the Night by .38 Special       1      1         18   18  \n4              Art For Arts Sake by 10cc       1      1          1    1  \nSong Clean      object\nARTIST CLEAN    object\nRelease Year    object\nCOMBINED        object\nFirst?           int64\nYear?            int64\nPlayCount        int64\nF*G              int64\ndtype: object\n"
     ]
    }
   ],
   "source": [
    "# how to read a comma seperate file into panadas\n",
    "import pandas as pd\n",
    "file_name = '538/data/classic-rock/classic-rock-song-list.csv'\n",
    "data = pd.read_csv(file_name)\n",
    "\n",
    "# verifiy the shape\n",
    "print(data.shape)\n",
    "\n",
    "# show the top five rows of data'\n",
    "print(data.head(5))\n",
    "\n",
    "# show the data types\n",
    "print(data.dtypes)\n",
    "\n",
    "\n"
   ]
  },
  {
   "cell_type": "code",
   "execution_count": 2,
   "metadata": {},
   "outputs": [
    {
     "name": "stdout",
     "output_type": "stream",
     "text": [
      "       First?        Year?    PlayCount          F*G\ncount  2229.0  2229.000000  2229.000000  2229.000000\nmean      1.0     0.741140    16.879767    15.054733\nstd       0.0     0.438107    25.306415    25.292289\nmin       1.0     0.000000     0.000000     0.000000\n25%       1.0     0.000000     1.000000     0.000000\n50%       1.0     1.000000     4.000000     3.000000\n75%       1.0     1.000000    21.000000    18.000000\nmax       1.0     1.000000   142.000000   142.000000\n"
     ]
    }
   ],
   "source": [
    "# Get Basic Summary information about the data\n",
    "print(data.describe())"
   ]
  },
  {
   "cell_type": "code",
   "execution_count": 3,
   "metadata": {},
   "outputs": [
    {
     "name": "stdout",
     "output_type": "stream",
     "text": [
      "0    1\n1    0\n2    1\n3    1\n4    1\nName: Year?, dtype: int64\n1982\n0    1982\n1     NaN\nName: Release Year, dtype: object\n               Song Clean ARTIST CLEAN Release Year  \\\n267   More Than a Feeling       Boston         1976   \n269         Peace of Mind       Boston         1976   \n264  Foreplay (Long Time)       Boston         1976   \n262       Don't Look Back       Boston         1978   \n270      Rock & Roll Band       Boston         1976   \n\n                           COMBINED  First?  Year?  PlayCount  F*G  \n267   More Than a Feeling by Boston       1      1        134  134  \n269         Peace of Mind by Boston       1      1        132  132  \n264  Foreplay (Long Time) by Boston       1      1         94   94  \n262       Don't Look Back by Boston       1      1         86   86  \n270      Rock & Roll Band by Boston       1      1         59   59  \n"
     ]
    }
   ],
   "source": [
    "# Selecting Data \n",
    "col = 'ARTIST CLEAN'\n",
    "artist = 'Boston'\n",
    "\n",
    "# all rows from only a selected only a column\n",
    "print(data['Year?'].head())\n",
    "\n",
    "# Using Index iloc  (index locatoion method, in this case select the selection row 0, and column 2\n",
    "# index method needs to have a integers \n",
    "print(data.iloc[0, 2]) \n",
    "print(data.iloc[0:2, 2])\n",
    "\n",
    "# select data using the locate method \n",
    "# select a rows by column values (in this case only select rows where Boston is the Artist\n",
    "x = data.loc[data[col] == artist]\n",
    "\n",
    "\n",
    "# Sort the rows by playcounts \n",
    "\n",
    "x = x.sort_values('PlayCount', ascending=False)\n",
    "print(x.head())\n",
    "\n",
    "\n",
    "\n"
   ]
  },
  {
   "cell_type": "code",
   "execution_count": 11,
   "metadata": {},
   "outputs": [
    {
     "name": "stdout",
     "output_type": "stream",
     "text": [
      "Song Clean\nDream On                       142\nAll Along the Watchtower       141\nSweet Emotion                  141\nYou Shook Me All Night Long    138\nMore Than a Feeling            134\nName: PlayCount, dtype: int64\n"
     ]
    }
   ],
   "source": [
    "# Aggregating Data using group by\n",
    "# this demonstrates getting aggregation of playcounts by artists\n",
    "x = data.groupby(['Song Clean'])['PlayCount'].sum()\n",
    "\n",
    "# this takes the grouped data, sorts by values and returns the top 5 \n",
    "print(x.sort_values(ascending=False).head())\n",
    "\n",
    "\n",
    "\n",
    "\n",
    "\n"
   ]
  },
  {
   "cell_type": "code",
   "execution_count": 13,
   "metadata": {},
   "outputs": [
    {
     "name": "stdout",
     "output_type": "stream",
     "text": [
      "Song Clean\nCome Together        69\nRevolution           55\nGet Back             52\nA Day In The Life    31\nLet It Be            31\nName: PlayCount, dtype: int64\n"
     ]
    }
   ],
   "source": [
    "# combining grouping with filtering can be powerfull\n",
    "# filters to only the beatles\n",
    "x_filtered = data.loc[data['ARTIST CLEAN'] == 'The Beatles', :]\n",
    "\n",
    "# aggregates by playcounts\n",
    "x_grouped = x_filtered .groupby(['Song Clean'])['PlayCount'].sum()\n",
    "\n",
    "# sorts by play counts \n",
    "print(x_grouped.sort_values(ascending=False).head())\n",
    "\n",
    "# results is the top five play counts for Beatles songs\n",
    "\n"
   ]
  },
  {
   "cell_type": "code",
   "execution_count": null,
   "metadata": {},
   "outputs": [],
   "source": []
  }
 ],
 "metadata": {
  "kernelspec": {
   "display_name": "Python 2",
   "language": "python",
   "name": "python2"
  },
  "language_info": {
   "codemirror_mode": {
    "name": "ipython",
    "version": 2
   },
   "file_extension": ".py",
   "mimetype": "text/x-python",
   "name": "python",
   "nbconvert_exporter": "python",
   "pygments_lexer": "ipython2",
   "version": "2.7.6"
  }
 },
 "nbformat": 4,
 "nbformat_minor": 0
}
