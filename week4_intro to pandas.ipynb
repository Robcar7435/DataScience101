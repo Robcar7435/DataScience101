{
 "cells": [
  {
   "cell_type": "code",
   "execution_count": 2,
   "metadata": {},
   "outputs": [
    {
     "name": "stdout",
     "output_type": "stream",
     "text": [
      "b\nb\n"
     ]
    },
    {
     "data": {
      "text/plain": [
       "0    a\n1    b\n2    c\ndtype: object"
      ]
     },
     "execution_count": 2,
     "metadata": {},
     "output_type": "execute_result"
    }
   ],
   "source": [
    "# how to read a comma seperate file into panadas\n",
    "import pandas as pd\n",
    "\n",
    "# pandas series are 1 dimenssions arrays with some extara functins build in\n",
    "# indexes in pandas are typically integers, but could be other items\n",
    "\n",
    "x = pd.Series(['a', 'b', 'c'])\n",
    "# access elements similar to a list or array\n",
    "print(x[1])\n",
    "\n",
    "# demonstrates remapping the index \n",
    "x.index = ['x', 'y', 'z']\n",
    "print(x['y'])\n",
    "\n",
    "# iloc method for series still uses a integer index\n",
    "\n",
    "x.iloc[1]\n",
    "# demonstrates mode method\n",
    "x.mode()\n"
   ]
  },
  {
   "cell_type": "code",
   "execution_count": 8,
   "metadata": {},
   "outputs": [
    {
     "data": {
      "text/html": [
       "<div>\n",
       "<style scoped>\n",
       "    .dataframe tbody tr th:only-of-type {\n",
       "        vertical-align: middle;\n",
       "    }\n",
       "\n",
       "    .dataframe tbody tr th {\n",
       "        vertical-align: top;\n",
       "    }\n",
       "\n",
       "    .dataframe thead th {\n",
       "        text-align: right;\n",
       "    }\n",
       "</style>\n",
       "<table border=\"1\" class=\"dataframe\">\n",
       "  <thead>\n",
       "    <tr style=\"text-align: right;\">\n",
       "      <th></th>\n",
       "      <th>loc</th>\n",
       "      <th>time</th>\n",
       "      <th>variable</th>\n",
       "      <th>value</th>\n",
       "    </tr>\n",
       "  </thead>\n",
       "  <tbody>\n",
       "    <tr>\n",
       "      <th>0</th>\n",
       "      <td>relevator</td>\n",
       "      <td>afternoon</td>\n",
       "      <td>cost</td>\n",
       "      <td>4.25</td>\n",
       "    </tr>\n",
       "    <tr>\n",
       "      <th>1</th>\n",
       "      <td>relevator</td>\n",
       "      <td>afternoon</td>\n",
       "      <td>cost</td>\n",
       "      <td>3.25</td>\n",
       "    </tr>\n",
       "    <tr>\n",
       "      <th>2</th>\n",
       "      <td>kudu</td>\n",
       "      <td>morning</td>\n",
       "      <td>cost</td>\n",
       "      <td>3.43</td>\n",
       "    </tr>\n",
       "    <tr>\n",
       "      <th>3</th>\n",
       "      <td>work</td>\n",
       "      <td>morning</td>\n",
       "      <td>cost</td>\n",
       "      <td>2.00</td>\n",
       "    </tr>\n",
       "    <tr>\n",
       "      <th>4</th>\n",
       "      <td>home</td>\n",
       "      <td>morning</td>\n",
       "      <td>cost</td>\n",
       "      <td>0.25</td>\n",
       "    </tr>\n",
       "  </tbody>\n",
       "</table>\n",
       "</div>"
      ],
      "text/plain": [
       "<div>\n",
       "<style scoped>\n",
       "    .dataframe tbody tr th:only-of-type {\n",
       "        vertical-align: middle;\n",
       "    }\n",
       "\n",
       "    .dataframe tbody tr th {\n",
       "        vertical-align: top;\n",
       "    }\n",
       "\n",
       "    .dataframe thead th {\n",
       "        text-align: right;\n",
       "    }\n",
       "</style>\n",
       "<table border=\"1\" class=\"dataframe\">\n",
       "  <thead>\n",
       "    <tr style=\"text-align: right;\">\n",
       "      <th></th>\n",
       "      <th>loc</th>\n",
       "      <th>time</th>\n",
       "      <th>variable</th>\n",
       "      <th>value</th>\n",
       "    </tr>\n",
       "  </thead>\n",
       "  <tbody>\n",
       "    <tr>\n",
       "      <th>0</th>\n",
       "      <td>relevator</td>\n",
       "      <td>afternoon</td>\n",
       "      <td>cost</td>\n",
       "      <td>4.25</td>\n",
       "    </tr>\n",
       "    <tr>\n",
       "      <th>1</th>\n",
       "      <td>relevator</td>\n",
       "      <td>afternoon</td>\n",
       "      <td>cost</td>\n",
       "      <td>3.25</td>\n",
       "    </tr>\n",
       "    <tr>\n",
       "      <th>2</th>\n",
       "      <td>kudu</td>\n",
       "      <td>morning</td>\n",
       "      <td>cost</td>\n",
       "      <td>3.43</td>\n",
       "    </tr>\n",
       "    <tr>\n",
       "      <th>3</th>\n",
       "      <td>work</td>\n",
       "      <td>morning</td>\n",
       "      <td>cost</td>\n",
       "      <td>2.00</td>\n",
       "    </tr>\n",
       "    <tr>\n",
       "      <th>4</th>\n",
       "      <td>home</td>\n",
       "      <td>morning</td>\n",
       "      <td>cost</td>\n",
       "      <td>0.25</td>\n",
       "    </tr>\n",
       "  </tbody>\n",
       "</table>\n",
       "</div>"
      ]
     },
     "execution_count": 8,
     "metadata": {},
     "output_type": "execute_result"
    }
   ],
   "source": [
    "# pandas data frama is essentially a python version of a spreadsheet with all sorts of build in methods\n",
    "# consider\n",
    "# typically a data frame is initialized from a dictionary or csv file\n",
    "d = {'loc': ['relevator', 'relevator', 'kudu', 'work', 'home'],\n",
    "     'cost': [4.25, 3.25, 3.43, 2.00, 0.25],\n",
    "     'cups': [2, 1, 1, 2, 1],\n",
    "     'time': ['afternoon', 'afternoon', 'morning', 'morning', 'morning']}\n",
    "data = pd.DataFrame(d)\n",
    "\n",
    "# get data types\n",
    "data.dtypes\n",
    "\n",
    "# sort data by cost, and then time\n",
    "data.sort_values(['cost', 'loc'])\n",
    "\n",
    "# aggregate \n",
    "data['cost'].sum()\n",
    "\n",
    "# select only certain rows using loc method\n",
    "data.loc[data['loc'] == 'relevator']\n",
    "\n",
    "# select rows and columns using iloc method\n",
    "data.iloc[1:, 2]\n",
    "\n",
    "# Group by \n",
    "data.groupby(by='loc').sum()\n",
    "\n",
    "# melting (the opposite of group by\n",
    "x = data.melt(value_vars=['cups', 'cost'], id_vars='loc')\n"
   ]
  },
  {
   "cell_type": "code",
   "execution_count": 7,
   "metadata": {},
   "outputs": [
    {
     "name": "stdout",
     "output_type": "stream",
     "text": [
      "         loc  cost  cups       time            area\n0  relevator  4.25     2  afternoon  charleston pen\n1  relevator  3.25     1  afternoon  charleston pen\n2       kudu  3.43     1    morning  charleston pen\n3       work  2.00     2    morning      west ashly\n4       home  0.25     1    morning    james island\n"
     ]
    }
   ],
   "source": [
    "# Joining Data \n",
    "\n",
    "s = {'loc': ['relevator', 'kudu', 'work', 'daycare'],\n",
    "         'area': ['charleston pen', 'charleston pen', 'west ashly','west ashly']}\n",
    "places = pd.DataFrame(s)\n",
    "\n",
    "# consider\n",
    "# typically a data frame is initialized from a dictionary or csv file\n",
    "d = {'loc': ['relevator', 'relevator', 'kudu', 'work', 'home'],\n",
    "     'cost': [4.25, 3.25, 3.43, 2.00, 0.25],\n",
    "     'cups': [2, 1, 1, 2, 1],\n",
    "     'time': ['afternoon', 'afternoon', 'morning', 'morning', 'morning']}\n",
    "data = pd.DataFrame(d)\n",
    "## Inner Join (only commen elements based on a key\n",
    "# default\n",
    "\n",
    "print(data.merge(places))\n",
    "\n",
    "# left \n",
    "print(data.merge(places, how='left'))\n",
    "\n",
    "print(data.merge(places, how='right'))\n",
    "\n",
    "# outer all elements of all groups, fills with Nan by default.\n",
    "print(data.merge(places, how='outer'))\n",
    "\n"
   ]
  },
  {
   "cell_type": "markdown",
   "metadata": {
    "collapsed": true
   },
   "source": [
    "## Week 2\n",
    "### Day 1 Python 3.6 installation with jupter notebooks\n",
    "\n",
    "### Day 2 Python Basics Continued\n",
    "\n",
    "    \n",
    "\n"
   ]
  },
  {
   "cell_type": "code",
   "execution_count": 2,
   "metadata": {},
   "outputs": [
    {
     "name": "stdout",
     "output_type": "stream",
     "text": [
      "       First?        Year?    PlayCount          F*G\ncount  2229.0  2229.000000  2229.000000  2229.000000\nmean      1.0     0.741140    16.879767    15.054733\nstd       0.0     0.438107    25.306415    25.292289\nmin       1.0     0.000000     0.000000     0.000000\n25%       1.0     0.000000     1.000000     0.000000\n50%       1.0     1.000000     4.000000     3.000000\n75%       1.0     1.000000    21.000000    18.000000\nmax       1.0     1.000000   142.000000   142.000000\n"
     ]
    }
   ],
   "source": [
    "# Get Basic Summary information about the data\n",
    "print(data.describe())"
   ]
  },
  {
   "cell_type": "code",
   "execution_count": 3,
   "metadata": {},
   "outputs": [
    {
     "name": "stdout",
     "output_type": "stream",
     "text": [
      "0    1\n1    0\n2    1\n3    1\n4    1\nName: Year?, dtype: int64\n1982\n0    1982\n1     NaN\nName: Release Year, dtype: object\n               Song Clean ARTIST CLEAN Release Year  \\\n267   More Than a Feeling       Boston         1976   \n269         Peace of Mind       Boston         1976   \n264  Foreplay (Long Time)       Boston         1976   \n262       Don't Look Back       Boston         1978   \n270      Rock & Roll Band       Boston         1976   \n\n                           COMBINED  First?  Year?  PlayCount  F*G  \n267   More Than a Feeling by Boston       1      1        134  134  \n269         Peace of Mind by Boston       1      1        132  132  \n264  Foreplay (Long Time) by Boston       1      1         94   94  \n262       Don't Look Back by Boston       1      1         86   86  \n270      Rock & Roll Band by Boston       1      1         59   59  \n"
     ]
    }
   ],
   "source": [
    "# Selecting Data \n",
    "col = 'ARTIST CLEAN'\n",
    "artist = 'Boston'\n",
    "\n",
    "# all rows from only a selected only a column\n",
    "print(data['Year?'].head())\n",
    "\n",
    "# Using Index iloc  (index locatoion method, in this case select the selection row 0, and column 2\n",
    "# index method needs to have a integers \n",
    "print(data.iloc[0, 2]) \n",
    "print(data.iloc[0:2, 2])\n",
    "\n",
    "# select data using the locate method \n",
    "# select a rows by column values (in this case only select rows where Boston is the Artist\n",
    "x = data.loc[data[col] == artist]\n",
    "\n",
    "\n",
    "# Sort the rows by playcounts \n",
    "\n",
    "x = x.sort_values('PlayCount', ascending=False)\n",
    "print(x.head())\n",
    "\n",
    "\n",
    "\n"
   ]
  },
  {
   "cell_type": "code",
   "execution_count": 11,
   "metadata": {},
   "outputs": [
    {
     "name": "stdout",
     "output_type": "stream",
     "text": [
      "Song Clean\nDream On                       142\nAll Along the Watchtower       141\nSweet Emotion                  141\nYou Shook Me All Night Long    138\nMore Than a Feeling            134\nName: PlayCount, dtype: int64\n"
     ]
    }
   ],
   "source": [
    "# Aggregating Data using group by\n",
    "# this demonstrates getting aggregation of playcounts by artists\n",
    "x = data.groupby(['Song Clean'])['PlayCount'].sum()\n",
    "\n",
    "# this takes the grouped data, sorts by values and returns the top 5 \n",
    "print(x.sort_values(ascending=False).head())\n",
    "\n",
    "\n",
    "\n",
    "\n",
    "\n"
   ]
  },
  {
   "cell_type": "code",
   "execution_count": 13,
   "metadata": {},
   "outputs": [
    {
     "name": "stdout",
     "output_type": "stream",
     "text": [
      "Song Clean\nCome Together        69\nRevolution           55\nGet Back             52\nA Day In The Life    31\nLet It Be            31\nName: PlayCount, dtype: int64\n"
     ]
    }
   ],
   "source": [
    "# combining grouping with filtering can be powerfull\n",
    "# filters to only the beatles\n",
    "x_filtered = data.loc[data['ARTIST CLEAN'] == 'The Beatles', :]\n",
    "\n",
    "# aggregates by playcounts\n",
    "x_grouped = x_filtered .groupby(['Song Clean'])['PlayCount'].sum()\n",
    "\n",
    "# sorts by play counts \n",
    "print(x_grouped.sort_values(ascending=False).head())\n",
    "\n",
    "# results is the top five play counts for Beatles songs\n",
    "\n"
   ]
  },
  {
   "cell_type": "code",
   "execution_count": null,
   "metadata": {},
   "outputs": [],
   "source": []
  }
 ],
 "metadata": {
  "kernelspec": {
   "display_name": "Python 2",
   "language": "python",
   "name": "python2"
  },
  "language_info": {
   "codemirror_mode": {
    "name": "ipython",
    "version": 2
   },
   "file_extension": ".py",
   "mimetype": "text/x-python",
   "name": "python",
   "nbconvert_exporter": "python",
   "pygments_lexer": "ipython2",
   "version": "2.7.6"
  }
 },
 "nbformat": 4,
 "nbformat_minor": 0
}
