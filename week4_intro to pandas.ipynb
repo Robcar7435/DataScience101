{
 "cells": [
  {
   "cell_type": "markdown",
   "metadata": {},
   "source": [
    "## Introduction to Pandas \n",
    "pandas is a very robouts package that manages data in rows and columns as a data frame\n",
    "\n",
    "#### Pandas Series\n",
    "+ basically a souped up python list with aditional methods\n",
    "+ all the data in the series needs to be the same type, or is coerrced to the same type\n",
    "+ supports lots of methods of indexing, and filtering\n",
    "+ lists may be a range of integers (default) but can be much more complex\n"
   ]
  },
  {
   "cell_type": "code",
   "execution_count": null,
   "metadata": {},
   "outputs": [],
   "source": []
  },
  {
   "cell_type": "code",
   "execution_count": 47,
   "metadata": {},
   "outputs": [
    {
     "name": "stdout",
     "output_type": "stream",
     "text": [
      "indexing a series \"x[1]\" =  b\n",
      "replacing the index with a list of strings and indexing x[\"y\"] =  b\n",
      "this is how use use iloc to get the 1 position element \"x.iloc[1]\" =  b\n"
     ]
    },
    {
     "data": {
      "text/plain": [
       "dtype('O')"
      ]
     },
     "execution_count": 47,
     "metadata": {},
     "output_type": "execute_result"
    }
   ],
   "source": [
    "# how to read a comma seperate file into panadas\n",
    "import pandas as pd\n",
    "\n",
    "# pandas series are 1 dimenssions arrays with some extara functins build in\n",
    "# indexes in pandas are typically integers, but could be other items\n",
    "\n",
    "x = pd.Series(['a', 'b', 'c'])\n",
    "# access elements similar to a list or array\n",
    "print('indexing a series \"x[1]\" = ', x[1])\n",
    "\n",
    "# demonstrates remapping the index to another list\n",
    "x.index = ['x', 'y', 'z']\n",
    "print('replacing the index with a list of strings and indexing x[\"y\"] = ' , x['y'])\n",
    "\n",
    "# iloc method for series still uses a integer index\n",
    "\n",
    "print('this is how use use iloc to get the 1 position element \"x.iloc[1]\" = ', x.iloc[1])\n",
    "\n",
    "# prints out what the data is stored as\n",
    "x.dtype\n"
   ]
  },
  {
   "cell_type": "markdown",
   "metadata": {},
   "source": [
    "## Pandas Dataframes\n",
    "+ stores data in rows and columns\n",
    "+ each column must only have one data type\n",
    "+ columns or rows or both are indexable\n",
    "+ data frames are mutable\n",
    "\n",
    "### Data Shaping\n",
    " + .groupby(by='loc').sum() ensure that every unique value in the 'loc' column has a row, sum is applied to all numeric columns\n",
    " +\n",
    " "
   ]
  },
  {
   "cell_type": "code",
   "execution_count": 48,
   "metadata": {},
   "outputs": [
    {
     "name": "stdout",
     "output_type": "stream",
     "text": [
      "sum 13.18\n"
     ]
    },
    {
     "data": {
      "text/plain": [
       "1    1\n",
       "2    1\n",
       "3    2\n",
       "4    1\n",
       "Name: cups, dtype: int64"
      ]
     },
     "execution_count": 48,
     "metadata": {},
     "output_type": "execute_result"
    }
   ],
   "source": [
    "# pandas data frama is essentially a python version of a spreadsheet with all sorts of build in methods\n",
    "# consider\n",
    "# typically a data frame is initialized from a dictionary or csv file\n",
    "d = {'loc': ['relevator', 'relevator', 'kudu', 'work', 'home'],\n",
    "     'cost': [4.25, 3.25, 3.43, 2.00, 0.25],\n",
    "     'cups': [2, 1, 1, 2, 1],\n",
    "     'time': ['afternoon', 'afternoon', 'morning', 'morning', 'morning']}\n",
    "data = pd.DataFrame(d)\n",
    "\n",
    "# get data types\n",
    "data.dtypes\n",
    "\n",
    "# sort data by cost, and then time\n",
    "data.sort_values(['cost', 'loc'])\n",
    "\n",
    "# aggregate \n",
    "print('sum', data['cost'].sum())\n",
    "\n",
    "# select only certain rows using loc method\n",
    "data.loc[data['loc'] == 'relevator']\n",
    "\n",
    "# select rows and columns using iloc method\n",
    "data.iloc[1:, 2]\n"
   ]
  },
  {
   "cell_type": "markdown",
   "metadata": {},
   "source": [
    "###  Shaping - Advanced Selecting and Filtering using .loc\n",
    "+ multi condition filter using | or & (| stands for or, & for and)\n",
    "    + Syntax is:    data.loc[(data['colname'] == val) & (data['colname'] == val)]\n",
    "\n",
    "+ filtering where values are in a set in set \n",
    "+ fundimentally, .loc needs an array of True, False statements the same number of rows, that's what is being created in the methods inside the square brackets\n"
   ]
  },
  {
   "cell_type": "code",
   "execution_count": 49,
   "metadata": {},
   "outputs": [
    {
     "data": {
      "text/html": [
       "<div>\n",
       "<style scoped>\n",
       "    .dataframe tbody tr th:only-of-type {\n",
       "        vertical-align: middle;\n",
       "    }\n",
       "\n",
       "    .dataframe tbody tr th {\n",
       "        vertical-align: top;\n",
       "    }\n",
       "\n",
       "    .dataframe thead th {\n",
       "        text-align: right;\n",
       "    }\n",
       "</style>\n",
       "<table border=\"1\" class=\"dataframe\">\n",
       "  <thead>\n",
       "    <tr style=\"text-align: right;\">\n",
       "      <th></th>\n",
       "      <th>loc</th>\n",
       "      <th>cost</th>\n",
       "      <th>cups</th>\n",
       "      <th>time</th>\n",
       "    </tr>\n",
       "  </thead>\n",
       "  <tbody>\n",
       "    <tr>\n",
       "      <th>0</th>\n",
       "      <td>relevator</td>\n",
       "      <td>4.25</td>\n",
       "      <td>2</td>\n",
       "      <td>afternoon</td>\n",
       "    </tr>\n",
       "    <tr>\n",
       "      <th>4</th>\n",
       "      <td>home</td>\n",
       "      <td>0.25</td>\n",
       "      <td>1</td>\n",
       "      <td>morning</td>\n",
       "    </tr>\n",
       "  </tbody>\n",
       "</table>\n",
       "</div>"
      ],
      "text/plain": [
       "         loc  cost  cups       time\n",
       "0  relevator  4.25     2  afternoon\n",
       "4       home  0.25     1    morning"
      ]
     },
     "execution_count": 49,
     "metadata": {},
     "output_type": "execute_result"
    }
   ],
   "source": [
    "# for numeric values, great less than 1 or greater than 4\n",
    "data.loc[(data['cost'] < 1) | (data['cost'] > 4) ]"
   ]
  },
  {
   "cell_type": "code",
   "execution_count": 50,
   "metadata": {},
   "outputs": [
    {
     "data": {
      "text/html": [
       "<div>\n",
       "<style scoped>\n",
       "    .dataframe tbody tr th:only-of-type {\n",
       "        vertical-align: middle;\n",
       "    }\n",
       "\n",
       "    .dataframe tbody tr th {\n",
       "        vertical-align: top;\n",
       "    }\n",
       "\n",
       "    .dataframe thead th {\n",
       "        text-align: right;\n",
       "    }\n",
       "</style>\n",
       "<table border=\"1\" class=\"dataframe\">\n",
       "  <thead>\n",
       "    <tr style=\"text-align: right;\">\n",
       "      <th></th>\n",
       "      <th>loc</th>\n",
       "      <th>cost</th>\n",
       "      <th>cups</th>\n",
       "      <th>time</th>\n",
       "    </tr>\n",
       "  </thead>\n",
       "  <tbody>\n",
       "    <tr>\n",
       "      <th>0</th>\n",
       "      <td>relevator</td>\n",
       "      <td>4.25</td>\n",
       "      <td>2</td>\n",
       "      <td>afternoon</td>\n",
       "    </tr>\n",
       "    <tr>\n",
       "      <th>1</th>\n",
       "      <td>relevator</td>\n",
       "      <td>3.25</td>\n",
       "      <td>1</td>\n",
       "      <td>afternoon</td>\n",
       "    </tr>\n",
       "  </tbody>\n",
       "</table>\n",
       "</div>"
      ],
      "text/plain": [
       "         loc  cost  cups       time\n",
       "0  relevator  4.25     2  afternoon\n",
       "1  relevator  3.25     1  afternoon"
      ]
     },
     "execution_count": 50,
     "metadata": {},
     "output_type": "execute_result"
    }
   ],
   "source": [
    "# Location is Relivator and 1 and cost > 2\n",
    "data.loc[(data['loc'] == 'relevator') &  (data['cost'] > 2) ]"
   ]
  },
  {
   "cell_type": "code",
   "execution_count": 51,
   "metadata": {},
   "outputs": [
    {
     "data": {
      "text/html": [
       "<div>\n",
       "<style scoped>\n",
       "    .dataframe tbody tr th:only-of-type {\n",
       "        vertical-align: middle;\n",
       "    }\n",
       "\n",
       "    .dataframe tbody tr th {\n",
       "        vertical-align: top;\n",
       "    }\n",
       "\n",
       "    .dataframe thead th {\n",
       "        text-align: right;\n",
       "    }\n",
       "</style>\n",
       "<table border=\"1\" class=\"dataframe\">\n",
       "  <thead>\n",
       "    <tr style=\"text-align: right;\">\n",
       "      <th></th>\n",
       "      <th>loc</th>\n",
       "      <th>cost</th>\n",
       "      <th>cups</th>\n",
       "      <th>time</th>\n",
       "    </tr>\n",
       "  </thead>\n",
       "  <tbody>\n",
       "    <tr>\n",
       "      <th>0</th>\n",
       "      <td>relevator</td>\n",
       "      <td>4.25</td>\n",
       "      <td>2</td>\n",
       "      <td>afternoon</td>\n",
       "    </tr>\n",
       "    <tr>\n",
       "      <th>1</th>\n",
       "      <td>relevator</td>\n",
       "      <td>3.25</td>\n",
       "      <td>1</td>\n",
       "      <td>afternoon</td>\n",
       "    </tr>\n",
       "    <tr>\n",
       "      <th>2</th>\n",
       "      <td>kudu</td>\n",
       "      <td>3.43</td>\n",
       "      <td>1</td>\n",
       "      <td>morning</td>\n",
       "    </tr>\n",
       "    <tr>\n",
       "      <th>3</th>\n",
       "      <td>work</td>\n",
       "      <td>2.00</td>\n",
       "      <td>2</td>\n",
       "      <td>morning</td>\n",
       "    </tr>\n",
       "    <tr>\n",
       "      <th>4</th>\n",
       "      <td>home</td>\n",
       "      <td>0.25</td>\n",
       "      <td>1</td>\n",
       "      <td>morning</td>\n",
       "    </tr>\n",
       "  </tbody>\n",
       "</table>\n",
       "</div>"
      ],
      "text/plain": [
       "         loc  cost  cups       time\n",
       "0  relevator  4.25     2  afternoon\n",
       "1  relevator  3.25     1  afternoon\n",
       "2       kudu  3.43     1    morning\n",
       "3       work  2.00     2    morning\n",
       "4       home  0.25     1    morning"
      ]
     },
     "execution_count": 51,
     "metadata": {},
     "output_type": "execute_result"
    }
   ],
   "source": [
    "# Select time only where it's in list  ['afternoon', 'morning']\n",
    "data.loc[data['time'].isin( ['afternoon', 'morning'])]\n"
   ]
  },
  {
   "cell_type": "markdown",
   "metadata": {},
   "source": [
    "## Melting, collasping columns into rows\n",
    "the .melt(value_vars=['cups', 'cost'], id_vars='loc') will combine cups and cost into a column name varirable with a column call values to hold the the actual varlues\n",
    "\n"
   ]
  },
  {
   "cell_type": "code",
   "execution_count": 52,
   "metadata": {},
   "outputs": [
    {
     "name": "stdout",
     "output_type": "stream",
     "text": [
      "         loc variable  value\n",
      "0  relevator     cups    2.0\n",
      "1  relevator     cups    1.0\n",
      "2       kudu     cups    1.0\n",
      "3       work     cups    2.0\n",
      "4       home     cups    1.0\n"
     ]
    }
   ],
   "source": [
    "# melting (the opposite of group by\n",
    "x = data.melt(value_vars=['cups', 'cost'], id_vars='loc')\n",
    "print(x.head())"
   ]
  },
  {
   "cell_type": "markdown",
   "metadata": {},
   "source": [
    "## Pivoting, turning rows into columns\n",
    "+ maintains the same number of rows as the original data, \n",
    "+ the columns arg makes a new column for each unique in the column\n"
   ]
  },
  {
   "cell_type": "code",
   "execution_count": 53,
   "metadata": {},
   "outputs": [
    {
     "name": "stdout",
     "output_type": "stream",
     "text": [
      "time  afternoon  morning\n",
      "0           2.0      NaN\n",
      "1           1.0      NaN\n",
      "2           NaN      1.0\n",
      "3           NaN      2.0\n",
      "4           NaN      1.0\n"
     ]
    }
   ],
   "source": [
    "\n",
    "x = data.pivot(columns='time', values='cups')\n",
    "print(x)"
   ]
  },
  {
   "cell_type": "markdown",
   "metadata": {},
   "source": [
    "### Aggreation with pandas \n",
    "use the .groupby(by=) method, the by column means every unique value in the column with have one and only one row\n",
    "is followed by an aggreation function\n",
    "+ aggregation is applied to all numeric columns\n"
   ]
  },
  {
   "cell_type": "code",
   "execution_count": 54,
   "metadata": {},
   "outputs": [
    {
     "data": {
      "text/html": [
       "<div>\n",
       "<style scoped>\n",
       "    .dataframe tbody tr th:only-of-type {\n",
       "        vertical-align: middle;\n",
       "    }\n",
       "\n",
       "    .dataframe tbody tr th {\n",
       "        vertical-align: top;\n",
       "    }\n",
       "\n",
       "    .dataframe thead th {\n",
       "        text-align: right;\n",
       "    }\n",
       "</style>\n",
       "<table border=\"1\" class=\"dataframe\">\n",
       "  <thead>\n",
       "    <tr style=\"text-align: right;\">\n",
       "      <th></th>\n",
       "      <th>cost</th>\n",
       "      <th>cups</th>\n",
       "    </tr>\n",
       "    <tr>\n",
       "      <th>loc</th>\n",
       "      <th></th>\n",
       "      <th></th>\n",
       "    </tr>\n",
       "  </thead>\n",
       "  <tbody>\n",
       "    <tr>\n",
       "      <th>home</th>\n",
       "      <td>0.25</td>\n",
       "      <td>1</td>\n",
       "    </tr>\n",
       "    <tr>\n",
       "      <th>kudu</th>\n",
       "      <td>3.43</td>\n",
       "      <td>1</td>\n",
       "    </tr>\n",
       "    <tr>\n",
       "      <th>relevator</th>\n",
       "      <td>7.50</td>\n",
       "      <td>3</td>\n",
       "    </tr>\n",
       "    <tr>\n",
       "      <th>work</th>\n",
       "      <td>2.00</td>\n",
       "      <td>2</td>\n",
       "    </tr>\n",
       "  </tbody>\n",
       "</table>\n",
       "</div>"
      ],
      "text/plain": [
       "           cost  cups\n",
       "loc                  \n",
       "home       0.25     1\n",
       "kudu       3.43     1\n",
       "relevator  7.50     3\n",
       "work       2.00     2"
      ]
     },
     "execution_count": 54,
     "metadata": {},
     "output_type": "execute_result"
    }
   ],
   "source": [
    "data.groupby(by='loc').sum()"
   ]
  },
  {
   "cell_type": "markdown",
   "metadata": {},
   "source": [
    "## Joining with Pandas, using data.merge()\n",
    "+ .merge method joins two data sets together\n",
    "+ left_on='' right_on='' can specifiy specific keys for joining, else overlapping colnames are used \n",
    "+ 'how's specifies inner left, right, outer"
   ]
  },
  {
   "cell_type": "code",
   "execution_count": 55,
   "metadata": {},
   "outputs": [
    {
     "name": "stdout",
     "output_type": "stream",
     "text": [
      "inner join  \n",
      "          loc  cost  cups       time            area\n",
      "0  relevator  4.25     2  afternoon  charleston pen\n",
      "1  relevator  3.25     1  afternoon  charleston pen\n",
      "2       kudu  3.43     1    morning  charleston pen\n",
      "3       work  2.00     2    morning      west ashly\n",
      "left join  \n",
      "          loc  cost  cups       time            area\n",
      "0  relevator  4.25     2  afternoon  charleston pen\n",
      "1  relevator  3.25     1  afternoon  charleston pen\n",
      "2       kudu  3.43     1    morning  charleston pen\n",
      "3       work  2.00     2    morning      west ashly\n",
      "4       home  0.25     1    morning             NaN\n",
      "right join  \n",
      "          loc  cost  cups       time            area\n",
      "0  relevator  4.25   2.0  afternoon  charleston pen\n",
      "1  relevator  3.25   1.0  afternoon  charleston pen\n",
      "2       kudu  3.43   1.0    morning  charleston pen\n",
      "3       work  2.00   2.0    morning      west ashly\n",
      "4    daycare   NaN   NaN        NaN      west ashly\n",
      "outer join \n",
      "          loc  cost  cups       time            area\n",
      "0  relevator  4.25   2.0  afternoon  charleston pen\n",
      "1  relevator  3.25   1.0  afternoon  charleston pen\n",
      "2       kudu  3.43   1.0    morning  charleston pen\n",
      "3       work  2.00   2.0    morning      west ashly\n",
      "4       home  0.25   1.0    morning             NaN\n",
      "5    daycare   NaN   NaN        NaN      west ashly\n"
     ]
    }
   ],
   "source": [
    "# Joining Data \n",
    "\n",
    "s = {'loc': ['relevator', 'kudu', 'work', 'daycare'],\n",
    "         'area': ['charleston pen', 'charleston pen', 'west ashly','west ashly']}\n",
    "places = pd.DataFrame(s)\n",
    "\n",
    "# consider\n",
    "# typically a data frame is initialized from a dictionary or csv file\n",
    "d = {'loc': ['relevator', 'relevator', 'kudu', 'work', 'home'],\n",
    "     'cost': [4.25, 3.25, 3.43, 2.00, 0.25],\n",
    "     'cups': [2, 1, 1, 2, 1],\n",
    "     'time': ['afternoon', 'afternoon', 'morning', 'morning', 'morning']}\n",
    "data = pd.DataFrame(d)\n",
    "## Inner Join (only commen elements based on a key\n",
    "# default\n",
    "\n",
    "print('inner join  \\n', data.merge(places))\n",
    "\n",
    "# left \n",
    "print('left join  \\n', data.merge(places, how='left'))\n",
    "\n",
    "print('right join  \\n', data.merge(places, how='right'))\n",
    "\n",
    "# outer all elements of all groups, fills with Nan by default.\n",
    "print('outer join \\n', data.merge(places, how='outer'))\n",
    "\n"
   ]
  },
  {
   "cell_type": "markdown",
   "metadata": {
    "collapsed": true
   },
   "source": [
    "## Week 2\n",
    "### Day 1 Python 3.6 installation with jupter notebooks\n",
    "\n",
    "### Day 2 Python Basics Continued\n",
    "+ requesting data from git hub via pandas, using a url\n",
    "+ Make sure to request the  'raw' data, not just the html that's displaying the data (when requesting on git)\n"
   ]
  },
  {
   "cell_type": "code",
   "execution_count": 56,
   "metadata": {},
   "outputs": [
    {
     "data": {
      "text/html": [
       "<div>\n",
       "<style scoped>\n",
       "    .dataframe tbody tr th:only-of-type {\n",
       "        vertical-align: middle;\n",
       "    }\n",
       "\n",
       "    .dataframe tbody tr th {\n",
       "        vertical-align: top;\n",
       "    }\n",
       "\n",
       "    .dataframe thead th {\n",
       "        text-align: right;\n",
       "    }\n",
       "</style>\n",
       "<table border=\"1\" class=\"dataframe\">\n",
       "  <thead>\n",
       "    <tr style=\"text-align: right;\">\n",
       "      <th></th>\n",
       "      <th>congress</th>\n",
       "      <th>chamber</th>\n",
       "      <th>bioguide</th>\n",
       "      <th>firstname</th>\n",
       "      <th>middlename</th>\n",
       "      <th>lastname</th>\n",
       "      <th>suffix</th>\n",
       "      <th>birthday</th>\n",
       "      <th>state</th>\n",
       "      <th>party</th>\n",
       "      <th>incumbent</th>\n",
       "      <th>termstart</th>\n",
       "      <th>age</th>\n",
       "    </tr>\n",
       "  </thead>\n",
       "  <tbody>\n",
       "    <tr>\n",
       "      <th>0</th>\n",
       "      <td>80</td>\n",
       "      <td>house</td>\n",
       "      <td>M000112</td>\n",
       "      <td>Joseph</td>\n",
       "      <td>Jefferson</td>\n",
       "      <td>Mansfield</td>\n",
       "      <td>NaN</td>\n",
       "      <td>1861-02-09</td>\n",
       "      <td>TX</td>\n",
       "      <td>D</td>\n",
       "      <td>Yes</td>\n",
       "      <td>1947-01-03</td>\n",
       "      <td>85.9</td>\n",
       "    </tr>\n",
       "    <tr>\n",
       "      <th>1</th>\n",
       "      <td>80</td>\n",
       "      <td>house</td>\n",
       "      <td>D000448</td>\n",
       "      <td>Robert</td>\n",
       "      <td>Lee</td>\n",
       "      <td>Doughton</td>\n",
       "      <td>NaN</td>\n",
       "      <td>1863-11-07</td>\n",
       "      <td>NC</td>\n",
       "      <td>D</td>\n",
       "      <td>Yes</td>\n",
       "      <td>1947-01-03</td>\n",
       "      <td>83.2</td>\n",
       "    </tr>\n",
       "    <tr>\n",
       "      <th>2</th>\n",
       "      <td>80</td>\n",
       "      <td>house</td>\n",
       "      <td>S000001</td>\n",
       "      <td>Adolph</td>\n",
       "      <td>Joachim</td>\n",
       "      <td>Sabath</td>\n",
       "      <td>NaN</td>\n",
       "      <td>1866-04-04</td>\n",
       "      <td>IL</td>\n",
       "      <td>D</td>\n",
       "      <td>Yes</td>\n",
       "      <td>1947-01-03</td>\n",
       "      <td>80.7</td>\n",
       "    </tr>\n",
       "    <tr>\n",
       "      <th>3</th>\n",
       "      <td>80</td>\n",
       "      <td>house</td>\n",
       "      <td>E000023</td>\n",
       "      <td>Charles</td>\n",
       "      <td>Aubrey</td>\n",
       "      <td>Eaton</td>\n",
       "      <td>NaN</td>\n",
       "      <td>1868-03-29</td>\n",
       "      <td>NJ</td>\n",
       "      <td>R</td>\n",
       "      <td>Yes</td>\n",
       "      <td>1947-01-03</td>\n",
       "      <td>78.8</td>\n",
       "    </tr>\n",
       "    <tr>\n",
       "      <th>4</th>\n",
       "      <td>80</td>\n",
       "      <td>house</td>\n",
       "      <td>L000296</td>\n",
       "      <td>William</td>\n",
       "      <td>NaN</td>\n",
       "      <td>Lewis</td>\n",
       "      <td>NaN</td>\n",
       "      <td>1868-09-22</td>\n",
       "      <td>KY</td>\n",
       "      <td>R</td>\n",
       "      <td>No</td>\n",
       "      <td>1947-01-03</td>\n",
       "      <td>78.3</td>\n",
       "    </tr>\n",
       "  </tbody>\n",
       "</table>\n",
       "</div>"
      ],
      "text/plain": [
       "   congress chamber bioguide firstname middlename   lastname suffix  \\\n",
       "0        80   house  M000112    Joseph  Jefferson  Mansfield    NaN   \n",
       "1        80   house  D000448    Robert        Lee   Doughton    NaN   \n",
       "2        80   house  S000001    Adolph    Joachim     Sabath    NaN   \n",
       "3        80   house  E000023   Charles     Aubrey      Eaton    NaN   \n",
       "4        80   house  L000296   William        NaN      Lewis    NaN   \n",
       "\n",
       "     birthday state party incumbent   termstart   age  \n",
       "0  1861-02-09    TX     D       Yes  1947-01-03  85.9  \n",
       "1  1863-11-07    NC     D       Yes  1947-01-03  83.2  \n",
       "2  1866-04-04    IL     D       Yes  1947-01-03  80.7  \n",
       "3  1868-03-29    NJ     R       Yes  1947-01-03  78.8  \n",
       "4  1868-09-22    KY     R        No  1947-01-03  78.3  "
      ]
     },
     "execution_count": 56,
     "metadata": {},
     "output_type": "execute_result"
    }
   ],
   "source": [
    "## loads congressional age data set\n",
    "import pandas as pd\n",
    "\n",
    "url = 'https://raw.githubusercontent.com/fivethirtyeight/data/master/congress-age/congress-terms.csv'\n",
    "data = pd.read_csv(url)\n",
    "data.head()"
   ]
  },
  {
   "cell_type": "markdown",
   "metadata": {},
   "source": [
    "#### Aggreations in Action\n",
    "Is the house or the senate older? \n"
   ]
  },
  {
   "cell_type": "code",
   "execution_count": 57,
   "metadata": {},
   "outputs": [
    {
     "data": {
      "text/plain": [
       "chamber\n",
       "house     52.366611\n",
       "senate    57.335529\n",
       "Name: age, dtype: float64"
      ]
     },
     "execution_count": 57,
     "metadata": {},
     "output_type": "execute_result"
    }
   ],
   "source": [
    "data.groupby('chamber').mean()['age']"
   ]
  },
  {
   "cell_type": "markdown",
   "metadata": {},
   "source": [
    "#### Aggregation combined with filtering, and sorting to answer questions\n",
    "What was the congressional Term with the oldest House Members?\n",
    "\n"
   ]
  },
  {
   "cell_type": "code",
   "execution_count": 58,
   "metadata": {},
   "outputs": [
    {
     "data": {
      "text/html": [
       "<div>\n",
       "<style scoped>\n",
       "    .dataframe tbody tr th:only-of-type {\n",
       "        vertical-align: middle;\n",
       "    }\n",
       "\n",
       "    .dataframe tbody tr th {\n",
       "        vertical-align: top;\n",
       "    }\n",
       "\n",
       "    .dataframe thead th {\n",
       "        text-align: right;\n",
       "    }\n",
       "</style>\n",
       "<table border=\"1\" class=\"dataframe\">\n",
       "  <thead>\n",
       "    <tr style=\"text-align: right;\">\n",
       "      <th></th>\n",
       "      <th>age</th>\n",
       "    </tr>\n",
       "    <tr>\n",
       "      <th>congress</th>\n",
       "      <th></th>\n",
       "    </tr>\n",
       "  </thead>\n",
       "  <tbody>\n",
       "    <tr>\n",
       "      <th>113</th>\n",
       "      <td>56.754214</td>\n",
       "    </tr>\n",
       "  </tbody>\n",
       "</table>\n",
       "</div>"
      ],
      "text/plain": [
       "                age\n",
       "congress           \n",
       "113       56.754214"
      ]
     },
     "execution_count": 58,
     "metadata": {},
     "output_type": "execute_result"
    }
   ],
   "source": [
    "data[data['chamber'] == 'house'].groupby('congress').mean().sort_values('age').tail(1)\n"
   ]
  },
  {
   "cell_type": "markdown",
   "metadata": {},
   "source": [
    "\n",
    "#### Aggregation Combined with Pivoting and filtering\n",
    "Are the democrates or republicans older in the last three congresses ?\n"
   ]
  },
  {
   "cell_type": "code",
   "execution_count": 59,
   "metadata": {},
   "outputs": [
    {
     "data": {
      "text/html": [
       "<div>\n",
       "<style scoped>\n",
       "    .dataframe tbody tr th:only-of-type {\n",
       "        vertical-align: middle;\n",
       "    }\n",
       "\n",
       "    .dataframe tbody tr th {\n",
       "        vertical-align: top;\n",
       "    }\n",
       "\n",
       "    .dataframe thead th {\n",
       "        text-align: right;\n",
       "    }\n",
       "</style>\n",
       "<table border=\"1\" class=\"dataframe\">\n",
       "  <thead>\n",
       "    <tr style=\"text-align: right;\">\n",
       "      <th></th>\n",
       "      <th></th>\n",
       "      <th>age</th>\n",
       "    </tr>\n",
       "    <tr>\n",
       "      <th>party</th>\n",
       "      <th>congress</th>\n",
       "      <th></th>\n",
       "    </tr>\n",
       "  </thead>\n",
       "  <tbody>\n",
       "    <tr>\n",
       "      <th rowspan=\"5\" valign=\"top\">D</th>\n",
       "      <th>80</th>\n",
       "      <td>52.006883</td>\n",
       "    </tr>\n",
       "    <tr>\n",
       "      <th>81</th>\n",
       "      <td>51.430303</td>\n",
       "    </tr>\n",
       "    <tr>\n",
       "      <th>82</th>\n",
       "      <td>52.295890</td>\n",
       "    </tr>\n",
       "    <tr>\n",
       "      <th>83</th>\n",
       "      <td>52.258029</td>\n",
       "    </tr>\n",
       "    <tr>\n",
       "      <th>84</th>\n",
       "      <td>52.254861</td>\n",
       "    </tr>\n",
       "  </tbody>\n",
       "</table>\n",
       "</div>"
      ],
      "text/plain": [
       "                      age\n",
       "party congress           \n",
       "D     80        52.006883\n",
       "      81        51.430303\n",
       "      82        52.295890\n",
       "      83        52.258029\n",
       "      84        52.254861"
      ]
     },
     "execution_count": 59,
     "metadata": {},
     "output_type": "execute_result"
    }
   ],
   "source": [
    "data_filtered = data[data['party'].str.contains('D|R')]  ## cpntains 'D' or 'R' to get rid of independents\n",
    "data_pivoted = data_filtered.groupby(['party', 'congress']).mean()\n",
    "data_pivoted.head()"
   ]
  },
  {
   "cell_type": "markdown",
   "metadata": {},
   "source": []
  }
 ],
 "metadata": {
  "kernelspec": {
   "display_name": "Python 3",
   "language": "python",
   "name": "python3"
  },
  "language_info": {
   "codemirror_mode": {
    "name": "ipython",
    "version": 3
   },
   "file_extension": ".py",
   "mimetype": "text/x-python",
   "name": "python",
   "nbconvert_exporter": "python",
   "pygments_lexer": "ipython3",
   "version": "3.6.5"
  }
 },
 "nbformat": 4,
 "nbformat_minor": 1
}
