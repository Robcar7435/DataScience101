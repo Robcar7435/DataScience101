{
 "cells": [
  {
   "cell_type": "markdown",
   "metadata": {},
   "source": [
    "### Very Basic intro to python for Data Science\n",
    "    \n",
    "### This is markdown \n",
    "Home work\n",
    "Watch and follow allong with all videos from Python Funditmentals to Function Default Parameters\n",
    "\n",
    "\n",
    "https://pythonprogramming.net/function-parameter-defaults-python-3-basics/\n",
    "\n",
    "\n",
    "\n",
    "### Fire up a Jupter notebook\n",
    "* pip3 install --upgrade pip\n",
    "* pip3 install jupyter\n",
    "\n",
    "\n",
    "#### If pip is not found\n",
    "ensure python\\Scripts diretory is in path\n",
    "https://www.techwalla.com/articles/how-to-set-your-python-path\n",
    "\n",
    "#### Python Style Guide\n",
    "https://www.python.org/dev/peps/pep-0008/\n",
    "\n",
    "\n",
    "\n",
    "    "
   ]
  },
  {
   "cell_type": "markdown",
   "metadata": {},
   "source": [
    "* install python 3.6\n",
    "* set python in path\n",
    "    + windows: https://www.pythoncentral.io/add-python-to-path-python-is-not-recognized-as-an-internal-or-external-command/\n",
    "    + mac:  https://stackoverflow.com/questions/18567472/how-to-set-pythonpath-in-os-x\n",
    "* pip install  pandas, numpy sci kit learn, matplot lib, keras, tensorflow\n",
    "* install jupyter notebooks.\n",
    "* Python Basic \n",
    "https://pythonprogramming.net/introduction-to-python-programming/\n",
    "\n",
    "\n",
    "\n",
    "\n"
   ]
  },
  {
   "cell_type": "markdown",
   "metadata": {},
   "source": [
    "##### Runing a Jupyter Notebook in Pycharm\n",
    "+ from command promt type 'jupyet notebook' ,  this starts the juypter server\n",
    "+ copy the http:\\\\.... link that is under neith where it says that jupyter is running.\n",
    "+ click green button above notebook in pycharm, this triggers a prompt to paste in the link to the notebook server.\n",
    "\n"
   ]
  },
  {
   "cell_type": "code",
   "execution_count": null,
   "metadata": {},
   "outputs": [],
   "source": []
  },
  {
   "cell_type": "code",
   "execution_count": 3,
   "metadata": {
    "collapsed": true
   },
   "outputs": [
    {
     "name": "stdout",
     "output_type": "stream",
     "text": [
      "hello world hello again \n",
      " list some numbers[1, 2, 3]\n"
     ]
    }
   ],
   "source": [
    "# print statements\n",
    "print('hello world', 'hello again \\n', f'list some numbers{[1,2,3]}')"
   ]
  },
  {
   "cell_type": "markdown",
   "metadata": {},
   "source": [
    "This is my awesome notebook"
   ]
  },
  {
   "cell_type": "code",
   "execution_count": 5,
   "metadata": {},
   "outputs": [
    {
     "name": "stdout",
     "output_type": "stream",
     "text": [
      "<class 'int'>\n"
     ]
    },
    {
     "data": {
      "text/plain": [
       "4"
      ]
     },
     "execution_count": 5,
     "metadata": {},
     "output_type": "execute_result"
    }
   ],
   "source": [
    "# basic of syntax and store of variables\n",
    "# python is space and indent sensitive \n",
    "# everything in python is essentially an object, with methods\n",
    "# python is backed by C, and \n",
    "print(type(12))\n",
    "a = 12\n",
    "a.bit_length() # measures the bit length of a int"
   ]
  },
  {
   "cell_type": "code",
   "execution_count": 13,
   "metadata": {},
   "outputs": [
    {
     "name": "stdout",
     "output_type": "stream",
     "text": [
      "[1, 2, 3]\n",
      "[None, 2, 3]\n",
      "None\n",
      "3\n",
      "[None, 2, 3, 'this is the end'] after appending\n",
      "[None, 2, 3, 'this is the end', None, 2, 3, 'this is the end']\n"
     ]
    }
   ],
   "source": [
    "# python lists\n",
    "# are mutable and the values inside a list are indexed (ordered\n",
    "m = [1, 2, 3]\n",
    "print(m)\n",
    "a = m\n",
    "a[0] = None\n",
    "print(m)\n",
    "# to access elements of a list, use indexing\n",
    "print(m[0])  # first element\n",
    "print(m[-1]) # last element\n",
    "m.append('this is the end') # add an element to a list\n",
    "print(m, 'after appending')\n",
    "print(m * 2) ## multiplying a list\n",
    "\n",
    "\n",
    "# using enumerate to access a list\n",
    "print([(i,j ) for i, j in enumerate(['a', 'b', 'c'])])\n"
   ]
  },
  {
   "cell_type": "code",
   "execution_count": 8,
   "metadata": {},
   "outputs": [
    {
     "name": "stdout",
     "output_type": "stream",
     "text": [
      "(1, 2, 3)\n"
     ]
    }
   ],
   "source": [
    "# tuples are similar to lists, however are not mutable, and don't support index assignment\n",
    "t = (1,2,3)\n",
    "try: \n",
    "    t[1] = 9\n",
    "except :\n",
    "    print(t)\n"
   ]
  },
  {
   "cell_type": "code",
   "execution_count": 10,
   "metadata": {},
   "outputs": [
    {
     "name": "stdout",
     "output_type": "stream",
     "text": [
      "dict_keys(['x', 'y']) dict_values([[1, 2, 3], ['val0', 'val1']])\n",
      "{'x': None, 'y': ['val0', 'val1']}\n"
     ]
    }
   ],
   "source": [
    "# dictionaries are storage type for key, value pars\n",
    "# every key must be unique\n",
    "# the values could themseleves be lists or tuples\n",
    "d = {'x': [1,2,3], 'y': ['val0', 'val1']}\n",
    "print(d.keys(), d.values())\n",
    "# dictionaries are mutabable and accessed by their respective keys\n",
    "\n",
    "y = d\n",
    "y['x'] = None\n",
    "print(d)\n",
    "\n"
   ]
  },
  {
   "cell_type": "code",
   "execution_count": 32,
   "metadata": {},
   "outputs": [
    {
     "name": "stdout",
     "output_type": "stream",
     "text": [
      "{4, 5}\n",
      "{3}\n"
     ]
    }
   ],
   "source": [
    "# sets are storage objects where every element is unique, are non mutable and do not support\n",
    "# index\n",
    "# however the have lots of handy methods\n",
    "a = set((1, 2, 3))\n",
    "b = set((3, 4, 5))\n",
    "print(b.difference(a))  # elements in b that are not in a\n",
    "print(b.intersection(a)) # elements in both sets"
   ]
  },
  {
   "cell_type": "code",
   "execution_count": 36,
   "metadata": {},
   "outputs": [
    {
     "name": "stdout",
     "output_type": "stream",
     "text": [
      "[0, 1, 2, 3]\n",
      "[4, 6, 8]\n",
      "[10, 8, 6, 4]\n"
     ]
    }
   ],
   "source": [
    "# ranges generate numbers between a certain range with a step size\n",
    "# for example\n",
    "print(list(range(4)))  # returns a list of values when list is called to a range\n",
    "print(list(range(4, 10, 2)))\n",
    "print(list(range(10, 2, -2)))"
   ]
  },
  {
   "cell_type": "code",
   "execution_count": 43,
   "metadata": {},
   "outputs": [
    {
     "name": "stdout",
     "output_type": "stream",
     "text": [
      "[0, 1, 4, 9, 16]\n",
      "[0, 1, 4, 9, 16]\n",
      "[0, 1, 4, 9, 16]\n"
     ]
    }
   ],
   "source": [
    "# for loops with list comprehension\n",
    "v = [i*i for i in range(5)]\n",
    "print(v)\n",
    "\n",
    "# different method for using a for loop\n",
    "v = []\n",
    "for i in range(5):\n",
    "    v.append(i * i)\n",
    "print(v)\n",
    "\n",
    "# while loops\n",
    "i = 0\n",
    "v = []\n",
    "while i < 5:\n",
    "    v.append(i * i)\n",
    "    i += 1 \n",
    "print(v)\n",
    "\n",
    "# loops are slow in python"
   ]
  },
  {
   "cell_type": "code",
   "execution_count": 1,
   "metadata": {},
   "outputs": [
    {
     "name": "stdout",
     "output_type": "stream",
     "text": [
      "[False, False, False, True, True]\n",
      "[False, False, False, True, True]\n"
     ]
    }
   ],
   "source": [
    "# if else logic\n",
    "print([True if i > 2 else False for i in range(5)])\n",
    "\n",
    "x = []\n",
    "# inside a loop \n",
    "for i in range(5):\n",
    "    if i > 2:\n",
    "        x.append(True)\n",
    "    else:\n",
    "        x.append(False)\n",
    "print(x)"
   ]
  },
  {
   "cell_type": "code",
   "execution_count": 3,
   "metadata": {},
   "outputs": [],
   "source": [
    "# functions\n",
    "def greetings(x):\n",
    "    '''\n",
    "    \n",
    "    :param x: string\n",
    "    :return: string\n",
    "    '''\n",
    "    return 'hello ' + str(x) + ', how was your weekend?'\n",
    "\n",
    "print(greetings('Bill Murray'))\n",
    "    \n",
    "\n",
    "# functions with parameters \n",
    "\n",
    "def coffee(name, n=2):\n",
    "    # demonstrates and F string. \n",
    "    return f'{name} had {n} cups of coffee today'\n",
    "\n",
    "print(coffee('Professor Davis'))\n",
    "print(coffee('Professor Davis', 3))\n"
   ]
  },
  {
   "cell_type": "code",
   "execution_count": 14,
   "metadata": {},
   "outputs": [
    {
     "name": "stdout",
     "output_type": "stream",
     "text": [
      "[1, 4, 9]\n",
      "9\n"
     ]
    }
   ],
   "source": [
    "# lambda are on the fly functions that don't need to be stored (ie used one)\n",
    "# when combined with map, it applies all operations to a list \n",
    "# they are applied to a list\n",
    "# list operator on my needs to be called to get values out of the map object.\n",
    "my_list = [1, 2, 3]\n",
    "x = map(lambda x: x * x, my_list) \n",
    "print(list(x))\n",
    "\n",
    "\n",
    "# lambda can also be used as a normal function\n",
    "f = lambda x: x * x\n",
    "print(f(my_list[2]))\n",
    "\n"
   ]
  },
  {
   "cell_type": "markdown",
   "metadata": {},
   "source": [
    "#### Imports and Code Modules\n",
    "+ python functions and classes can be saved in a .py file and directly imported laters\n",
    "+ when multiple .py files can be combined in a directory and installed together, this essentialled becomes a python pacakge (although there are some additional files that need to be added as well)\n",
    "#### importing code syntax"
   ]
  },
  {
   "cell_type": "code",
   "execution_count": 12,
   "metadata": {},
   "outputs": [
    {
     "data": {
      "text/plain": [
       "'C:\\\\Users\\\\Matthew\\\\PycharmProjects\\\\DataScience_101'"
      ]
     },
     "execution_count": 12,
     "metadata": {},
     "output_type": "execute_result"
    }
   ],
   "source": [
    "## imports and entier module, to use later reference the import and functions you need\n",
    "\n",
    "import os\n",
    "os.getcwd() ## returns the working directory of the python as a string\n",
    "\n",
    "## you can also import funcitons directing using\n",
    "from os import getcwd\n",
    "getcwd()  ##\n",
    "\n"
   ]
  },
  {
   "cell_type": "markdown",
   "metadata": {},
   "source": [
    "#### Python Classes Store methods (functions) and data\n",
    "+ Classes are a very common way to use code\n",
    "+ each class has a init, which is what happens when the class is intialized\n",
    "+ classes can be state full and persisint, if desicn\n",
    "+ methods can be access insde the class.\n",
    "+ classes also tpyically have help built into them"
   ]
  },
  {
   "cell_type": "code",
   "execution_count": 11,
   "metadata": {},
   "outputs": [
    {
     "name": "stdout",
     "output_type": "stream",
     "text": [
      "hello Bill Murray, how was your weekend?\n",
      "hello Steven Hawkings, how was your weekend?\n"
     ]
    },
    {
     "data": {
      "text/plain": [
       "{'Bill Murray', 'Steven Hawkings'}"
      ]
     },
     "execution_count": 11,
     "metadata": {},
     "output_type": "execute_result"
    }
   ],
   "source": [
    "# python classes, used to store multiple methods, and statefull data\n",
    "# store data and methods:\n",
    "\n",
    "class Greeter:\n",
    "    '''\n",
    "    A class to demonstrate how to uses classes \n",
    "    functions are defined inside the class, and must contain and init function\n",
    "    (thats used to initialize the class)\n",
    "    '''\n",
    "    def __init__(self):\n",
    "        '''\n",
    "        the init intializes the class\n",
    "        g = Greater()\n",
    "        in this case, only sets up a dictionary inside self\n",
    "        by convention, self is used \n",
    "        '''\n",
    "        self._people_met = set()\n",
    "        pass\n",
    "    \n",
    "    def greetings(self, name):\n",
    "        '''\n",
    "        returns a greating, and saves whoever was met.\n",
    "        :param name: str  \n",
    "        :return: str\n",
    "        '''\n",
    "        self._people_met.add(name)\n",
    "        return 'hello ' + str(name) + ', how was your weekend?'\n",
    "    \n",
    "    def get_people(self):\n",
    "        '''\n",
    "        \n",
    "        :return: a set of people met\n",
    "        '''\n",
    "        return self._people_met\n",
    "\n",
    "\n",
    "g = Greeter()\n",
    "print(g.greetings('Bill Murray'))\n",
    "print(g.greetings('Steven Hawkings'))\n",
    "g.get_people()\n"
   ]
  },
  {
   "cell_type": "code",
   "execution_count": 17,
   "metadata": {},
   "outputs": [
    {
     "name": "stdout",
     "output_type": "stream",
     "text": [
      "I want a latte\n",
      "I want a drip\n",
      "['I want a latte', 'I want a drip', 'I want a poor over', 'I want a cortada', 'I want a experesso']\n"
     ]
    }
   ],
   "source": [
    "# generators are very similar to functions, by they field a value for each iteration of a loop\n",
    "# in general python generators are preferable when the return value is a list\n",
    "# example\n",
    "\n",
    "coffees = ['latte', 'drip', 'poor over', 'cortada', 'experesso']\n",
    "\n",
    "def i_wanta_gen(x):\n",
    "    for coffee in x:\n",
    "        yield 'I want a ' + str(coffee)\n",
    "        \n",
    "        \n",
    "gen = i_wanta_gen(coffees)\n",
    "\n",
    "# generators are statefull and can be run one step at a time.\n",
    "print(next(gen))\n",
    "print(next(gen))\n",
    "# the also can be run all at once\n",
    "gen = i_wanta_gen(coffees)\n",
    "next(gen)\n",
    "print(list(gen))\n",
    "        \n",
    "\n",
    "\n",
    "\n",
    "\n"
   ]
  },
  {
   "cell_type": "code",
   "execution_count": 1,
   "metadata": {},
   "outputs": [],
   "source": [
    "from sklearn.preprocessing.imputation import Imputer"
   ]
  },
  {
   "cell_type": "code",
   "execution_count": null,
   "metadata": {},
   "outputs": [],
   "source": []
  },
  {
   "cell_type": "code",
   "execution_count": 7,
   "metadata": {},
   "outputs": [],
   "source": [
    "\n",
    "\n",
    "\n",
    "\n",
    "\n",
    "\n"
   ]
  },
  {
   "cell_type": "markdown",
   "metadata": {},
   "source": []
  },
  {
   "cell_type": "code",
   "execution_count": null,
   "metadata": {},
   "outputs": [],
   "source": []
  }
 ],
 "metadata": {
  "kernelspec": {
   "display_name": "Python 3",
   "language": "python",
   "name": "python3"
  },
  "language_info": {
   "codemirror_mode": {
    "name": "ipython",
    "version": 3
   },
   "file_extension": ".py",
   "mimetype": "text/x-python",
   "name": "python",
   "nbconvert_exporter": "python",
   "pygments_lexer": "ipython3",
   "version": "3.6.7"
  }
 },
 "nbformat": 4,
 "nbformat_minor": 1
}
