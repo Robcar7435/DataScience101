{
 "cells": [
  {
   "cell_type": "markdown",
   "metadata": {},
   "source": [
    "## Data Cleaning With Pandas and Scikit-learn\n",
    "### Topics\n",
    "General Data Cleaning Process \n",
    "+ 1. Data Loading\n",
    "    + Normalize Data Types \n",
    "    + Basic Statistics On Data \n",
    "    + Column Selection\n",
    "    + Label Create if applicible \n",
    "+ 2. Data Splitting\n",
    "    + Where rows are indpepdened use random hold out\n",
    "    + Cross validation may also be use, but always test against a final random hold out\n",
    "+ 2. Remove Bad Data from TrainingSet, and Outliers (depending on the method)\n",
    "    + sometimes 9999, or -1 can stand for Null.\n",
    "    + if a linear type model, or a neural net is going to use, remove outliers from the training set \n",
    "    + discretizing variablies can also be a good strategy for dealing with outliers\n",
    "+ 3. Handle Null Values\n",
    "    + option 1. impute (replace null values with column means, constants or something similar\n",
    "    + option 2. remote (drop either rows or columns with null values\n",
    "        + Droping rows has major effects on test metrics, do so carifully\n",
    "        + imputation will probably still be nessicary to ensure the model works on real world data \n",
    "+ 4. Encode Categorical Varaibles\n",
    "+ 5. Discretized Location Varibles\n",
    "        + Typicall with lat and lon inputs, discretizing the using Kmeans into ether one hot encoded or ordinal data\n",
    "+ 6. Setup Feature Extraction Pipeline\n",
    "+ 7. Extract Features\n",
    "   + Extact Training and Test features \n",
    "+ 8. Features Selection (optional)\n",
    "    + definetely use for linear or neural network models\n",
    "    + may make no difference in Tree based models\n",
    "\n",
    "#### Results  \n",
    "\n",
    "At the end of this you should end up with the following\n",
    "\n",
    "+ X_train numpy array of training data \n",
    "+ y_train numpy array of training outcomes \n",
    "+ X_test numpy array of test data\n",
    "+ y_test numpy array of test outcomes \n",
    "+ feature_names: list of feature names \n",
    "\n",
    "\n",
    "##### Bonus\n",
    "Creating a Decision tree and integrating it into the prediction pipeline"
   ]
  },
  {
   "cell_type": "markdown",
   "metadata": {},
   "source": [
    "#### Data Set \n",
    "The objective of this project is to predict prices of AirBnB listing in NewYork City\n",
    "The data is sources from Kaggle\n",
    "+ https://www.kaggle.com/dgomonov/new-york-city-airbnb-open-data/version/3\n",
    "+ download and unzip into directory where the jupyter notebook is launched\n",
    "\n",
    "####  Data Loading \n",
    "+ data.dtypes is used to print out all the column types\n",
    "    + object cols are essentially treated as categorical data\n",
    "    \n",
    "+ here the data by default loads 'last_review' as an object dtype, when it is actually a datetime.  This is corrected"
   ]
  },
  {
   "cell_type": "code",
   "execution_count": 61,
   "metadata": {},
   "outputs": [],
   "source": [
    "from itertools import chain\n",
    "from collections import Counter\n",
    "import pandas as pd \n",
    "import numpy as np\n",
    "import matplotlib.pyplot as plt\n",
    "from matplotlib import cm\n",
    "from sklearn.pipeline import Pipeline\n",
    "from sklearn.impute import SimpleImputer\n",
    "from sklearn.preprocessing import OneHotEncoder\n",
    "from sklearn.feature_extraction.text import TfidfVectorizer\n",
    "from sklearn.compose import ColumnTransformer\n",
    "from sklearn.preprocessing import KBinsDiscretizer, StandardScaler\n",
    "from sklearn.cluster import KMeans\n",
    "from sklearn.tree import DecisionTreeClassifier\n",
    "%matplotlib inline "
   ]
  },
  {
   "cell_type": "code",
   "execution_count": 62,
   "metadata": {},
   "outputs": [
    {
     "name": "stdout",
     "output_type": "stream",
     "text": [
      "id                                         int64\n",
      "name                                      object\n",
      "host_id                                    int64\n",
      "host_name                                 object\n",
      "neighbourhood_group                       object\n",
      "neighbourhood                             object\n",
      "latitude                                 float64\n",
      "longitude                                float64\n",
      "room_type                                 object\n",
      "price                                      int64\n",
      "minimum_nights                             int64\n",
      "number_of_reviews                          int64\n",
      "last_review                       datetime64[ns]\n",
      "reviews_per_month                        float64\n",
      "calculated_host_listings_count             int64\n",
      "availability_365                           int64\n",
      "dtype: object\n"
     ]
    },
    {
     "data": {
      "text/html": [
       "<div>\n",
       "<style scoped>\n",
       "    .dataframe tbody tr th:only-of-type {\n",
       "        vertical-align: middle;\n",
       "    }\n",
       "\n",
       "    .dataframe tbody tr th {\n",
       "        vertical-align: top;\n",
       "    }\n",
       "\n",
       "    .dataframe thead th {\n",
       "        text-align: right;\n",
       "    }\n",
       "</style>\n",
       "<table border=\"1\" class=\"dataframe\">\n",
       "  <thead>\n",
       "    <tr style=\"text-align: right;\">\n",
       "      <th></th>\n",
       "      <th>id</th>\n",
       "      <th>name</th>\n",
       "      <th>host_id</th>\n",
       "      <th>host_name</th>\n",
       "      <th>neighbourhood_group</th>\n",
       "      <th>neighbourhood</th>\n",
       "      <th>latitude</th>\n",
       "      <th>longitude</th>\n",
       "      <th>room_type</th>\n",
       "      <th>price</th>\n",
       "      <th>minimum_nights</th>\n",
       "      <th>number_of_reviews</th>\n",
       "      <th>last_review</th>\n",
       "      <th>reviews_per_month</th>\n",
       "      <th>calculated_host_listings_count</th>\n",
       "      <th>availability_365</th>\n",
       "    </tr>\n",
       "  </thead>\n",
       "  <tbody>\n",
       "    <tr>\n",
       "      <th>0</th>\n",
       "      <td>2539</td>\n",
       "      <td>Clean &amp; quiet apt home by the park</td>\n",
       "      <td>2787</td>\n",
       "      <td>John</td>\n",
       "      <td>Brooklyn</td>\n",
       "      <td>Kensington</td>\n",
       "      <td>40.64749</td>\n",
       "      <td>-73.97237</td>\n",
       "      <td>Private room</td>\n",
       "      <td>149</td>\n",
       "      <td>1</td>\n",
       "      <td>9</td>\n",
       "      <td>2018-10-19</td>\n",
       "      <td>0.21</td>\n",
       "      <td>6</td>\n",
       "      <td>365</td>\n",
       "    </tr>\n",
       "    <tr>\n",
       "      <th>1</th>\n",
       "      <td>2595</td>\n",
       "      <td>Skylit Midtown Castle</td>\n",
       "      <td>2845</td>\n",
       "      <td>Jennifer</td>\n",
       "      <td>Manhattan</td>\n",
       "      <td>Midtown</td>\n",
       "      <td>40.75362</td>\n",
       "      <td>-73.98377</td>\n",
       "      <td>Entire home/apt</td>\n",
       "      <td>225</td>\n",
       "      <td>1</td>\n",
       "      <td>45</td>\n",
       "      <td>2019-05-21</td>\n",
       "      <td>0.38</td>\n",
       "      <td>2</td>\n",
       "      <td>355</td>\n",
       "    </tr>\n",
       "  </tbody>\n",
       "</table>\n",
       "</div>"
      ],
      "text/plain": [
       "     id                                name  host_id host_name  \\\n",
       "0  2539  Clean & quiet apt home by the park     2787      John   \n",
       "1  2595               Skylit Midtown Castle     2845  Jennifer   \n",
       "\n",
       "  neighbourhood_group neighbourhood  latitude  longitude        room_type  \\\n",
       "0            Brooklyn    Kensington  40.64749  -73.97237     Private room   \n",
       "1           Manhattan       Midtown  40.75362  -73.98377  Entire home/apt   \n",
       "\n",
       "   price  minimum_nights  number_of_reviews last_review  reviews_per_month  \\\n",
       "0    149               1                  9  2018-10-19               0.21   \n",
       "1    225               1                 45  2019-05-21               0.38   \n",
       "\n",
       "   calculated_host_listings_count  availability_365  \n",
       "0                               6               365  \n",
       "1                               2               355  "
      ]
     },
     "execution_count": 62,
     "metadata": {},
     "output_type": "execute_result"
    }
   ],
   "source": [
    "# load in data \n",
    "path = 'AB_NYC_2019.csv'\n",
    "# make last review an actual date col\n",
    "data = pd.read_csv(path)\n",
    "# changes last_review to a datetime column type\n",
    "data['last_review'] = pd.to_datetime(data['last_review'], infer_datetime_format=True)\n",
    "\n",
    "print(data.dtypes)\n",
    "data.head(2)"
   ]
  },
  {
   "cell_type": "markdown",
   "metadata": {},
   "source": [
    "##### Basic Statistics\n",
    "This revials the id and host_id columns are basically going to be useless since they are id cols, also there are\n",
    "some serious outliers in reviews per month, and minium nights"
   ]
  },
  {
   "cell_type": "code",
   "execution_count": 63,
   "metadata": {},
   "outputs": [
    {
     "name": "stdout",
     "output_type": "stream",
     "text": [
      "rows, columns (48895, 16)\n"
     ]
    },
    {
     "data": {
      "text/html": [
       "<div>\n",
       "<style scoped>\n",
       "    .dataframe tbody tr th:only-of-type {\n",
       "        vertical-align: middle;\n",
       "    }\n",
       "\n",
       "    .dataframe tbody tr th {\n",
       "        vertical-align: top;\n",
       "    }\n",
       "\n",
       "    .dataframe thead th {\n",
       "        text-align: right;\n",
       "    }\n",
       "</style>\n",
       "<table border=\"1\" class=\"dataframe\">\n",
       "  <thead>\n",
       "    <tr style=\"text-align: right;\">\n",
       "      <th></th>\n",
       "      <th>id</th>\n",
       "      <th>host_id</th>\n",
       "      <th>latitude</th>\n",
       "      <th>longitude</th>\n",
       "      <th>price</th>\n",
       "      <th>minimum_nights</th>\n",
       "      <th>number_of_reviews</th>\n",
       "      <th>reviews_per_month</th>\n",
       "      <th>calculated_host_listings_count</th>\n",
       "      <th>availability_365</th>\n",
       "    </tr>\n",
       "  </thead>\n",
       "  <tbody>\n",
       "    <tr>\n",
       "      <th>min</th>\n",
       "      <td>2.539000e+03</td>\n",
       "      <td>2.438000e+03</td>\n",
       "      <td>40.499790</td>\n",
       "      <td>-74.24442</td>\n",
       "      <td>0.000000</td>\n",
       "      <td>1.000000</td>\n",
       "      <td>0.000000</td>\n",
       "      <td>0.010000</td>\n",
       "      <td>1.000000</td>\n",
       "      <td>0.000000</td>\n",
       "    </tr>\n",
       "    <tr>\n",
       "      <th>mean</th>\n",
       "      <td>1.901714e+07</td>\n",
       "      <td>6.762001e+07</td>\n",
       "      <td>40.728949</td>\n",
       "      <td>-73.95217</td>\n",
       "      <td>152.720687</td>\n",
       "      <td>7.029962</td>\n",
       "      <td>23.274466</td>\n",
       "      <td>1.373221</td>\n",
       "      <td>7.143982</td>\n",
       "      <td>112.781327</td>\n",
       "    </tr>\n",
       "    <tr>\n",
       "      <th>max</th>\n",
       "      <td>3.648724e+07</td>\n",
       "      <td>2.743213e+08</td>\n",
       "      <td>40.913060</td>\n",
       "      <td>-73.71299</td>\n",
       "      <td>10000.000000</td>\n",
       "      <td>1250.000000</td>\n",
       "      <td>629.000000</td>\n",
       "      <td>58.500000</td>\n",
       "      <td>327.000000</td>\n",
       "      <td>365.000000</td>\n",
       "    </tr>\n",
       "  </tbody>\n",
       "</table>\n",
       "</div>"
      ],
      "text/plain": [
       "                id       host_id   latitude  longitude         price  \\\n",
       "min   2.539000e+03  2.438000e+03  40.499790  -74.24442      0.000000   \n",
       "mean  1.901714e+07  6.762001e+07  40.728949  -73.95217    152.720687   \n",
       "max   3.648724e+07  2.743213e+08  40.913060  -73.71299  10000.000000   \n",
       "\n",
       "      minimum_nights  number_of_reviews  reviews_per_month  \\\n",
       "min         1.000000           0.000000           0.010000   \n",
       "mean        7.029962          23.274466           1.373221   \n",
       "max      1250.000000         629.000000          58.500000   \n",
       "\n",
       "      calculated_host_listings_count  availability_365  \n",
       "min                         1.000000          0.000000  \n",
       "mean                        7.143982        112.781327  \n",
       "max                       327.000000        365.000000  "
      ]
     },
     "execution_count": 63,
     "metadata": {},
     "output_type": "execute_result"
    }
   ],
   "source": [
    "# count rows\n",
    "n_rows = data.count()\n",
    "print('rows, columns {}'.format(data.shape))\n",
    "data.describe().loc[['min', 'mean', 'max']]"
   ]
  },
  {
   "cell_type": "code",
   "execution_count": 64,
   "metadata": {},
   "outputs": [
    {
     "name": "stdout",
     "output_type": "stream",
     "text": [
      "num unique neighbourhoods 221\n"
     ]
    }
   ],
   "source": [
    "# niegbor hood has very high dimmension and should probably be ignored \n",
    "n = len(Counter(data['neighbourhood'])) \n",
    "print('num unique neighbourhoods', n)"
   ]
  },
  {
   "cell_type": "markdown",
   "metadata": {},
   "source": [
    "##### Column Selection\n",
    "+ select numeric columns, \n",
    "+ ignore ID Cols\n",
    "+ Select categorical Columns with to high of dimension ( we choose neighboorhood_group rather than neighboorhood)"
   ]
  },
  {
   "cell_type": "code",
   "execution_count": 65,
   "metadata": {},
   "outputs": [],
   "source": [
    "num_cols = ['minimum_nights', \n",
    "            'reviews_per_month', \n",
    "            'calculated_host_listings_count', \n",
    "            'availability_365']\n",
    "\n",
    "cat_cols = ['room_type', 'neighbourhood_group']\n",
    "\n",
    "text_cols = ['name']\n",
    "\n",
    "lat_lon_cols = ['longitude',  'latitude']"
   ]
  },
  {
   "cell_type": "markdown",
   "metadata": {},
   "source": [
    "##### Label Creation\n",
    "+ in this case we are predicting whether a listing as price is likely to be in the top 25% percentile (more expensive than 75% of all the other listings\n",
    "+ we add a label col to the data frame to train against"
   ]
  },
  {
   "cell_type": "code",
   "execution_count": 66,
   "metadata": {},
   "outputs": [
    {
     "name": "stdout",
     "output_type": "stream",
     "text": [
      "top 25% threshold 175.0\n"
     ]
    },
    {
     "data": {
      "text/html": [
       "<div>\n",
       "<style scoped>\n",
       "    .dataframe tbody tr th:only-of-type {\n",
       "        vertical-align: middle;\n",
       "    }\n",
       "\n",
       "    .dataframe tbody tr th {\n",
       "        vertical-align: top;\n",
       "    }\n",
       "\n",
       "    .dataframe thead th {\n",
       "        text-align: right;\n",
       "    }\n",
       "</style>\n",
       "<table border=\"1\" class=\"dataframe\">\n",
       "  <thead>\n",
       "    <tr style=\"text-align: right;\">\n",
       "      <th></th>\n",
       "      <th>label</th>\n",
       "      <th>price</th>\n",
       "    </tr>\n",
       "  </thead>\n",
       "  <tbody>\n",
       "    <tr>\n",
       "      <th>1</th>\n",
       "      <td>1</td>\n",
       "      <td>225</td>\n",
       "    </tr>\n",
       "    <tr>\n",
       "      <th>5</th>\n",
       "      <td>1</td>\n",
       "      <td>200</td>\n",
       "    </tr>\n",
       "  </tbody>\n",
       "</table>\n",
       "</div>"
      ],
      "text/plain": [
       "   label  price\n",
       "1      1    225\n",
       "5      1    200"
      ]
     },
     "execution_count": 66,
     "metadata": {},
     "output_type": "execute_result"
    }
   ],
   "source": [
    "# calculated the threshold\n",
    "threshold = np.percentile(data['price'], 75)\n",
    "print('top 25% threshold {}'.format(threshold))\n",
    "\n",
    "# defines a function for labeling\n",
    "def labler(x, val):\n",
    "    if x > val:\n",
    "        return 1\n",
    "    else:\n",
    "        return 0\n",
    "    \n",
    "# set a label col variable\n",
    "label_col = 'label'\n",
    "\n",
    "# creates the new 'label' column\n",
    "data[label_col] = list(map(lambda x:labler(x, threshold), data['price']))\n",
    "\n",
    "# shows that label col is assigned correctly\n",
    "data.loc[data[label_col] == 1][['label', 'price']].head(2)\n"
   ]
  },
  {
   "cell_type": "markdown",
   "metadata": {},
   "source": [
    "#### Data Splitting training and test sets\n",
    "+ usees random hold out based on leaving 25% of the data back for training\n",
    "+ works if rows are indpendent, "
   ]
  },
  {
   "cell_type": "code",
   "execution_count": 67,
   "metadata": {},
   "outputs": [
    {
     "name": "stdout",
     "output_type": "stream",
     "text": [
      "trainset shape (36671, 17)\n",
      "testset shape (12224, 17)\n"
     ]
    }
   ],
   "source": [
    "from sklearn.model_selection import train_test_split\n",
    "df_train, df_test = train_test_split(data, test_size=0.25, random_state=42)\n",
    "print('trainset shape {}'.format(df_train.shape))\n",
    "print('testset shape {}'.format(df_test.shape))"
   ]
  },
  {
   "cell_type": "markdown",
   "metadata": {},
   "source": [
    "#### Remove Outliers from the train data set \n",
    "+ In this case some outliers are going to be remove for the purpose of demostration\n",
    "+ Max Value threshold are use to remove rows in the training data only\n",
    "    + minimun nights less more than 10 are removed\n",
    "    + num reviews < 10 removed \n",
    "\n",
    "##### Bad Data\n",
    "+ listings without 14 days of availibity are going to be consided bad data and also removed, since that appears to be very in frequent"
   ]
  },
  {
   "cell_type": "code",
   "execution_count": 68,
   "metadata": {},
   "outputs": [
    {
     "name": "stdout",
     "output_type": "stream",
     "text": [
      "training shape after filtering: (36472, 17)\n"
     ]
    }
   ],
   "source": [
    "df_train= df_train[(df_train['minimum_nights'] < 10) | \n",
    "                               (df_train['number_of_reviews'] < 10) | \n",
    "                               (df_train['availability_365'] > 14) ]\n",
    "print('training shape after filtering: {0}'.format(df_train.shape))"
   ]
  },
  {
   "cell_type": "markdown",
   "metadata": {},
   "source": [
    "#### Stratget on Data Preprocessing and Cleaning\n",
    "The strategy to prepare the data for machine learning is a follows\n",
    "\n",
    "+ create sklearn pipeline for different column types\n",
    "+ fit indvidual pipeline \n",
    "+ assemble together into one final feature extraction pipeline\n",
    "+ transform trainging and test sets\n",
    "+ build a model, and add it on the end of the feature extaction pipeline\n",
    "\n",
    "Sklearn pipelines are fundimentally a sequence of steps, each one returning an array or data frame conducted in order.\n",
    "\n",
    "The steps are tuples of the type ('name', transformer) and a list of tuples provides the steps arg to Pipeline"
   ]
  },
  {
   "cell_type": "markdown",
   "metadata": {},
   "source": [
    "#### Numeric Imputer to Handle Null Values\n",
    "Null values in the X side of the equation are going to filled using a imputer, will precalucated column means\n",
    "+ Create an imputer for later use\n",
    "+ fit the imputer\n",
    "+ packagbe the imputer in a pipeline"
   ]
  },
  {
   "cell_type": "code",
   "execution_count": 69,
   "metadata": {},
   "outputs": [],
   "source": [
    "numeric_transformer = Pipeline(steps=[('imputer', SimpleImputer(strategy='median'))])\n",
    "numeric_transformer = numeric_transformer.fit(data[num_cols])"
   ]
  },
  {
   "cell_type": "markdown",
   "metadata": {},
   "source": [
    "#### Categorical Encoding \n",
    "In this case the unique values inside categorical columns are one hot encodied 1 if present, else 0\n",
    "This  create an array of 0s and 1s, always with the same columns (found during the fit phase)\n",
    "+ create an imputer to fill missing values with 'missing'\n",
    "+ Creat the encoder, package into a pipeline\n",
    "+ fit on training data \n",
    "+ extract out the categorical names \n",
    "\n",
    "By default One hot encoding returns a scipy sparse array.  Typically this has no problem with later methods, but can be converted to a dense numpy array using the .todense() method "
   ]
  },
  {
   "cell_type": "code",
   "execution_count": 70,
   "metadata": {},
   "outputs": [
    {
     "name": "stdout",
     "output_type": "stream",
     "text": [
      "original data:\n",
      "         room_type neighbourhood_group\n",
      "0     Private room            Brooklyn\n",
      "1  Entire home/apt           Manhattan \n",
      "\n",
      "Transformed One Hot Encoded data: \n"
     ]
    },
    {
     "data": {
      "text/html": [
       "<div>\n",
       "<style scoped>\n",
       "    .dataframe tbody tr th:only-of-type {\n",
       "        vertical-align: middle;\n",
       "    }\n",
       "\n",
       "    .dataframe tbody tr th {\n",
       "        vertical-align: top;\n",
       "    }\n",
       "\n",
       "    .dataframe thead th {\n",
       "        text-align: right;\n",
       "    }\n",
       "</style>\n",
       "<table border=\"1\" class=\"dataframe\">\n",
       "  <thead>\n",
       "    <tr style=\"text-align: right;\">\n",
       "      <th></th>\n",
       "      <th>Entire home/apt</th>\n",
       "      <th>Private room</th>\n",
       "      <th>Shared room</th>\n",
       "      <th>Bronx</th>\n",
       "      <th>Brooklyn</th>\n",
       "      <th>Manhattan</th>\n",
       "      <th>Queens</th>\n",
       "      <th>Staten Island</th>\n",
       "    </tr>\n",
       "  </thead>\n",
       "  <tbody>\n",
       "    <tr>\n",
       "      <th>0</th>\n",
       "      <td>0.0</td>\n",
       "      <td>1.0</td>\n",
       "      <td>0.0</td>\n",
       "      <td>0.0</td>\n",
       "      <td>1.0</td>\n",
       "      <td>0.0</td>\n",
       "      <td>0.0</td>\n",
       "      <td>0.0</td>\n",
       "    </tr>\n",
       "    <tr>\n",
       "      <th>1</th>\n",
       "      <td>1.0</td>\n",
       "      <td>0.0</td>\n",
       "      <td>0.0</td>\n",
       "      <td>0.0</td>\n",
       "      <td>0.0</td>\n",
       "      <td>1.0</td>\n",
       "      <td>0.0</td>\n",
       "      <td>0.0</td>\n",
       "    </tr>\n",
       "  </tbody>\n",
       "</table>\n",
       "</div>"
      ],
      "text/plain": [
       "   Entire home/apt  Private room  Shared room  Bronx  Brooklyn  Manhattan  \\\n",
       "0              0.0           1.0          0.0    0.0       1.0        0.0   \n",
       "1              1.0           0.0          0.0    0.0       0.0        1.0   \n",
       "\n",
       "   Queens  Staten Island  \n",
       "0     0.0            0.0  \n",
       "1     0.0            0.0  "
      ]
     },
     "execution_count": 70,
     "metadata": {},
     "output_type": "execute_result"
    }
   ],
   "source": [
    "categorical_transformer = Pipeline(steps=[('imputer', SimpleImputer(strategy='constant', fill_value='missing')),\n",
    "    ('onehot', OneHotEncoder( handle_unknown='ignore'))])\n",
    "       \n",
    "categorical_transformer = categorical_transformer.fit(data[cat_cols])\n",
    "\n",
    "# extract categorical feature names , this returns a list of list\n",
    "cat_feature_names = categorical_transformer.steps[-1][1].categories_\n",
    "\n",
    "# chain flattens the list of list into one list\n",
    "cat_feature_names = list(chain.from_iterable(cat_feature_names ))\n",
    "\n",
    "print('original data:')\n",
    "print(data[cat_cols].head(2), '\\n')\n",
    "print('Transformed One Hot Encoded data: ')\n",
    "pd.DataFrame(categorical_transformer.transform(data[cat_cols].head(2)).todense(), columns= cat_feature_names)\n",
    "\n"
   ]
  },
  {
   "cell_type": "markdown",
   "metadata": {},
   "source": [
    "#### Discretizing Lat and Lon Location Data  using Kmeans\n",
    "This process will essentually bin the lat and long data into categories and automatically one hot encode them\n",
    "But first look to see what the data looks like .\n",
    "+ setup an imputer \n",
    "+ Center and scale the data  (give it mean zero, sd 1)\n",
    "+ create kmean model to cluster the data lat lon data \n",
    "+ package in a pipeline and fit\n",
    "+ plot results\n",
    "\n",
    "The results of this pipeline is a numpy array with distances between the row and each centers.\n",
    "THe final array has n_centers = n_columns"
   ]
  },
  {
   "cell_type": "code",
   "execution_count": 71,
   "metadata": {},
   "outputs": [
    {
     "data": {
      "text/html": [
       "<div>\n",
       "<style scoped>\n",
       "    .dataframe tbody tr th:only-of-type {\n",
       "        vertical-align: middle;\n",
       "    }\n",
       "\n",
       "    .dataframe tbody tr th {\n",
       "        vertical-align: top;\n",
       "    }\n",
       "\n",
       "    .dataframe thead th {\n",
       "        text-align: right;\n",
       "    }\n",
       "</style>\n",
       "<table border=\"1\" class=\"dataframe\">\n",
       "  <thead>\n",
       "    <tr style=\"text-align: right;\">\n",
       "      <th></th>\n",
       "      <th>Distance to loc:0</th>\n",
       "      <th>Distance to loc:1</th>\n",
       "      <th>Distance to loc:2</th>\n",
       "      <th>Distance to loc:3</th>\n",
       "      <th>Distance to loc:4</th>\n",
       "    </tr>\n",
       "  </thead>\n",
       "  <tbody>\n",
       "    <tr>\n",
       "      <th>0</th>\n",
       "      <td>0.774815</td>\n",
       "      <td>0.511768</td>\n",
       "      <td>1.223605</td>\n",
       "      <td>2.229416</td>\n",
       "      <td>3.051302</td>\n",
       "    </tr>\n",
       "    <tr>\n",
       "      <th>1</th>\n",
       "      <td>4.711754</td>\n",
       "      <td>4.032252</td>\n",
       "      <td>5.384884</td>\n",
       "      <td>5.288705</td>\n",
       "      <td>2.322370</td>\n",
       "    </tr>\n",
       "  </tbody>\n",
       "</table>\n",
       "</div>"
      ],
      "text/plain": [
       "   Distance to loc:0  Distance to loc:1  Distance to loc:2  Distance to loc:3  \\\n",
       "0           0.774815           0.511768           1.223605           2.229416   \n",
       "1           4.711754           4.032252           5.384884           5.288705   \n",
       "\n",
       "   Distance to loc:4  \n",
       "0           3.051302  \n",
       "1           2.322370  "
      ]
     },
     "execution_count": 71,
     "metadata": {},
     "output_type": "execute_result"
    }
   ],
   "source": [
    "# define the number of clusters to use (number of centers )\n",
    "n_centers = 5\n",
    "\n",
    "# init the scaler normalizes values\n",
    "scaler = StandardScaler()\n",
    "\n",
    "# int the kmeans model\n",
    "binner = KMeans(n_clusters=n_centers)\n",
    "\n",
    "# package in a pipeline\n",
    "lat_lon_transformer = Pipeline(steps=[('imputer', SimpleImputer(strategy='mean')),\n",
    "                                      ('scaling', scaler), \n",
    "                                      ('binning and ohe', binner)])\n",
    "lat_lon_transformer.fit(df_train[lat_lon_cols])\n",
    "\n",
    "# this test thje transform and gets a bin number for each row, to plot\n",
    "bins = np.argmin(lat_lon_transformer.transform(df_train[lat_lon_cols]), axis=1)\n",
    "\n",
    "#example output form the lat lon transformer \n",
    "lat_lon_feature_names = list(range(lat_lon_transformer.steps[-1][1].n_clusters))\n",
    "lat_lon_feature_names = ['Distance to loc:' + str(v) for v in lat_lon_feature_names]\n",
    "\n",
    "# show an example of the transformation\n",
    "pd.DataFrame(lat_lon_transformer.transform(df_train[lat_lon_cols].head(2)), columns=lat_lon_feature_names)\n"
   ]
  },
  {
   "cell_type": "code",
   "execution_count": 72,
   "metadata": {},
   "outputs": [
    {
     "data": {
      "text/plain": [
       "array([[-73.98291724,  40.65737101],\n",
       "       [-73.9355794 ,  40.69904393],\n",
       "       [-73.98744046,  40.7402404 ],\n",
       "       [-73.93834936,  40.80468322],\n",
       "       [-73.8168756 ,  40.70859952]])"
      ]
     },
     "execution_count": 72,
     "metadata": {},
     "output_type": "execute_result"
    }
   ],
   "source": [
    "# gets the cluster centers\n",
    "cluster_centers = lat_lon_transformer.steps[-1][1].cluster_centers_\n",
    "\n",
    "# inverses the scaler, so our centers are back on lon, lat scale\n",
    "cluster_centers = lat_lon_transformer.steps[-2][1].inverse_transform(cluster_centers)\n",
    "cluster_centers\n"
   ]
  },
  {
   "cell_type": "code",
   "execution_count": 73,
   "metadata": {},
   "outputs": [
    {
     "data": {
      "image/png": "[encoded data removed]",
      "text/plain": [
       "<matplotlib.figure.Figure at 0x180e6ccb908>"
      ]
     },
     "metadata": {},
     "output_type": "display_data"
    }
   ],
   "source": [
    "# importas a color map from maplot lib\n",
    "cmap = cm.get_cmap('Spectral')\n",
    "\n",
    "# creates a scatter plot with bin number as coloring\n",
    "df_train.plot.scatter(*lat_lon_cols, c=bins, cmap=cmap, s=5)\n",
    "#plots the centers\n",
    "for i in range(cluster_centers.shape[0]):\n",
    "    plt.text(cluster_centers[i,0], cluster_centers[i,1], str(i))\n",
    "plt.show()\n"
   ]
  },
  {
   "cell_type": "markdown",
   "metadata": {},
   "source": [
    "#### Putting all the Pipelines Together,\n",
    "Sklearn Column transformer is used to piece together the three pipelines and get them to act as one system.\n",
    "+ Column transformer acts like a router, and ensures that each column goes to the correct transformer\n",
    "+ takes a list of tuples (step name, pipeline, col_list)"
   ]
  },
  {
   "cell_type": "code",
   "execution_count": 74,
   "metadata": {},
   "outputs": [
    {
     "name": "stdout",
     "output_type": "stream",
     "text": [
      "n_features: 17\n",
      "['minimum_nights', 'reviews_per_month', 'calculated_host_listings_count', 'availability_365', 'Entire home/apt', 'Private room', 'Shared room', 'Bronx', 'Brooklyn', 'Manhattan', 'Queens', 'Staten Island', 'Distance to loc:0', 'Distance to loc:1', 'Distance to loc:2', 'Distance to loc:3', 'Distance to loc:4']\n"
     ]
    }
   ],
   "source": [
    "# setup the Column transformer to act as a router, routing numeric columns to numeric transformer ect\n",
    "preprocessor = ColumnTransformer(transformers=[('num', numeric_transformer, num_cols),\n",
    "                                               ('cat', categorical_transformer, cat_cols),\n",
    "                                               ('location', lat_lon_transformer, lat_lon_cols)])          \n",
    "   \n",
    "# Put it all togeth in one pipeline\n",
    "pipe = Pipeline(steps=[('preprocessor', preprocessor)])\n",
    "pipe = pipe.fit(df_train)\n",
    "\n",
    "\n",
    "# extractiong out features names\n",
    "feature_names = num_cols + cat_feature_names + lat_lon_feature_names\n",
    "print('n_features:', len(feature_names))\n",
    "print(feature_names)"
   ]
  },
  {
   "cell_type": "markdown",
   "metadata": {},
   "source": [
    "#### Transform Training and Test Data \n",
    "+ a quick sanity check is that the number of feature_names matches the numnber of columns on after transformation\n",
    "+ Now we have all the elements need for training a model\n",
    "    + X_train: array in traininig features\n",
    "    + y_train: array of training outcomes, same num rows as X_train\n",
    "    + X_test: array of test feature, same num cols  as X_train\n",
    "    + y_test:  np.array of test outcomes, with same number of rows as X_test \n",
    "    + feature_names: list of feature names, same length as num cols in X_train\n",
    "\n"
   ]
  },
  {
   "cell_type": "code",
   "execution_count": 75,
   "metadata": {},
   "outputs": [
    {
     "name": "stdout",
     "output_type": "stream",
     "text": [
      "train shape: (36472, 17) test shape: (12224, 17)\n"
     ]
    },
    {
     "data": {
      "text/html": [
       "<div>\n",
       "<style scoped>\n",
       "    .dataframe tbody tr th:only-of-type {\n",
       "        vertical-align: middle;\n",
       "    }\n",
       "\n",
       "    .dataframe tbody tr th {\n",
       "        vertical-align: top;\n",
       "    }\n",
       "\n",
       "    .dataframe thead th {\n",
       "        text-align: right;\n",
       "    }\n",
       "</style>\n",
       "<table border=\"1\" class=\"dataframe\">\n",
       "  <thead>\n",
       "    <tr style=\"text-align: right;\">\n",
       "      <th></th>\n",
       "      <th>minimum_nights</th>\n",
       "      <th>reviews_per_month</th>\n",
       "      <th>calculated_host_listings_count</th>\n",
       "      <th>availability_365</th>\n",
       "      <th>Entire home/apt</th>\n",
       "      <th>Private room</th>\n",
       "      <th>Shared room</th>\n",
       "      <th>Bronx</th>\n",
       "      <th>Brooklyn</th>\n",
       "      <th>Manhattan</th>\n",
       "      <th>Queens</th>\n",
       "      <th>Staten Island</th>\n",
       "      <th>Distance to loc:0</th>\n",
       "      <th>Distance to loc:1</th>\n",
       "      <th>Distance to loc:2</th>\n",
       "      <th>Distance to loc:3</th>\n",
       "      <th>Distance to loc:4</th>\n",
       "    </tr>\n",
       "  </thead>\n",
       "  <tbody>\n",
       "    <tr>\n",
       "      <th>0</th>\n",
       "      <td>3.0</td>\n",
       "      <td>2.18</td>\n",
       "      <td>1.0</td>\n",
       "      <td>304.0</td>\n",
       "      <td>1.0</td>\n",
       "      <td>0.0</td>\n",
       "      <td>0.0</td>\n",
       "      <td>0.0</td>\n",
       "      <td>1.0</td>\n",
       "      <td>0.0</td>\n",
       "      <td>0.0</td>\n",
       "      <td>0.0</td>\n",
       "      <td>0.781120</td>\n",
       "      <td>1.222993</td>\n",
       "      <td>3.049961</td>\n",
       "      <td>2.229082</td>\n",
       "      <td>0.508483</td>\n",
       "    </tr>\n",
       "    <tr>\n",
       "      <th>1</th>\n",
       "      <td>30.0</td>\n",
       "      <td>0.04</td>\n",
       "      <td>43.0</td>\n",
       "      <td>354.0</td>\n",
       "      <td>0.0</td>\n",
       "      <td>1.0</td>\n",
       "      <td>0.0</td>\n",
       "      <td>0.0</td>\n",
       "      <td>0.0</td>\n",
       "      <td>0.0</td>\n",
       "      <td>1.0</td>\n",
       "      <td>0.0</td>\n",
       "      <td>4.716242</td>\n",
       "      <td>5.384150</td>\n",
       "      <td>2.323596</td>\n",
       "      <td>5.288331</td>\n",
       "      <td>4.032485</td>\n",
       "    </tr>\n",
       "  </tbody>\n",
       "</table>\n",
       "</div>"
      ],
      "text/plain": [
       "   minimum_nights  reviews_per_month  calculated_host_listings_count  \\\n",
       "0             3.0               2.18                             1.0   \n",
       "1            30.0               0.04                            43.0   \n",
       "\n",
       "   availability_365  Entire home/apt  Private room  Shared room  Bronx  \\\n",
       "0             304.0              1.0           0.0          0.0    0.0   \n",
       "1             354.0              0.0           1.0          0.0    0.0   \n",
       "\n",
       "   Brooklyn  Manhattan  Queens  Staten Island  Distance to loc:0  \\\n",
       "0       1.0        0.0     0.0            0.0           0.781120   \n",
       "1       0.0        0.0     1.0            0.0           4.716242   \n",
       "\n",
       "   Distance to loc:1  Distance to loc:2  Distance to loc:3  Distance to loc:4  \n",
       "0           1.222993           3.049961           2.229082           0.508483  \n",
       "1           5.384150           2.323596           5.288331           4.032485  "
      ]
     },
     "execution_count": 75,
     "metadata": {},
     "output_type": "execute_result"
    }
   ],
   "source": [
    "# create training arrays\n",
    "X_train = pipe.transform(df_train)\n",
    "y_train = df_train[label_col].values\n",
    "\n",
    "# create test arrays \n",
    "X_test = pipe.transform(df_test)\n",
    "y_test = df_test[label_col].values\n",
    "\n",
    "print('train shape:', X_train.shape, 'test shape:', X_test.shape)\n",
    "pd.DataFrame(X_train[:2,:], columns=feature_names)\n"
   ]
  },
  {
   "cell_type": "markdown",
   "metadata": {},
   "source": [
    "#### Basic Model Training\n",
    "Since this project is so close, why not take it to the end a create a model\n",
    "Basic Decision Tree Classifier is create to predict new instances"
   ]
  },
  {
   "cell_type": "code",
   "execution_count": 76,
   "metadata": {},
   "outputs": [],
   "source": [
    "# instantiates the model\n",
    "model = DecisionTreeClassifier(max_leaf_nodes=3, random_state=0)\n",
    "\n",
    "# Fits the model on training data\n",
    "model = model.fit(X_train, y_train)\n",
    "\n",
    "# predicts probablities for the test data\n",
    "pred_test = model.predict_proba(X_test)[:, 1]\n",
    "\n",
    "# predicts labels for the test data\n",
    "pred_labels_test =  model.predict(X_test)\n"
   ]
  },
  {
   "cell_type": "markdown",
   "metadata": {},
   "source": [
    "##### Error Metrics on the Model\n",
    "As will any classification model, we should look at error metrics \n"
   ]
  },
  {
   "cell_type": "code",
   "execution_count": 77,
   "metadata": {},
   "outputs": [
    {
     "name": "stdout",
     "output_type": "stream",
     "text": [
      "test AUC 0.8219778140450534\n",
      "              precision    recall  f1-score   support\n",
      "\n",
      "           0       0.87      0.90      0.88      9213\n",
      "           1       0.64      0.58      0.61      3011\n",
      "\n",
      "    accuracy                           0.82     12224\n",
      "   macro avg       0.76      0.74      0.75     12224\n",
      "weighted avg       0.81      0.82      0.81     12224\n",
      "\n",
      "TN, FP \n",
      " FN TP\n",
      "[[8250  963]\n",
      " [1270 1741]]\n"
     ]
    }
   ],
   "source": [
    "from sklearn.metrics import roc_auc_score,  classification_report, confusion_matrix\n",
    "\n",
    "# roc Auc score \n",
    "test_auc = roc_auc_score(y_test, pred_test)\n",
    "print('test AUC {}'.format(test_auc))\n",
    "\n",
    "# classifcation Report \n",
    "report = classification_report(y_test, pred_labels_test)\n",
    "print(report)\n",
    "\n",
    "# confusion Matrix\n",
    "cm = confusion_matrix(y_test, pred_labels_test)\n",
    "\n",
    "print('TN, FP \\n FN TP')\n",
    "print(cm)"
   ]
  },
  {
   "cell_type": "markdown",
   "metadata": {},
   "source": [
    "#### Vizualizing The Model\n",
    "Here we can plot the model directly using graphviz, note graphvis need to be in the path for this to work\n",
    "for more information look at \n",
    "\n",
    "https://www.enterprise-architecture.org/downloads?id=208"
   ]
  },
  {
   "cell_type": "code",
   "execution_count": 78,
   "metadata": {},
   "outputs": [
    {
     "data": {
      "image/png": "[encoded data removed]",
      "text/plain": [
       "<IPython.core.display.Image object>"
      ]
     },
     "execution_count": 78,
     "metadata": {},
     "output_type": "execute_result"
    }
   ],
   "source": [
    "from sklearn.externals.six import StringIO  \n",
    "from IPython.display import Image  \n",
    "from sklearn.tree import export_graphviz\n",
    "import pydotplus\n",
    "\n",
    "dot_data = StringIO()\n",
    "\n",
    "export_graphviz(model, out_file=dot_data,  \n",
    "                filled=True, rounded=True,\n",
    "                feature_names = feature_names, \n",
    "                special_characters=True)\n",
    "\n",
    "graph = pydotplus.graph_from_dot_data(dot_data.getvalue())  \n",
    "Image(graph.create_png())"
   ]
  },
  {
   "cell_type": "markdown",
   "metadata": {},
   "source": [
    "#### Setup a Prection Pipeline \n",
    "Just to complete the project, add the model on onto the steps of the Pipeline to combine feature extraction and data cleaning with predticion methods\n"
   ]
  },
  {
   "cell_type": "code",
   "execution_count": 79,
   "metadata": {},
   "outputs": [
    {
     "data": {
      "text/html": [
       "<div>\n",
       "<style scoped>\n",
       "    .dataframe tbody tr th:only-of-type {\n",
       "        vertical-align: middle;\n",
       "    }\n",
       "\n",
       "    .dataframe tbody tr th {\n",
       "        vertical-align: top;\n",
       "    }\n",
       "\n",
       "    .dataframe thead th {\n",
       "        text-align: right;\n",
       "    }\n",
       "</style>\n",
       "<table border=\"1\" class=\"dataframe\">\n",
       "  <thead>\n",
       "    <tr style=\"text-align: right;\">\n",
       "      <th></th>\n",
       "      <th>bottom75</th>\n",
       "      <th>top25</th>\n",
       "    </tr>\n",
       "  </thead>\n",
       "  <tbody>\n",
       "    <tr>\n",
       "      <th>0</th>\n",
       "      <td>0.949849</td>\n",
       "      <td>0.050151</td>\n",
       "    </tr>\n",
       "    <tr>\n",
       "      <th>1</th>\n",
       "      <td>0.368198</td>\n",
       "      <td>0.631802</td>\n",
       "    </tr>\n",
       "    <tr>\n",
       "      <th>2</th>\n",
       "      <td>0.949849</td>\n",
       "      <td>0.050151</td>\n",
       "    </tr>\n",
       "    <tr>\n",
       "      <th>3</th>\n",
       "      <td>0.716290</td>\n",
       "      <td>0.283710</td>\n",
       "    </tr>\n",
       "    <tr>\n",
       "      <th>4</th>\n",
       "      <td>0.716290</td>\n",
       "      <td>0.283710</td>\n",
       "    </tr>\n",
       "  </tbody>\n",
       "</table>\n",
       "</div>"
      ],
      "text/plain": [
       "   bottom75     top25\n",
       "0  0.949849  0.050151\n",
       "1  0.368198  0.631802\n",
       "2  0.949849  0.050151\n",
       "3  0.716290  0.283710\n",
       "4  0.716290  0.283710"
      ]
     },
     "execution_count": 79,
     "metadata": {},
     "output_type": "execute_result"
    }
   ],
   "source": [
    "steps = pipe.steps + [('model', model)]\n",
    "prediction_pipe= Pipeline(steps =steps)\n",
    "\n",
    "output_cols = ['bottom75', 'top25']\n",
    "pd.DataFrame(prediction_pipe.predict_proba(data.head()), columns =output_cols)"
   ]
  },
  {
   "cell_type": "markdown",
   "metadata": {},
   "source": [
    "##### Next Steps:\n",
    "\n",
    "We ignored the text data! this may be usefull, but for the purposes of pipeline, there are a few bugs to work out with sklearns count vectorizor\n",
    "\n",
    "+ Parameter Tuning - try different parameters \n",
    "    + try different parameters for the models, and preprocessing transformations\n",
    "    + use GridSearchCV to brute force through parameter grids\n",
    "+ Feature Selection \n",
    "    + use information gain to remote unused features \n",
    "+ Missclassification Analysis\n",
    "    + find examples of aggregous mistages by the model, and investige\n",
    "+ Cost Opitmization\n",
    "    + establish exactly where the probablity cut off should be\n",
    "+ Deploy to Production Environment\n",
    "    \n",
    "    \n",
    "    \n",
    "    \n",
    "    \n",
    "\n",
    "\n"
   ]
  },
  {
   "cell_type": "code",
   "execution_count": null,
   "metadata": {},
   "outputs": [],
   "source": []
  }
 ],
 "metadata": {
  "kernelspec": {
   "display_name": "Python 3",
   "language": "python",
   "name": "python3"
  },
  "language_info": {
   "codemirror_mode": {
    "name": "ipython",
    "version": 3
   },
   "file_extension": ".py",
   "mimetype": "text/x-python",
   "name": "python",
   "nbconvert_exporter": "python",
   "pygments_lexer": "ipython3",
   "version": "3.6.5"
  }
 },
 "nbformat": 4,
 "nbformat_minor": 2
}
