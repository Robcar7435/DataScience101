{
 "cells": [
  {
   "cell_type": "markdown",
   "metadata": {},
   "source": [
    "## Logistic Regression\n",
    "\n",
    "Logistic regression is essentially the duct take of Data Science, handy in many places.   To use Logistic Regression, you need to have binary  (0/1) outcome suitable for a classication task.  Although there are extensions of the method that apply to multi class classification.  It's very typical to create a logistic regression reference model before trying more complex methods \n",
    "\n",
    "#### Model\n",
    "Logistic Regression solves the model p(X)=e^(β0+β1x)/( 1+ e^(β0+β1X) where βs are coefficents and p(x) is the probablity of the outcome\n",
    "\n",
    "+ β0 is the intercept\n",
    "+ β1 is a coefficient that an be intepriateued as the natural log of the increase off odds of the seeing the outcome for every increase of x by 1\n",
    "\n",
    "#### Requirments\n",
    "\n",
    "+ 0/1 Binary Distrobution Outcome \n",
    "+ Not Outliers or extreme values on X side of equation\n",
    "+ No Inter strong correlations between variables on the x side of the equation\n",
    "    + Method will still work, but coefficients won't interpriptation will be suspect\n",
    "+ Linear relationshiop between thre predictor variables (x side of the equation) and the logit of the outcome.\n",
    "\n",
    "###### The Logit Fuctnion\n",
    "p is the probablity of the outcome\n",
    "logit(p) = log(p/(1-p))\n",
    "\n",
    "\n",
    "#### Advantages:\n",
    "\n",
    "+ Interpritable Model\n",
    "+ returns coefficients that explain how exactly the model works\n",
    "+ row level feature contributions are calculable \n",
    "+ p-values (depending on method used) help determine significance of effects\n",
    "+ can return confidence intervals (depending on method)\n",
    "\n",
    "##### Disadvantages\n",
    "\n",
    "+ not typically very powerfull comparied to more complex methods\n",
    "+ Ca Over fit if may variables are used\n",
    "+ Coefficients can be missleading if there are lurking or confounding variables\n",
    "\n",
    "\n"
   ]
  },
  {
   "cell_type": "markdown",
   "metadata": {},
   "source": [
    "#### Data Collection\n",
    "+ request package is use here to copy the file onto your local machine\n",
    "+ os.system is used to send the command to unzip the file"
   ]
  },
  {
   "cell_type": "markdown",
   "metadata": {},
   "source": [
    "#### Basics of How Logistif Regression Works \n"
   ]
  },
  {
   "cell_type": "code",
   "execution_count": 50,
   "metadata": {},
   "outputs": [
    {
     "name": "stdout",
     "output_type": "stream",
     "text": [
      "Optimization terminated successfully.\n",
      "         Current function value: 0.627741\n",
      "         Iterations: 6\n",
      "         Function evaluations: 7\n",
      "         Gradient evaluations: 7\n",
      "                           Logit Regression Results                           \n",
      "==============================================================================\n",
      "Dep. Variable:                      y   No. Observations:                    8\n",
      "Model:                          Logit   Df Residuals:                        7\n",
      "Method:                           MLE   Df Model:                            0\n",
      "Date:                Sun, 06 Oct 2019   Pseudo R-squ.:                 0.09436\n",
      "Time:                        16:14:26   Log-Likelihood:                -5.0219\n",
      "converged:                       True   LL-Null:                       -5.5452\n",
      "Covariance Type:            nonrobust   LLR p-value:                       nan\n",
      "==============================================================================\n",
      "                 coef    std err          z      P>|z|      [0.025      0.975]\n",
      "------------------------------------------------------------------------------\n",
      "x              1.0986      1.155      0.951      0.341      -1.165       3.362\n",
      "==============================================================================\n",
      "b1: 2.99999827692177\n",
      "new prob of y : b1 * 1/4 = 0.7499995692304425\n"
     ]
    }
   ],
   "source": [
    "# To Get P values, the stats model API is used here\n",
    "\n",
    "import statsmodels.api as sm\n",
    "from scipy import stats\n",
    "import numpy as np\n",
    "import pandas as pd\n",
    "\n",
    "# labels have a probablity of 0.5\n",
    "y = [1, 1, 1, 1 , 0, 0 , 0, 0]\n",
    "\n",
    "# when x = 1 prob of label .75, ie   p(y|x=1) = .75, so odds as 3/1\n",
    "# when x = 0 prob of label is .25 p(y|x=0) = .25 so odds are 1/4\n",
    "X= pd.DataFrame({'x':[1, 1, 1, 0,  1, 0, 0, 0]})\n",
    "\n",
    "model = sm.Logit(endog=y, exog=X)\n",
    "results = model.fit(method='bfgs', maxiter=100)\n",
    "\n",
    "print(results.summary())\n",
    "\n",
    "b1 = np.exp(results.params[0])\n",
    "\n",
    "print('b1:', b1 )\n",
    "\n",
    "# Find the new Pobablity of y, when x = 1 \n",
    "\n",
    "print('new prob of y : b1 * 1/4 = {}'.format(b1* 1/4))\n",
    "\n",
    "\n"
   ]
  },
  {
   "cell_type": "markdown",
   "metadata": {},
   "source": [
    "#### Pvalues\n",
    "Here the pvalue represents the probabliy of a mean from randomly resampling a normal distobution with a that is more standard deviations away the mean we have tested against. \n",
    "+ generally pvalues < .05 are considered signficant"
   ]
  },
  {
   "cell_type": "markdown",
   "metadata": {},
   "source": [
    "\n",
    "### Use Case, Finding Most Postive and Negative Words in Movie Reviews\n",
    "Using the cornell moview review data sets, and logicist regression we can find the most postive and negative words associated with the reviews.. \n",
    "##### The Data\n",
    "\n",
    "+ 1000 postive and 1000 negative movie reviews stored, each review in a it's own text file\n",
    "\n",
    "#### Preprocssing \n",
    "+ Sklearn preprocessing is accomplished using CountVectorizer, using a bag of words of approach. This happens in two steps:\n",
    "    + 1) learn a dictionary\n",
    "    + 2) one hot encode words from dictionary, result is a numeric array of 1s and 0s\n",
    "    "
   ]
  },
  {
   "cell_type": "code",
   "execution_count": 52,
   "metadata": {},
   "outputs": [
    {
     "data": {
      "text/plain": [
       "0"
      ]
     },
     "execution_count": 52,
     "metadata": {},
     "output_type": "execute_result"
    }
   ],
   "source": [
    "import os\n",
    "import requests \n",
    "import numpy as np\n",
    "from pathlib import Path\n",
    "\n",
    "# Download Cornal Moview revirew data sets\n",
    "url = 'http://www.cs.cornell.edu/people/pabo/movie-review-data/review_polarity.tar.gz'\n",
    "file_path = 'polarity.tar.gz'\n",
    "path = Path(file_path)\n",
    "response = requests.get(url)\n",
    "\n",
    "# write contents of the download \n",
    "path.write_bytes(response.content)\n",
    "\n",
    "# unziped the file create a directory called txt_sentoken\n",
    "os.system('tar -xzf {}'.format(file_path))\n",
    "\n",
    "# Note if you don't have tar, you may need to use 7zip or another unzipping tool (windows)"
   ]
  },
  {
   "cell_type": "markdown",
   "metadata": {},
   "source": [
    "#### Data Loading\n",
    "+ file paths for positive and negative reviews are collected into lists\n",
    "+ a generator is create to load text from each file\n",
    "+ an array of 1s and 0s  (positive and negative reviews) is created\n",
    "+ results\n",
    "    + data: list of strings (text reviews)\n",
    "    + labels: array of 0/1s"
   ]
  },
  {
   "cell_type": "code",
   "execution_count": 53,
   "metadata": {},
   "outputs": [
    {
     "name": "stdout",
     "output_type": "stream",
     "text": [
      "upon arriving at the theater during the opening credits , i took my seat and prepared myself for what appeared to be \" hellraiser meets the crow \" . \n",
      " but as soon as kiefer sutherland began speaking t\n",
      "label: 1\n"
     ]
    }
   ],
   "source": [
    "# set positive and negative directory paths\n",
    "pos_dir = 'txt_sentoken/pos'\n",
    "neg_dir = 'txt_sentoken/neg'\n",
    "\n",
    "# define a function to read in text\n",
    "def read_file_list(file_list):\n",
    "    for file in file_list:\n",
    "        with open(file, 'r') as f:\n",
    "            text = f.readlines()\n",
    "            text = ' '.join(text)\n",
    "            yield text\n",
    "            \n",
    "# get the list of file paths\n",
    "pos_files = os.listdir(pos_dir)\n",
    "neg_files = os.listdir(neg_dir)\n",
    "\n",
    "\n",
    "# data the working dir to the file paths\n",
    "pos_files = [pos_dir + '/' + f for f in pos_files if 'cv' in f]\n",
    "neg_files = [neg_dir + '/' + f for f in neg_files if 'cv' in f]\n",
    "neg_reviews = list(read_file_list(neg_files))\n",
    "pos_reviews = list(read_file_list(pos_files))\n",
    "data = pos_reviews + neg_reviews\n",
    "\n",
    "# positive 1, negative review 5\n",
    "labels = np.array([1] * len(pos_reviews) + [0] * len(neg_reviews))\n",
    "\n",
    "#\n",
    "print(data[1][:200])\n",
    "print('label:', labels[1])"
   ]
  },
  {
   "cell_type": "markdown",
   "metadata": {},
   "source": [
    "\n",
    "#### Data Cleaning with CountVectorizor\n",
    "\n",
    "+ min_df specifies in this case for a word to be in the vocabulary, it must show up in 10% of the reviews\n",
    "+ stop_words is a list of words to remove from the vocabulary\n",
    "+ binary = True means the ecoding is 0/1 present absent (if false the the encoding is the count of times the word token apeared"
   ]
  },
  {
   "cell_type": "code",
   "execution_count": 75,
   "metadata": {},
   "outputs": [
    {
     "data": {
      "text/plain": [
       "['able',\n",
       " 'about',\n",
       " 'act',\n",
       " 'acting',\n",
       " 'action',\n",
       " 'actor',\n",
       " 'actors',\n",
       " 'actually',\n",
       " 'after',\n",
       " 'again']"
      ]
     },
     "execution_count": 75,
     "metadata": {},
     "output_type": "execute_result"
    }
   ],
   "source": [
    "from sklearn.feature_extraction.text import CountVectorizer\n",
    "\n",
    "min_df = .1\n",
    "stop_words = ['and', 'the', 'as', 'that']\n",
    "\n",
    "cv = CountVectorizer(min_df=min_df,  stop_words=stop_words, binary=True)\n",
    "# fits the count vect with a vocabuary \n",
    "cv = cv.fit(data )\n",
    "\n",
    "features = cv.transform(data)\n",
    "\n",
    "# prints out a list sample from the fitted vocabulary\n",
    "cv.get_feature_names()[0:10]\n"
   ]
  },
  {
   "cell_type": "code",
   "execution_count": null,
   "metadata": {},
   "outputs": [],
   "source": [
    "#### Modeling with Logistic Regression"
   ]
  },
  {
   "cell_type": "code",
   "execution_count": 77,
   "metadata": {},
   "outputs": [
    {
     "name": "stderr",
     "output_type": "stream",
     "text": [
      "/usr/local/lib/python3.6/dist-packages/sklearn/linear_model/logistic.py:432: FutureWarning: Default solver will be changed to 'lbfgs' in 0.22. Specify a solver to silence this warning.\n",
      "  FutureWarning)\n"
     ]
    },
    {
     "data": {
      "text/plain": [
       "array([[ 2.96621629e-01,  1.84350535e-02,  1.16463034e-02,\n",
       "        -1.80541405e-01, -5.89541530e-01,  2.26869138e-01,\n",
       "         1.82784644e-01, -5.07899265e-01, -1.11602679e-01,\n",
       "         1.49672102e-01,  1.03920051e-01,  1.41691518e-01,\n",
       "        -1.57426979e-02,  2.52147656e-01,  3.56748939e-01,\n",
       "         6.91312793e-01,  4.30704346e-01,  8.54746403e-02,\n",
       "         6.62920886e-01, -3.26375210e-01,  1.69312234e-01,\n",
       "        -2.76732327e-01, -1.57392530e-01, -2.11047035e-01,\n",
       "        -8.18345309e-01, -4.89537862e-01,  3.78160279e-01,\n",
       "         6.86633201e-03, -1.38436111e-01, -1.46369471e+00,\n",
       "         4.70094456e-01, -4.23073053e-02,  4.63418288e-01,\n",
       "         8.15453954e-01, -1.21466431e+00,  3.59887884e-01,\n",
       "        -6.43268492e-01,  7.23741056e-01, -1.34150625e-01,\n",
       "         1.84482841e-01, -4.99968397e-01,  4.28444961e-02,\n",
       "         1.49423361e-01,  4.19947537e-01,  2.45491099e-01,\n",
       "        -1.82422028e-01,  1.24142493e-01,  4.52884474e-01,\n",
       "         5.53176067e-01, -2.63015739e-01,  5.39536370e-01,\n",
       "         1.87396145e-01,  6.63719033e-01, -1.02151081e-01,\n",
       "         3.43267867e-01, -3.66485853e-01, -1.24793812e+00,\n",
       "         9.66905465e-01, -4.08002899e-01,  2.53082694e-01,\n",
       "         8.43010443e-01, -7.51266832e-03, -8.62867683e-02,\n",
       "        -3.55392806e-01, -2.65050346e-01, -3.75715650e-02,\n",
       "        -4.16185898e-01, -6.57971480e-01,  5.73441460e-01,\n",
       "         2.31074766e-01,  1.26690252e-01, -1.64642785e-01,\n",
       "         1.95252994e-02, -2.80637415e-01, -1.55453929e-02,\n",
       "         7.46343894e-01,  8.09334829e-02,  1.25274352e-03,\n",
       "        -1.81391582e-01, -2.17957483e-01,  1.09978038e-01,\n",
       "         4.28744001e-01,  3.85241472e-01,  1.76976981e-02,\n",
       "        -3.35098606e-01,  3.69606407e-01,  5.71348990e-02,\n",
       "         3.57142833e-01, -3.18958836e-01,  2.67954429e-01,\n",
       "         4.45695033e-01,  2.47723956e-01, -5.69110853e-01,\n",
       "         8.29789384e-03,  1.80568136e-01, -3.84167627e-01,\n",
       "        -1.77140366e-01, -2.12609562e-01,  8.22102618e-01,\n",
       "        -1.28934124e-02,  5.11973356e-02, -3.85441570e-01,\n",
       "        -5.32714176e-01,  4.03158708e-01, -1.97511502e-01,\n",
       "        -3.00554054e-01, -1.61071762e-01,  4.65027882e-01,\n",
       "        -4.17739266e-01, -1.74545970e-01, -1.17042377e-01,\n",
       "         6.73806204e-02,  2.82748076e-01,  3.73467264e-01,\n",
       "        -2.92753227e-01,  4.54132637e-02, -7.37385166e-01,\n",
       "        -9.31699294e-02,  5.38307527e-01, -5.04037848e-01,\n",
       "        -6.03720529e-02,  7.80411610e-01, -9.79287393e-02,\n",
       "         8.14870375e-01, -2.19136992e-01,  7.03015980e-01,\n",
       "         1.61944859e-01,  1.03340141e-01,  3.46728090e-01,\n",
       "         8.16109588e-01,  2.33608414e-01,  5.83662045e-01,\n",
       "         5.69689069e-02,  5.36049217e-01,  6.70431157e-01,\n",
       "         1.51515061e-01, -2.70718628e-01, -1.68134863e-01,\n",
       "        -5.30031986e-01, -8.20787989e-01,  6.14346985e-01,\n",
       "         2.12306499e-01,  4.34635288e-01, -1.83239711e-01,\n",
       "         6.05886292e-01,  5.04256408e-01,  1.03941493e-01,\n",
       "         4.99304874e-02,  2.51246586e-01,  2.89670120e-01,\n",
       "         3.84946213e-02,  8.45208030e-02,  3.77656380e-01,\n",
       "         2.96467071e-01,  1.69271596e-01, -6.23582105e-02,\n",
       "         4.98820570e-01,  3.49495693e-01, -1.47348582e-01,\n",
       "         5.43434607e-01, -1.20458774e-01, -1.26942559e-01,\n",
       "         6.60415158e-01,  7.81292233e-02,  5.03914923e-01,\n",
       "        -1.59318947e-01, -5.32012216e-01,  5.46523387e-02,\n",
       "         1.42245485e-02, -6.47325199e-01, -4.43707458e-01,\n",
       "         3.30405665e-01,  3.78140210e-01,  1.34174411e-02,\n",
       "        -3.20257389e-01,  3.15557410e-01, -1.30505939e-01,\n",
       "         5.03313177e-01,  7.85717413e-02,  2.15517439e-01,\n",
       "         2.02982631e-01, -3.63392430e-02, -4.52823290e-01,\n",
       "        -2.18946343e-01, -1.06996195e+00, -2.33139854e-01,\n",
       "        -1.17173406e-01, -1.04776188e+00, -9.09194697e-02,\n",
       "        -1.82071947e-01,  4.07706115e-01,  3.79366744e-01,\n",
       "         5.33440152e-01, -2.48051695e-01, -3.68677564e-01,\n",
       "        -5.62346093e-02,  3.99176791e-01, -3.08797758e-01,\n",
       "        -4.47888779e-01,  1.29731036e-01, -3.08069124e-01,\n",
       "        -1.61925938e-01, -7.25565597e-02, -1.06091671e-02,\n",
       "        -3.55383046e-01,  1.10717425e-01, -9.80308858e-02,\n",
       "        -2.40294165e-01, -2.32942776e-01,  4.83942204e-01,\n",
       "        -3.30718617e-01, -5.82099712e-01, -1.59054208e-01,\n",
       "         8.72165036e-01, -2.15221441e-02,  4.03746414e-01,\n",
       "        -2.75517313e-01, -4.43830084e-01, -3.06735424e-01,\n",
       "        -5.61225942e-02, -6.90116125e-01, -3.99467879e-01,\n",
       "        -6.11556276e-01,  7.39888435e-01,  1.86998234e-02,\n",
       "         3.66173421e-01,  2.09755694e-01,  9.10394484e-01,\n",
       "         2.30046770e-01, -2.01761149e-01,  3.72884531e-01,\n",
       "         9.95410397e-03, -1.55440021e-01,  4.22743218e-01,\n",
       "         1.75971351e-01,  8.05665128e-01,  2.36004817e-01,\n",
       "        -5.80585124e-02, -6.16489948e-01, -3.21729412e-01,\n",
       "        -1.17206960e-01, -7.11506092e-01, -2.50515840e-01,\n",
       "         3.91892250e-01, -2.13786272e-01, -1.73927700e-01,\n",
       "         2.92819156e-01, -3.89766753e-01, -1.03500969e-01,\n",
       "         4.00139851e-01, -7.24558397e-02,  1.96952201e-01,\n",
       "         2.61872748e-01, -3.86198546e-01, -3.37759661e-01,\n",
       "        -3.91717386e-02,  5.48537070e-01,  1.34796793e-01,\n",
       "        -5.23294973e-01, -2.04101208e-02, -6.57003268e-01,\n",
       "        -4.09404526e-01, -1.11621342e-01, -6.29524686e-02,\n",
       "         3.70383501e-01, -4.63458171e-01,  4.46755923e-02,\n",
       "        -1.52940875e-01,  7.48353823e-01, -1.04054735e-01,\n",
       "        -1.66374797e-01,  8.49386822e-02,  2.19982861e-01,\n",
       "        -8.23452651e-01,  1.73502962e-01,  4.33085903e-01,\n",
       "        -1.16384625e+00, -4.11970697e-01, -6.10118549e-01,\n",
       "         3.20321209e-02, -2.85848428e-02, -3.00976239e-01,\n",
       "         3.29055671e-01, -4.93057696e-01, -4.17809867e-01,\n",
       "        -1.46060474e-01, -1.23465183e-03, -2.34157417e-01,\n",
       "         5.83697727e-01, -3.18648026e-01, -2.18355744e-03,\n",
       "        -5.40099449e-01,  5.36003442e-01,  2.62044263e-01,\n",
       "         1.43923450e-01,  2.81221837e-01, -2.54782307e-02,\n",
       "        -6.16830011e-01,  1.50660490e-01,  8.51931764e-02,\n",
       "        -1.54539728e-02, -3.88861548e-01,  1.73339706e-01,\n",
       "         2.20521411e-02,  2.62949861e-01,  3.60113329e-01,\n",
       "        -1.23431342e-02, -8.82945032e-01,  4.39950708e-01,\n",
       "        -4.42046723e-01, -8.25204015e-01, -1.32224861e-02,\n",
       "        -5.02870734e-01, -1.19148071e-01,  1.97857938e-01,\n",
       "        -2.06031052e-01,  3.89954121e-01, -4.08769176e-01,\n",
       "        -5.83533635e-01, -1.24455573e-01,  5.99625587e-01,\n",
       "        -6.12207347e-01, -4.63589844e-01,  6.76468741e-02,\n",
       "        -2.74257605e-01, -3.01112037e-01,  2.70802361e-01,\n",
       "         1.30662338e+00, -4.09465191e-01, -6.22924152e-01,\n",
       "        -1.66529691e-01,  4.10082895e-01,  1.82513715e-01,\n",
       "         5.90295655e-01,  2.94304650e-01,  3.92233710e-01,\n",
       "         9.01468806e-01,  7.93519310e-01,  9.14711749e-01,\n",
       "         2.50263063e-01,  2.92721939e-01,  4.25223726e-01,\n",
       "         1.83922489e-01,  1.63102619e-01, -2.80781826e-01,\n",
       "        -1.75354995e-01,  1.49112830e-02, -7.90087492e-02,\n",
       "        -7.45030212e-01, -8.63892066e-01,  4.00659438e-01,\n",
       "        -2.65996288e-01,  2.78952232e-01, -5.29823861e-01,\n",
       "        -9.26789139e-01,  4.56261358e-01,  4.42835288e-01,\n",
       "        -3.43717205e-02, -4.60681696e-01,  2.51577573e-01,\n",
       "         3.27800018e-02,  6.91485901e-02,  5.11180620e-01,\n",
       "         2.57242410e-02, -6.63442643e-01,  3.72586737e-01,\n",
       "        -2.75301256e-01,  2.38158838e-01, -2.92218430e-01,\n",
       "         5.07822037e-01,  6.06944158e-02, -2.87376659e-01,\n",
       "        -1.82193585e-01,  1.11364232e-01, -1.25109886e-01,\n",
       "         6.11205487e-01, -2.69242063e-01, -6.23406221e-01,\n",
       "        -5.16756920e-01, -6.82935593e-02, -5.84024482e-01,\n",
       "        -3.13167054e-01, -8.11507667e-02,  5.81556186e-01,\n",
       "        -1.60483962e-01, -6.04638775e-01, -1.20217224e+00,\n",
       "        -4.20496448e-01,  5.14163082e-01, -5.26100874e-02,\n",
       "         9.29413419e-02, -2.30527090e-01,  3.46765433e-01,\n",
       "        -4.85674801e-01,  9.80189785e-02,  3.38129076e-01,\n",
       "        -4.15072627e-01, -2.46284397e-01,  5.53604912e-01,\n",
       "         7.66138154e-01,  7.36482822e-01, -3.10860262e-01,\n",
       "        -3.29515842e-01,  1.40442237e-01, -7.63356471e-02,\n",
       "        -1.01063928e+00,  1.62385216e-01,  4.65867618e-01,\n",
       "         6.22410884e-01,  6.34478469e-01, -3.68650019e-01,\n",
       "        -2.62911731e-01, -6.00029040e-01,  1.51857736e-01,\n",
       "         2.48604793e-01, -4.72631317e-01,  1.43763951e-01,\n",
       "         4.53820804e-01,  1.25104197e+00,  4.08614495e-02,\n",
       "         1.76493860e-01, -2.87168316e-01,  6.06942150e-01,\n",
       "         2.10728638e-01,  2.07105240e-01, -1.10478065e-01,\n",
       "         4.13462801e-01,  8.28187866e-02, -3.31934611e-01,\n",
       "        -1.58581044e-01,  6.68198803e-01, -3.12319074e-01,\n",
       "        -1.71977886e-01,  7.34566929e-01,  2.21578030e-01,\n",
       "        -1.40917376e+00,  4.43817623e-01,  1.97417254e-01,\n",
       "         4.90799587e-01,  4.02372872e-01,  3.91266140e-01,\n",
       "         4.08021474e-01, -2.41718820e-01, -4.54250331e-02,\n",
       "         1.78655372e-01,  1.62033746e-01,  2.73232865e-01,\n",
       "        -4.89472081e-01, -4.80731842e-01,  2.19478152e-01,\n",
       "        -2.37135943e-01,  1.55484958e-01,  1.73696195e-01,\n",
       "        -3.66136233e-01, -2.31727586e-01, -2.72062851e-01,\n",
       "         4.56659773e-01, -1.73679945e-01, -2.04486646e-01,\n",
       "        -2.90670706e-01, -2.27401741e-01,  7.26788691e-01,\n",
       "         1.66869373e-01,  2.52967892e-01, -7.92822283e-02,\n",
       "        -1.63948412e-01,  8.04944353e-02, -1.03462460e-01,\n",
       "         4.27267785e-01,  4.37398801e-01, -7.38495794e-01,\n",
       "         1.08916956e+00,  7.68515255e-01,  4.47161066e-01,\n",
       "        -6.06475132e-01,  3.27395331e-02,  1.30004076e-01,\n",
       "        -4.12757236e-01, -2.75053424e-01, -3.41324358e-01,\n",
       "        -1.40591318e+00,  9.33999254e-01, -1.57064323e-01,\n",
       "         4.35924654e-01,  3.70338770e-01,  4.02460783e-01,\n",
       "        -3.62329217e-01,  4.53215798e-01,  5.25491279e-02,\n",
       "         2.47164316e-01, -9.86562233e-01,  3.97536941e-01,\n",
       "        -1.31760606e-01, -8.55254888e-02, -1.73485790e-01,\n",
       "        -8.75466374e-01,  4.80356316e-01, -2.54347014e-01,\n",
       "         5.30514009e-01,  3.33873582e-02,  5.67670441e-01,\n",
       "        -4.26939823e-01,  2.88730949e-02, -1.59357497e-01,\n",
       "        -2.71505822e-01,  9.38466006e-02,  5.82923432e-01,\n",
       "         3.43246247e-01,  1.55354338e-01,  7.64198308e-02,\n",
       "        -1.85861680e-01, -1.45755776e-01,  2.92106229e-01,\n",
       "         6.78068106e-01,  3.35058527e-01,  1.48137792e-01,\n",
       "         1.66360656e-01, -4.23770381e-01,  3.90534805e-01,\n",
       "        -9.91226578e-02, -3.94819226e-01,  4.57360521e-01,\n",
       "         3.64832053e-01, -8.18523976e-01, -1.99126035e+00,\n",
       "         1.20767924e-01,  2.75249608e-02, -2.28825814e-01,\n",
       "         3.03007208e-01, -3.84834547e-02,  8.40839856e-02,\n",
       "         9.23512478e-02, -3.77366340e-01,  5.83449896e-01,\n",
       "         3.70757891e-01, -6.31762398e-02,  3.44594741e-02]])"
      ]
     },
     "execution_count": 77,
     "metadata": {},
     "output_type": "execute_result"
    }
   ],
   "source": [
    "from sklearn.linear_model import LogisticRegression\n",
    "model = LogisticRegression(fit_intercept = False)\n",
    "mdl = model.fit(features, labels)\n",
    "model.coef_\n"
   ]
  },
  {
   "cell_type": "code",
   "execution_count": 88,
   "metadata": {},
   "outputs": [
    {
     "data": {
      "image/png": "[encoded data removed]",
      "text/plain": [
       "<Figure size 432x288 with 1 Axes>"
      ]
     },
     "metadata": {
      "needs_background": "light"
     },
     "output_type": "display_data"
    }
   ],
   "source": [
    "from matplotlib import pyplot as plt\n",
    "coefs = np.exp(model.coef_).flatten()\n",
    "coef_df = pd.DataFrame({'features': cv.get_feature_names(), 'coefs': coefs}).sort_values('coefs',ascending=True) \n",
    "\n",
    "coef_df.head(10).plot.barh()\n",
    "plt.show()"
   ]
  },
  {
   "cell_type": "code",
   "execution_count": null,
   "metadata": {},
   "outputs": [],
   "source": []
  }
 ],
 "metadata": {
  "kernelspec": {
   "display_name": "Python 3",
   "language": "python",
   "name": "python3"
  },
  "language_info": {
   "codemirror_mode": {
    "name": "ipython",
    "version": 3
   },
   "file_extension": ".py",
   "mimetype": "text/x-python",
   "name": "python",
   "nbconvert_exporter": "python",
   "pygments_lexer": "ipython3",
   "version": "3.6.8"
  }
 },
 "nbformat": 4,
 "nbformat_minor": 2
}
