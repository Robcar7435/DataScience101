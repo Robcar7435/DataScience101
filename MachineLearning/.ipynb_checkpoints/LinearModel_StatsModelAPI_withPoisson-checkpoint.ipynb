{
 "cells": [
  {
   "cell_type": "code",
   "execution_count": 2,
   "metadata": {},
   "outputs": [
    {
     "name": "stdout",
     "output_type": "stream",
     "text": [
      "Optimization terminated successfully.\n",
      "         Current function value: 0.627741\n",
      "         Iterations: 6\n",
      "         Function evaluations: 7\n",
      "         Gradient evaluations: 7\n",
      "                           Logit Regression Results                           \n",
      "==============================================================================\n",
      "Dep. Variable:                      y   No. Observations:                    8\n",
      "Model:                          Logit   Df Residuals:                        7\n",
      "Method:                           MLE   Df Model:                            0\n",
      "Date:                Mon, 11 Nov 2019   Pseudo R-squ.:                 0.09436\n",
      "Time:                        15:14:20   Log-Likelihood:                -5.0219\n",
      "converged:                       True   LL-Null:                       -5.5452\n",
      "Covariance Type:            nonrobust   LLR p-value:                       nan\n",
      "==============================================================================\n",
      "                 coef    std err          z      P>|z|      [0.025      0.975]\n",
      "------------------------------------------------------------------------------\n",
      "x              1.0986      1.155      0.951      0.341      -1.165       3.362\n",
      "==============================================================================\n",
      "b1: 2.99999827692177\n",
      "new prob of y : b1 * 1/4 = 0.7499995692304425\n"
     ]
    }
   ],
   "source": [
    "# To Get P values, the stats model API is used here\n",
    "\n",
    "import statsmodels.api as sm\n",
    "from scipy import stats\n",
    "import numpy as np\n",
    "import pandas as pd\n",
    "\n",
    "# labels have a probablity of 0.5\n",
    "y = [1, 1, 1, 1 , 0, 0 , 0, 0]\n",
    "\n",
    "# when x = 1 prob of label .75, ie   p(y|x=1) = .75, so odds as 3/1\n",
    "# when x = 0 prob of label is .25 p(y|x=0) = .25 so odds are 1/4\n",
    "X= pd.DataFrame({'x':[1, 1, 1, 0,  1, 0, 0, 0]})\n",
    "\n",
    "model = sm.Logit(endog=y, exog=X)\n",
    "results = model.fit(method='bfgs', maxiter=100)\n",
    "\n",
    "print(results.summary())\n",
    "\n",
    "b1 = np.exp(results.params[0])\n",
    "\n",
    "print('b1:', b1 )\n",
    "\n",
    "# Find the new Pobablity of y, when x = 1 \n",
    "\n",
    "print('new prob of y : b1 * 1/4 = {}'.format(b1* 1/4))"
   ]
  },
  {
   "cell_type": "markdown",
   "metadata": {},
   "source": [
    "### Logistic regression with a contstant added\n",
    "Use the add_constant method that essentially adds a columns of ones to your data, by default the first column.\n",
    "This is added to make a dataframe with a constant (ones) column and an X column\n"
   ]
  },
  {
   "cell_type": "code",
   "execution_count": null,
   "metadata": {},
   "outputs": [],
   "source": []
  },
  {
   "cell_type": "code",
   "execution_count": 3,
   "metadata": {},
   "outputs": [
    {
     "name": "stdout",
     "output_type": "stream",
     "text": [
      "   const  x\n",
      "0    1.0  1\n",
      "1    1.0  1\n",
      "2    1.0  1\n",
      "3    1.0  0\n",
      "4    1.0  1\n",
      "5    1.0  0\n",
      "6    1.0  0\n",
      "7    1.0  0\n",
      "Optimization terminated successfully.\n",
      "         Current function value: 0.562335\n",
      "         Iterations: 11\n",
      "         Function evaluations: 12\n",
      "         Gradient evaluations: 12\n",
      "                           Logit Regression Results                           \n",
      "==============================================================================\n",
      "Dep. Variable:                      y   No. Observations:                    8\n",
      "Model:                          Logit   Df Residuals:                        6\n",
      "Method:                           MLE   Df Model:                            1\n",
      "Date:                Mon, 11 Nov 2019   Pseudo R-squ.:                  0.1887\n",
      "Time:                        15:14:20   Log-Likelihood:                -4.4987\n",
      "converged:                       True   LL-Null:                       -5.5452\n",
      "Covariance Type:            nonrobust   LLR p-value:                    0.1480\n",
      "==============================================================================\n",
      "                 coef    std err          z      P>|z|      [0.025      0.975]\n",
      "------------------------------------------------------------------------------\n",
      "const         -1.0986      1.155     -0.951      0.341      -3.362       1.165\n",
      "x              2.1972      1.633      1.346      0.178      -1.003       5.398\n",
      "==============================================================================\n"
     ]
    },
    {
     "name": "stderr",
     "output_type": "stream",
     "text": [
      "/home/matthew/.local/lib/python3.6/site-packages/numpy/core/fromnumeric.py:2495: FutureWarning: Method .ptp is deprecated and will be removed in a future version. Use numpy.ptp instead.\n",
      "  return ptp(axis=axis, out=out, **kwargs)\n"
     ]
    }
   ],
   "source": [
    "from statsmodels.tools import add_constant\n",
    "x_withones = add_constant(X)\n",
    "print(x_withones)\n",
    "\n",
    "model = sm.Logit(endog=y, exog=x_withones)\n",
    "results = model.fit(method='bfgs', maxiter=100)\n",
    "\n",
    "print(results.summary())"
   ]
  },
  {
   "cell_type": "markdown",
   "metadata": {},
   "source": [
    "### Poisson Regression \n",
    "Poisson regression is a class of linear models applied when the out come is a poission distrobution\n",
    "\n",
    "\n",
    "+ The probability of observing a single event over a small interval is approximately proportional to the size of that interval.\n",
    "+ The probability of two events occurring in the same narrow interval is negligible.\n",
    "+ The probability of an event within a certain interval does not change over different intervals.\n",
    "+ The probability of an event in one interval is independent of the probability of an event in any other non-overlapping interval.\n",
    "\n",
    "\n",
    "http://www.pmean.com/definitions/poisson.htm\n",
    "\n",
    "\n",
    "\n",
    "\n",
    "{\\displaystyle P(k{\\text{ events in interval}})={\\frac {\\lambda ^{k}e^{-\\lambda }}{k!}}}\n",
    "\n",
    "With a high enough lambda, the poission distrobution essentially becomes normal\n",
    "\n",
    "\n",
    "Best explanation\n",
    "https://towardsdatascience.com/an-illustrated-guide-to-the-poisson-regression-model-50cccba15958"
   ]
  },
  {
   "cell_type": "code",
   "execution_count": 4,
   "metadata": {},
   "outputs": [
    {
     "data": {
      "image/png": "[encoded data removed]",
      "text/plain": [
       "<Figure size 432x288 with 1 Axes>"
      ]
     },
     "metadata": {
      "needs_background": "light"
     },
     "output_type": "display_data"
    }
   ],
   "source": [
    "from math import factorial, exp\n",
    "from matplotlib import pyplot as plt\n",
    "%matplotlib inline\n",
    "    \n",
    "# define a function to estimate poission probablities\n",
    "def pos(x, l=1):\n",
    "    return (l ** x * exp(-l)) / factorial(x)\n",
    "pos(100)\n",
    "\n",
    "\n",
    "plt.figure()\n",
    "x = np.arange(100)\n",
    "r = range(1, 10)\n",
    "## loop through different lambda and plot results\n",
    "for l in r:\n",
    "    y = list(map(lambda x: pos(x, l), x))\n",
    "\n",
    "    plt.plot(x, y)\n",
    "plt.legend(r)\n",
    "plt.xlim(0, 40)\n",
    "plt.title('Poisson curves with Different Lambdas')\n",
    "plt.xlabel('x')\n",
    "plt.ylabel('probability')\n",
    "plt.show()\n"
   ]
  },
  {
   "cell_type": "code",
   "execution_count": 10,
   "metadata": {},
   "outputs": [
    {
     "name": "stdout",
     "output_type": "stream",
     "text": [
      "Optimization terminated successfully.\n",
      "         Current function value: 1.676978\n",
      "         Iterations 6\n",
      "                          Poisson Regression Results                          \n",
      "==============================================================================\n",
      "Dep. Variable:                      y   No. Observations:                    5\n",
      "Model:                        Poisson   Df Residuals:                        3\n",
      "Method:                           MLE   Df Model:                            1\n",
      "Date:                Mon, 11 Nov 2019   Pseudo R-squ.:                  0.1265\n",
      "Time:                        15:16:48   Log-Likelihood:                -8.3849\n",
      "converged:                       True   LL-Null:                       -9.5994\n",
      "Covariance Type:            nonrobust   LLR p-value:                    0.1191\n",
      "==============================================================================\n",
      "                 coef    std err          z      P>|z|      [0.025      0.975]\n",
      "------------------------------------------------------------------------------\n",
      "const        1.24e-16      0.707   1.75e-16      1.000      -1.386       1.386\n",
      "x1             1.0986      0.782      1.405      0.160      -0.434       2.631\n",
      "==============================================================================\n"
     ]
    }
   ],
   "source": [
    "#Now with StatsModel Api\n",
    "from statsmodels.discrete.discrete_model import Poisson\n",
    "\n",
    "y = np.array([1, 2, 1, 1, 6])\n",
    "x = np.array([0, 1, 0, 1, 1])\n",
    "\n",
    "\n",
    "model =Poisson(endog=y, exog=add_constant(x))\n",
    "results = model.fit()\n",
    "print(results.summary())\n",
    "\n"
   ]
  },
  {
   "cell_type": "code",
   "execution_count": 15,
   "metadata": {},
   "outputs": [
    {
     "name": "stdout",
     "output_type": "stream",
     "text": [
      "coefficent exponetiated 2.9742740725630656 \n",
      "mean y :3.0 when x = 1\n",
      "mean y :1.0 when x = 0\n"
     ]
    }
   ],
   "source": [
    "print('coefficent exponetiated {} '.format(np.exp(1.09)))\n",
    "print('mean y :{} when x = 1'.format(np.mean(y[x ==1])))\n",
    "print('mean y :{} when x = 0'.format(np.mean(y[x ==0])))"
   ]
  }
 ],
 "metadata": {
  "kernelspec": {
   "display_name": "Python 3",
   "language": "python",
   "name": "python3"
  },
  "language_info": {
   "codemirror_mode": {
    "name": "ipython",
    "version": 3
   },
   "file_extension": ".py",
   "mimetype": "text/x-python",
   "name": "python",
   "nbconvert_exporter": "python",
   "pygments_lexer": "ipython3",
   "version": "3.6.9"
  }
 },
 "nbformat": 4,
 "nbformat_minor": 2
}
