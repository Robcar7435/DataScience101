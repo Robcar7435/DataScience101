{
 "cells": [
  {
   "cell_type": "markdown",
   "metadata": {
    "collapsed": true
   },
   "source": [
    "## Intro to Numpy\n",
    "* Numpy is a powerful libray for storing and manipulating arrays.  \n",
    "* Numpy is typically what other methods uses under the hood to manipulate matricies\n"
   ]
  },
  {
   "cell_type": "code",
   "execution_count": 3,
   "metadata": {},
   "outputs": [
    {
     "name": "stdout",
     "output_type": "stream",
     "text": [
      "['a' 'b' 'c' 'a']\n<U1\nnumpy indexing: b c a\nbooling indexing: ['a' 'a']\narray indexed by arrays ['b' 'c' 'b' 'b' 'b']\n"
     ]
    },
    {
     "name": "stderr",
     "output_type": "stream",
     "text": [
      "c:\\python36\\lib\\site-packages\\ipykernel_launcher.py:19: RuntimeWarning: divide by zero encountered in true_divide\n"
     ]
    },
    {
     "data": {
      "text/plain": [
       "array([False,  True,  True,  True,  True])"
      ]
     },
     "execution_count": 3,
     "metadata": {},
     "output_type": "execute_result"
    }
   ],
   "source": [
    "import numpy as np\n",
    "\n",
    "# create and array\n",
    "x = np.array(['a', 'b', 'c', 'a'])\n",
    "print(x)\n",
    "# each array has a data type (dtype) some version of float, int or object(catagorial)\n",
    "print(x.dtype)\n",
    "\n",
    "# numpy supports standard indexing\n",
    "print('numpy indexing:', x[1], x[2], x[-1])\n",
    "\n",
    "# numpy also supports boolian indexing\n",
    "print('booling indexing:', x[x == 'a'])\n",
    "\n",
    "# numpy supports indexing by other numpy arrays\n",
    "\n",
    "print('array indexed by arrays', x[np.array([1, 2, 1, 1, 1])])\n",
    "# numpy has it's many functions for removing nones, nans, and inf\n",
    "x = np.arange(5)\n",
    "np.isfinite(1/x)\n"
   ]
  },
  {
   "cell_type": "code",
   "execution_count": 2,
   "metadata": {},
   "outputs": [
    {
     "name": "stdout",
     "output_type": "stream",
     "text": [
      "2 x 2 matrix of zeros [[0. 0.]\n [0. 0.]]\n2 x 3 matrix of ones [[1. 1. 1.]\n [1. 1. 1.]]\n3 random uniforms [0.23431766 0.09885111]\n3 random normals [0.80845174 0.38607864]\nnumber zero to 10 [0 1 2 3 4 5 6 7 8 9]\n"
     ]
    }
   ],
   "source": [
    "## Generating arrays in numpy \n",
    "import numpy as np\n",
    "print('2 x 2 matrix of zeros', np.zeros((2, 2)))\n",
    "print('2 x 3 matrix of ones', np.ones((2,3)))\n",
    "print('3 random uniforms', np.random.rand(2))\n",
    "print('3 random normals', np.random.normal(0, 1, 2))\n",
    "print('number zero to 10', np.arange(10))\n",
    "\n",
    "\n"
   ]
  },
  {
   "cell_type": "code",
   "execution_count": 14,
   "metadata": {},
   "outputs": [
    {
     "name": "stdout",
     "output_type": "stream",
     "text": [
      "x [0 1 2 3 4 5 6 7]\nx reshaped to 2 x 4 [[0 1 2 3]\n [4 5 6 7]]\nx reshaped to 2 x 4 [[0 1]\n [2 3]\n [4 5]\n [6 7]]\nravel back to 1 d [0 1 2 3 4 5 6 7]\n"
     ]
    }
   ],
   "source": [
    "# reshaping and combining arrays is one of the most usefull attributes of numpy\n",
    "x = np.arange(8)\n",
    "print('x', x)\n",
    "print('x reshaped to 2 x 4', np.reshape(x, (2, 4)))\n",
    "print('x reshaped to 2 x 4', np.reshape(x, (4, 2)))\n",
    "\n",
    "# ravel with un ravel the matrix \n",
    "print('ravel back to 1 d', np.ravel(np.reshape(x, (4, 2))))\n",
    "\n"
   ]
  },
  {
   "cell_type": "code",
   "execution_count": 10,
   "metadata": {},
   "outputs": [
    {
     "name": "stdout",
     "output_type": "stream",
     "text": [
      "[2.3 3.3 4.3]\n[1 1 3]\n"
     ]
    }
   ],
   "source": [
    "# numpy array data types can causes some strange effects\n",
    "# in this case, the whole array's dtype is changed to float\n",
    "x = np.array([1, 2, 3], dtype=int)\n",
    "x = x + 1.3\n",
    "print(x)\n",
    "\n",
    "# in this case, the number is truncated (decimal is removed)\n",
    "# numpy array data types can trunc numbers if you not carefull\n",
    "x = np.array([1, 2, 3], dtype=int)\n",
    "x[1] = 1.3\n",
    "print(x)\n"
   ]
  },
  {
   "cell_type": "code",
   "execution_count": 12,
   "metadata": {},
   "outputs": [
    {
     "name": "stdout",
     "output_type": "stream",
     "text": [
      "vstack [[0 1]\n [2 3]\n [4 5]\n [6 7]\n [0 1]\n [2 3]\n [4 5]\n [6 7]]\n"
     ]
    }
   ],
   "source": [
    "#  arrays can be vstacked (rowise) using vstack\n",
    "x = np.arange(8)\n",
    "x = np.reshape(x, (4, 2))\n",
    "print('vstack', np.vstack((x,x)))\n"
   ]
  },
  {
   "cell_type": "code",
   "execution_count": 13,
   "metadata": {},
   "outputs": [
    {
     "name": "stdout",
     "output_type": "stream",
     "text": [
      "hstack [[0 1 0 1]\n [2 3 2 3]\n [4 5 4 5]\n [6 7 6 7]]\n"
     ]
    }
   ],
   "source": [
    "#  arrays can be hstacked (columnwise) using hstack\n",
    "x = np.arange(8)\n",
    "x = np.reshape(x, (4, 2))\n",
    "print('hstack', np.hstack((x,x)))\n",
    "\n"
   ]
  },
  {
   "cell_type": "code",
   "execution_count": 4,
   "metadata": {},
   "outputs": [
    {
     "name": "stdout",
     "output_type": "stream",
     "text": [
      "value replacement inside arrays [   0    1    2    3    4 1111    6    7    8    9]\n"
     ]
    }
   ],
   "source": [
    "# value replacement inside arrays\n",
    "x = np.arange(10)\n",
    "x[x == 5] = 1111\n",
    "print('value replacement inside arrays', x)\n"
   ]
  },
  {
   "cell_type": "code",
   "execution_count": 2,
   "metadata": {},
   "outputs": [],
   "source": []
  },
  {
   "cell_type": "code",
   "execution_count": 2,
   "metadata": {},
   "outputs": [],
   "source": []
  },
  {
   "cell_type": "code",
   "execution_count": null,
   "metadata": {},
   "outputs": [],
   "source": []
  }
 ],
 "metadata": {
  "kernelspec": {
   "display_name": "Python 2",
   "language": "python",
   "name": "python2"
  },
  "language_info": {
   "codemirror_mode": {
    "name": "ipython",
    "version": 2
   },
   "file_extension": ".py",
   "mimetype": "text/x-python",
   "name": "python",
   "nbconvert_exporter": "python",
   "pygments_lexer": "ipython2",
   "version": "2.7.6"
  }
 },
 "nbformat": 4,
 "nbformat_minor": 0
}
