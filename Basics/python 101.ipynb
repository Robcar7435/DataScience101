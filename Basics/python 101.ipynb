{
 "cells": [
  {
   "cell_type": "markdown",
   "metadata": {},
   "source": [
    "### Very Basic intro to python for Data Science\n",
    "    \n",
    "### This is markdown \n",
    "Home work download this workbook, run each cell, export as a html and upload to oaks the results\n",
    "\n",
    "\n",
    "####  Resources\n",
    "+ A good collection of python how to videos\n",
    "https://pythonprogramming.net/function-parameter-defaults-python-3-basics/\n",
    "\n",
    "+ A good references for basic python information\n",
    "https://python101.pythonlibrary.org/part_i.html\n",
    "\n",
    "\n",
    "### Fire up a Jupter notebook\n",
    "* pip3 install --upgrade pip\n",
    "* pip3 install jupyter\n",
    "\n",
    "\n",
    "#### If pip is not found\n",
    "ensure python\\Scripts diretory is in path\n",
    "https://www.techwalla.com/articles/how-to-set-your-python-path\n",
    "\n",
    "#### Python Style Guide\n",
    "https://www.python.org/dev/peps/pep-0008/\n",
    "\n",
    "\n",
    "\n",
    "    "
   ]
  },
  {
   "cell_type": "markdown",
   "metadata": {},
   "source": [
    "* install python 3.6\n",
    "* set python in path\n",
    "    + windows: https://www.pythoncentral.io/add-python-to-path-python-is-not-recognized-as-an-internal-or-external-command/\n",
    "    + mac:  https://stackoverflow.com/questions/18567472/how-to-set-pythonpath-in-os-x\n",
    "* pip install  pandas, numpy sci kit learn, matplot lib, keras, tensorflow\n",
    "* install jupyter notebooks.\n",
    "* Python Basic \n",
    "https://pythonprogramming.net/introduction-to-python-programming/\n",
    "\n",
    "\n",
    "\n",
    "\n"
   ]
  },
  {
   "cell_type": "markdown",
   "metadata": {},
   "source": [
    "##### Runing a Jupyter Notebook in Pycharm\n",
    "juyter notebook server allows you to write code in a juptyter notebook on a web browser and runs that code in a python instance while your are creating it.  For this to work jupyter server must be running.  This can be used with pycharm, by requires the addional step of attaching the notebook the server, desribed below. \n",
    "\n",
    "\n",
    "+ from command promt type 'jupyter notebook' ,  this starts the juypter server\n",
    "+ copy the http:\\\\.... link that is under neith where it says that jupyter is running.\n",
    "+ click green button above notebook in pycharm, this triggers a prompt to paste in the link to the notebook server.\n",
    "\n"
   ]
  },
  {
   "cell_type": "markdown",
   "metadata": {},
   "source": [
    "\n",
    "\n",
    "#### Key Data Concepts:\n",
    "+ Grainularity  (grain) (level of detail)  https://en.wikipedia.org/wiki/Granularity\n",
    "+ primary key (unique identifier), different for each row ( can be a row number)\n",
    "+ instances (rows)\n",
    "+ attributes (columns)\n",
    "+ filtering, slicing (selecting or removing rows from the data set)\n",
    "+ ordering (changing the order of rows of the data set)\n",
    "+ aggregation (summarizing data using a function such as sum or mean)\n",
    " \n",
    " #### Data Types\n",
    " + catagorical variable with a fixed number of possible values\n",
    "\t+ Zipcodes: 29412, 29413\n",
    "\t+ blood types A, AB+\n",
    "\t+ cities: Charleston, Summerville\n",
    "\n",
    " + numeric:\n",
    "    * integer 1,2 ,2 3, examples are typically counts of things (number of cars a person owns)\n",
    "    * continous (floating) 1.12321, 1.123312 \n",
    "\n",
    " + ID categorical variable where every element is unique, representing a primary key\n",
    "    * Driver License Numbers, and social secuity numbers represent people)\n",
    "    * transaction ids, may represent purshases\n",
    "\t\n",
    " + ordinal a catagorical variable where the categories are ordered, but where basic operations such as addition do not work\n",
    "    * Months: Janurary, Feburary, ... \n",
    "    * Tempurature: cold, warm, hot\n",
    "\n",
    " + text: (tweets, reviews, ect ...)\n",
    " + Dates / Datetimes / Timestamps, tpyically represented as their own data type (in pandas, pyspark, databases and R data frames)\n",
    "    * Often are accidently stored as string or categorical variables\n",
    "    * build in functions can extract month, day, year, min, sec, as well as add and subtract time\n",
    "\n",
    " + images: typically stored as jpeg or similiar in directories that have a primary key in the directory name or in the image file name\n",
    " + videos\n",
    " + boolian (logical) True, False\n",
    " \n",
    " \n",
    " "
   ]
  },
  {
   "cell_type": "markdown",
   "metadata": {},
   "source": [
    "## Basic Data Types of Python\n",
    "#### Strings \n",
    "+ basic storage of text information, are imutable (cannot be changed)\n"
   ]
  },
  {
   "cell_type": "code",
   "execution_count": 31,
   "metadata": {},
   "outputs": [
    {
     "name": "stdout",
     "output_type": "stream",
     "text": [
      "<class 'str'> This is a string\n",
      "strings can be created with \"\" or str()  123\n",
      "strings being added: This is a string + This is a string\n",
      "using the .format method, this is a dynamic strings \"hurray!\"\n",
      "strings can be foreced to lower case using .lower() method ex: \"this is a string\"\n",
      "letters reference by index position 0: T, letter number 1: h, letter 2 :i\n",
      "string ins split on blank space ['This', 'is', 'a', 'string']\n"
     ]
    }
   ],
   "source": [
    "# strings are the most basic variable type to store text information\n",
    "# the are index and contain lots of methods\n",
    "# can be combined using operations to eachother to \n",
    "s = 'This is a string'\n",
    "print( type(s), s)  # prints type and value of s\n",
    "\n",
    "# srtings can be created with \"\" or '' or the str() function\n",
    "print('strings can be created with \"\" or str() ', str(123))\n",
    "\n",
    "# strings can be added with + \n",
    "print('strings being added:', s + ' + ' + s)\n",
    "\n",
    "# strings can be created dynamically in several ways\n",
    "print('using the .format method, this is a dynamic strings \"{}\"'.format('hurray!'))\n",
    "\n",
    "# strings can be foreced to lower case\n",
    "s_lower = s.lower()\n",
    "print('strings can be foreced to lower case using .lower() method ex: \"{}\"'.format(s_lower))\n",
    "\n",
    "# strings letters can be referenced  by inded\n",
    "print('letters reference by index position 0: {}, letter number 1: {}, letter 2 :{}'.format(s[0], s[1], s[2]))\n",
    "\n",
    "\n",
    "# stings can be split into lists based on a speration character:\n",
    "print('string ins split on blank space', s.split(' '))\n",
    "\n"
   ]
  },
  {
   "cell_type": "code",
   "execution_count": 3,
   "metadata": {},
   "outputs": [
    {
     "name": "stdout",
     "output_type": "stream",
     "text": [
      "hello world hello again \n",
      " list some numbers[1, 2, 3]\n"
     ]
    }
   ],
   "source": [
    "# print statements \\n is used as a new line characater\n",
    "print('hello world', 'hello again \\n', f'list some numbers{[1,2,3]}')"
   ]
  },
  {
   "cell_type": "markdown",
   "metadata": {},
   "source": [
    "#### Numeric Data Types (int, float)\n",
    "\n"
   ]
  },
  {
   "cell_type": "code",
   "execution_count": 30,
   "metadata": {},
   "outputs": [
    {
     "name": "stdout",
     "output_type": "stream",
     "text": [
      "1 as a floating number 1.0\n",
      "1.7 as an integer 1\n"
     ]
    }
   ],
   "source": [
    "#int type stores integers and \n",
    "type(1)\n",
    "# can run basic operatins\n",
    "1 + 2 + 3 \n",
    "# floats are treated as decimalls\n",
    "print('1 as a floating number', float(1))\n",
    "\n",
    "# when coersing to integer from float, the number is trucated\n",
    "print('1.7 as an integer', int(1.7))\n",
    "\n",
    "\n"
   ]
  },
  {
   "cell_type": "markdown",
   "metadata": {},
   "source": [
    "#### Date time with python\n",
    "\n",
    "date time are tpically treated as special case.  The can inadvertantly be stored as strings, but storage as a date time object allows addional functioinaly that is very usefull.\n",
    "\n",
    "https://www.w3schools.com/python/python_datetime.asp\n",
    "\n",
    "Standards on how datetime should probably be stored\n",
    "\n",
    "https://en.wikipedia.org/wiki/ISO_8601"
   ]
  },
  {
   "cell_type": "code",
   "execution_count": 17,
   "metadata": {},
   "outputs": [
    {
     "name": "stdout",
     "output_type": "stream",
     "text": [
      "this is now 2020-01-12 15:46:29.618032 <class 'datetime.datetime'>\n",
      "year 2020\n"
     ]
    },
    {
     "data": {
      "text/plain": [
       "(6, 1, 2020, 29)"
      ]
     },
     "execution_count": 17,
     "metadata": {},
     "output_type": "execute_result"
    }
   ],
   "source": [
    "from datetime import datetime\n",
    "# when is now\n",
    "x = datetime.now()\n",
    "print('this is now', x, type(x))\n",
    "\n",
    "# get the year\n",
    "year = x.year\n",
    "print('year', year)\n",
    "# pytho datetime objects, have functions that can extract elements properties out the date time object. \n",
    "\n",
    "\n",
    "x.weekday(), x.month,  x.year, x.second"
   ]
  },
  {
   "cell_type": "code",
   "execution_count": 27,
   "metadata": {},
   "outputs": [
    {
     "data": {
      "text/plain": [
       "datetime.datetime(2012, 12, 31, 0, 0)"
      ]
     },
     "execution_count": 27,
     "metadata": {},
     "output_type": "execute_result"
    }
   ],
   "source": [
    "### Convertring strings to datetimes\n",
    "# If format is \"YYYY-MM-DD\" \n",
    "f = '%Y-%m-%d'\n",
    "\n",
    "# converts string to  a date time object\n",
    "datetime.strptime('2012-12-31', f)\n",
    "\n",
    "f = '%Y/%m/%d'\n",
    "datetime.strptime('2012/12/31', f)\n",
    "\n",
    "f = '%B %d, %Y'\n",
    "datetime.strptime('December 31, 2012', f)"
   ]
  },
  {
   "cell_type": "markdown",
   "metadata": {},
   "source": [
    "#### Try Except Logic on zero division\n",
    "What happens when you dive by zero ?\n",
    "\n",
    "You can use try except handle the case where you are diving by zero"
   ]
  },
  {
   "cell_type": "code",
   "execution_count": 39,
   "metadata": {},
   "outputs": [
    {
     "name": "stdout",
     "output_type": "stream",
     "text": [
      "division by zero\n"
     ]
    }
   ],
   "source": [
    "try:\n",
    "    a = 1/0\n",
    "except Exception as e:\n",
    "    print(e)"
   ]
  },
  {
   "cell_type": "code",
   "execution_count": 37,
   "metadata": {},
   "outputs": [
    {
     "name": "stdout",
     "output_type": "stream",
     "text": [
      "results None\n"
     ]
    }
   ],
   "source": [
    "try:\n",
    "    a = 1/0\n",
    "except ZeroDivisionError:\n",
    "    a = None\n",
    "print('results {}'.format(a))"
   ]
  },
  {
   "cell_type": "code",
   "execution_count": 5,
   "metadata": {},
   "outputs": [
    {
     "name": "stdout",
     "output_type": "stream",
     "text": [
      "<class 'int'>\n"
     ]
    },
    {
     "data": {
      "text/plain": [
       "4"
      ]
     },
     "execution_count": 5,
     "metadata": {},
     "output_type": "execute_result"
    }
   ],
   "source": [
    "# basic of syntax and store of variables\n",
    "# python is space and indent sensitive \n",
    "# everything in python is essentially an object, with methods\n",
    "# python is backed by C, and \n",
    "print(type(12))\n",
    "a = 12\n",
    "\n",
    "a.bit_length() # measures the bit length of a int"
   ]
  },
  {
   "cell_type": "markdown",
   "metadata": {},
   "source": [
    "#### Getting the Size of objects in python\n",
    "Measure the number of bytes of different objects."
   ]
  },
  {
   "cell_type": "code",
   "execution_count": 44,
   "metadata": {},
   "outputs": [
    {
     "data": {
      "text/plain": [
       "(28, 24, 52, 72)"
      ]
     },
     "execution_count": 44,
     "metadata": {},
     "output_type": "execute_result"
    }
   ],
   "source": [
    "# What is larger, strings or numbers in python\n",
    "import sys\n",
    "sys.getsizeof(100),sys.getsizeof(100.0), sys.getsizeof('100'), sys.getsizeof([100])\n",
    "\n",
    "# as you can see, being in a string and list represetation adds allot of memory "
   ]
  },
  {
   "cell_type": "code",
   "execution_count": 43,
   "metadata": {},
   "outputs": [
    {
     "data": {
      "text/plain": [
       "float"
      ]
     },
     "execution_count": 43,
     "metadata": {},
     "output_type": "execute_result"
    }
   ],
   "source": []
  },
  {
   "cell_type": "markdown",
   "metadata": {},
   "source": [
    "#### Lists \n",
    "+ stores any type of variable with index order\n",
    "+ Are mutable (elements can be changed)\n",
    "+ create with []\n",
    "+ use the .append() method to add items to list after the list has already been created\n",
    "+ use [] + [] to combine lists\n",
    "+ use enumercate to get items and indicies out the list"
   ]
  },
  {
   "cell_type": "code",
   "execution_count": 72,
   "metadata": {},
   "outputs": [
    {
     "name": "stdout",
     "output_type": "stream",
     "text": [
      "this is a python list [1, 2, 3]\n",
      "this is the same list with one element altered [None, 2, 3]\n",
      "None\n",
      "3\n",
      "[None, 2, 3, 'this is the end'] after appending\n",
      "[None, 2, 3, 'this is the end', None, 2, 3, 'this is the end']\n",
      "exmple of [1,2].append(3):  [1, 2, 3]\n",
      "[(0, 'a'), (1, 'b'), (2, 'c')]\n"
     ]
    }
   ],
   "source": [
    "# python lists\n",
    "# PYTHON INDEX STARTS AT 0 !!!!\n",
    "# are mutable and the values inside a list are indexed (ordered\n",
    "m = [1, 2, 3]\n",
    "print('this is a python list', m)\n",
    "a = m\n",
    "a[0] = None\n",
    "print('this is the same list with one element altered', m)\n",
    "# to access elements of a list, use indexing\n",
    "print(m[0])  # first element\n",
    "print(m[-1]) # last element\n",
    "m.append('this is the end') # add an element to a list\n",
    "print(m, 'after appending')\n",
    "print(m * 2) ## multiplying a list\n",
    "\n",
    "\n",
    "x = [1, 2]\n",
    "x.append(3)\n",
    "print('exmple of [1,2].append(3): ', x)\n",
    "\n",
    "\n",
    "# using enumerate to access a list\n",
    "print([(i,j ) for i, j in enumerate(['a', 'b', 'c'])])\n"
   ]
  },
  {
   "cell_type": "markdown",
   "metadata": {},
   "source": [
    "#### Tuples\n",
    "+ stores any type of variable with index order\n",
    "+ Are NOT mutable(elements cannot be changed)\n",
    "+ create with ()"
   ]
  },
  {
   "cell_type": "code",
   "execution_count": 42,
   "metadata": {},
   "outputs": [
    {
     "name": "stdout",
     "output_type": "stream",
     "text": [
      "supported indexing, get elemnt 1 : 2\n",
      "'tuple' object does not support item assignment\n",
      "(1, 2, 3)\n"
     ]
    }
   ],
   "source": [
    "# tuples are similar to lists, however are not mutable, and don't support index assignment\n",
    "t = (1,2,3)\n",
    "print('supported indexing, get elemnt 1 :', t[1])\n",
    "try: \n",
    "    t[1] = 9\n",
    "except Exception as e :\n",
    "    print(e)\n",
    "    print(t)\n"
   ]
  },
  {
   "cell_type": "markdown",
   "metadata": {},
   "source": [
    "#### Sets\n",
    "+ collection of unique elements\n",
    "+ does not support intexing\n",
    "+ is not mutable\n",
    "+ have lots of set operations built in\n"
   ]
  },
  {
   "cell_type": "code",
   "execution_count": 44,
   "metadata": {},
   "outputs": [
    {
     "name": "stdout",
     "output_type": "stream",
     "text": [
      "{4, 5}\n",
      "{3}\n"
     ]
    }
   ],
   "source": [
    "# sets are storage objects where every element is unique, are non mutable and do not support\n",
    "# index\n",
    "# however the have lots of handy methods\n",
    "a = set((1, 2, 3))\n",
    "b = set((3, 4, 5))\n",
    "print(b.difference(a))  # elements in b that are not in a\n",
    "print(b.intersection(a)) # elements in both sets"
   ]
  },
  {
   "cell_type": "markdown",
   "metadata": {},
   "source": [
    "#### Dictionaries\n",
    "+ set of key, value par\n",
    "+ all keys must be unique\n",
    "+ mutable (elements can be changed)\n",
    "+ created with {key:value}"
   ]
  },
  {
   "cell_type": "code",
   "execution_count": 43,
   "metadata": {},
   "outputs": [
    {
     "name": "stdout",
     "output_type": "stream",
     "text": [
      "dict_keys(['x', 'y']) dict_values([[1, 2, 3], ['val0', 'val1']])\n",
      "{'x': None, 'y': ['val0', 'val1']}\n"
     ]
    }
   ],
   "source": [
    "# dictionaries are storage type for key, value pars\n",
    "# every key must be unique\n",
    "# the values could themseleves be lists or tuples\n",
    "d = {'x': [1,2,3], 'y': ['val0', 'val1']}\n",
    "print(d.keys(), d.values())\n",
    "# dictionaries are mutabable and accessed by their respective keys\n",
    "\n",
    "y = d\n",
    "y['x'] = None\n",
    "print(d)\n",
    "\n"
   ]
  },
  {
   "cell_type": "code",
   "execution_count": 36,
   "metadata": {},
   "outputs": [
    {
     "name": "stdout",
     "output_type": "stream",
     "text": [
      "[0, 1, 2, 3]\n",
      "[4, 6, 8]\n",
      "[10, 8, 6, 4]\n"
     ]
    }
   ],
   "source": [
    "# ranges generate numbers between a certain range with a step size\n",
    "# for example\n",
    "print(list(range(4)))  # returns a list of values when list is called to a range\n",
    "print(list(range(4, 10, 2)))\n",
    "print(list(range(10, 2, -2)))"
   ]
  },
  {
   "cell_type": "markdown",
   "metadata": {},
   "source": [
    "#### Boolian Data Types and Logic\n",
    "+ Boolians aka logical or True / False has its own data type in python\n",
    "+ use  == to test whether something is true\n",
    "+ Can be chained together using and or\n",
    "+ multple conditions, use any() or all()"
   ]
  },
  {
   "cell_type": "code",
   "execution_count": 70,
   "metadata": {},
   "outputs": [
    {
     "name": "stdout",
     "output_type": "stream",
     "text": [
      "basic boolian test 1==2 : False\n",
      "using and to see if test 1 and test 2 are both : True False\n",
      "using or to see if test 1 or test 2 or both are  : True False\n",
      "x is false when is None\n",
      "x is false when is 0\n",
      "using all((True, False)) False\n",
      "using any((True, False)) True\n"
     ]
    }
   ],
   "source": [
    "print('basic boolian test 1==2 :', 1==2) \n",
    "print('using and to see if test 1 and test 2 are both :', 1==1 and 2==2, 1==1 and 2==1 )\n",
    "print('using or to see if test 1 or test 2 or both are  :', 1==1 or 3==2, 1==2 or 2==3)\n",
    "x = None\n",
    "\n",
    "## behavoir  when x is None, treated as False\n",
    "if x:\n",
    "    print('x is true when x is {}'.format(x))\n",
    "else:\n",
    "    print('x is false when is {}'.format(x))\n",
    "    \n",
    "x = 0\n",
    "\n",
    "## behavoir  when x is zero, shows this is treated as False\n",
    "if x:\n",
    "    print('x is true when x is {}'.format(x))\n",
    "else:\n",
    "    print('x is false when is {}'.format(x))    \n",
    "    \n",
    "# usage of any and all\n",
    "x = (1==1, 1==2)\n",
    "print('using all({})'.format(x), all(x))\n",
    "print('using any({})'.format(x), any(x))"
   ]
  },
  {
   "cell_type": "markdown",
   "metadata": {},
   "source": [
    "## LOOPS\n",
    "\n",
    "Loop conduction an operation again and again untill a condition is met\n",
    "+ for loops perform an operation a fixed number of times\n",
    "   * can use list comprehension method [print(i) for i in my_list]\n",
    "   * can use  for i in my_list: print(i) \n",
    "\n",
    "+ while loops perform an operation until a logical statement is False\n",
    "\n"
   ]
  },
  {
   "cell_type": "code",
   "execution_count": 43,
   "metadata": {},
   "outputs": [
    {
     "name": "stdout",
     "output_type": "stream",
     "text": [
      "[0, 1, 4, 9, 16]\n",
      "[0, 1, 4, 9, 16]\n",
      "[0, 1, 4, 9, 16]\n"
     ]
    }
   ],
   "source": [
    "# for loops with list comprehension\n",
    "v = [i*i for i in range(5)]\n",
    "print(v)\n",
    "\n",
    "# different method for using a for loop\n",
    "v = []\n",
    "for i in range(5):\n",
    "    v.append(i * i)\n",
    "print(v)\n",
    "\n",
    "# while loops\n",
    "i = 0\n",
    "v = []\n",
    "while i < 5:\n",
    "    v.append(i * i)\n",
    "    i += 1 \n",
    "print(v)\n",
    "\n",
    "# loops are slow in python"
   ]
  },
  {
   "cell_type": "code",
   "execution_count": 1,
   "metadata": {},
   "outputs": [
    {
     "name": "stdout",
     "output_type": "stream",
     "text": [
      "[False, False, False, True, True]\n",
      "[False, False, False, True, True]\n"
     ]
    }
   ],
   "source": [
    "# if else logic inside loops\n",
    "print([True if i > 2 else False for i in range(5)])\n",
    "\n",
    "x = []\n",
    "\n",
    "# inside a loop \n",
    "for i in range(5):\n",
    "    if i > 2:\n",
    "        x.append(True)\n",
    "    else:\n",
    "        x.append(False)\n",
    "print(x)"
   ]
  },
  {
   "cell_type": "markdown",
   "metadata": {},
   "source": [
    "## Functions\n",
    "+ typically take input\n",
    "+ perform some sort of operation\n",
    "+ return output\n",
    "+ use help(my_function) to get help information for my_fuctnion\n",
    "\n",
    "##### Args and Kwargs \n",
    "+ Args: (Arguments) are refered to as positional arguments, and always happen in the same position, must always happen before kwargs.\n",
    "\n",
    "+ kwargs: Key word arguments are reference by a key workd = syntax and may occure in any order\n"
   ]
  },
  {
   "cell_type": "code",
   "execution_count": 46,
   "metadata": {},
   "outputs": [
    {
     "name": "stdout",
     "output_type": "stream",
     "text": [
      "hello Bill Murray, how was your weekend?\n",
      "Professor Davis had 2 cups of coffee today\n",
      "Professor Davis had 3 cups of coffee today\n"
     ]
    }
   ],
   "source": [
    "# functions\n",
    "def greetings(x):\n",
    "    '''\n",
    "    \n",
    "    :param x: string\n",
    "    :return: string\n",
    "    '''\n",
    "    return 'hello ' + str(x) + ', how was your weekend?'\n",
    "\n",
    "print(greetings('Bill Murray'))\n",
    "    \n",
    "\n",
    "# functions with wkargs \n",
    "def coffee(name, n=2):\n",
    "    # demonstrates and F string. \n",
    "    return f'{name} had {n} cups of coffee today'\n",
    "\n",
    "print(coffee('Professor Davis'))\n",
    "print(coffee('Professor Davis', 3))\n"
   ]
  },
  {
   "cell_type": "code",
   "execution_count": 48,
   "metadata": {},
   "outputs": [
    {
     "data": {
      "text/plain": [
       "'steve had 4 cups of coffee today'"
      ]
     },
     "execution_count": 48,
     "metadata": {},
     "output_type": "execute_result"
    }
   ],
   "source": [
    "#using kwargs \n",
    "coffee(n=4, name='steve')"
   ]
  },
  {
   "cell_type": "markdown",
   "metadata": {},
   "source": [
    "#### Global vs Local Variables,\n",
    "variables define inside a function, are local to that function\n",
    "variables define outside, can be use inside a function, or really anwhere else are globals.\n",
    "\n",
    "They can be gotten with the locals() and globals() functions respectively.\n"
   ]
  },
  {
   "cell_type": "markdown",
   "metadata": {},
   "source": [
    "#### Lamda Functions\n",
    "+ One time use on the fly functions\n",
    "+ when combined with map, can apply a function to every element of a list"
   ]
  },
  {
   "cell_type": "code",
   "execution_count": 14,
   "metadata": {},
   "outputs": [
    {
     "name": "stdout",
     "output_type": "stream",
     "text": [
      "[1, 4, 9]\n",
      "9\n"
     ]
    }
   ],
   "source": [
    "# lambda are on the fly functions that don't need to be stored (ie used one)\n",
    "# when combined with map, it applies all operations to a list \n",
    "# they are applied to a list\n",
    "# list operator on my needs to be called to get values out of the map object.\n",
    "my_list = [1, 2, 3]\n",
    "x = map(lambda x: x * x, my_list) \n",
    "print(list(x))\n",
    "\n",
    "\n",
    "# lambda can also be used as a normal function\n",
    "f = lambda x: x * x\n",
    "print(f(my_list[2]))\n",
    "\n"
   ]
  },
  {
   "cell_type": "markdown",
   "metadata": {},
   "source": [
    "### Generators\n",
    "+ functions that keep track of how to calculate the next value\n",
    "+ are statefull \n",
    "+ yeilds instead of returns\n",
    "+ when list() use call to a generator, the entire list of results is return\n",
    "+ very very efficient in python, whenever a list is return, consider using a generator instead"
   ]
  },
  {
   "cell_type": "code",
   "execution_count": 17,
   "metadata": {},
   "outputs": [
    {
     "name": "stdout",
     "output_type": "stream",
     "text": [
      "I want a latte\n",
      "I want a drip\n",
      "['I want a latte', 'I want a drip', 'I want a poor over', 'I want a cortada', 'I want a experesso']\n"
     ]
    }
   ],
   "source": [
    "# generators are very similar to functions, by they field a value for each iteration of a loop\n",
    "# in general python generators are preferable when the return value is a list\n",
    "# example\n",
    "\n",
    "coffees = ['latte', 'drip', 'poor over', 'cortada', 'experesso']\n",
    "\n",
    "def i_wanta_gen(x):\n",
    "    for coffee in x:\n",
    "        yield 'I want a ' + str(coffee)\n",
    "        \n",
    "        \n",
    "gen = i_wanta_gen(coffees)\n",
    "\n",
    "# generators are statefull and can be run one step at a time.\n",
    "print(next(gen))\n",
    "print(next(gen))\n",
    "# the also can be run all at once\n",
    "gen = i_wanta_gen(coffees)\n",
    "next(gen)\n",
    "print(list(gen))\n",
    "        \n",
    "\n",
    "\n"
   ]
  },
  {
   "cell_type": "markdown",
   "metadata": {},
   "source": [
    "#### Python Classes Store methods (functions) and data\n",
    "+ Classes are a very common way to use code\n",
    "+ each class has a init, which is what happens when the class is intialized\n",
    "+ classes can be state full and persisint, if desicn\n",
    "+ methods can be access insde the class.\n",
    "+ classes also tpyically have help built into them"
   ]
  },
  {
   "cell_type": "code",
   "execution_count": 11,
   "metadata": {},
   "outputs": [
    {
     "name": "stdout",
     "output_type": "stream",
     "text": [
      "hello Bill Murray, how was your weekend?\n",
      "hello Steven Hawkings, how was your weekend?\n"
     ]
    },
    {
     "data": {
      "text/plain": [
       "{'Bill Murray', 'Steven Hawkings'}"
      ]
     },
     "execution_count": 11,
     "metadata": {},
     "output_type": "execute_result"
    }
   ],
   "source": [
    "# python classes, used to store multiple methods, and statefull data\n",
    "# store data and methods:\n",
    "\n",
    "class Greeter:\n",
    "    '''\n",
    "    A class to demonstrate how to uses classes \n",
    "    functions are defined inside the class, and must contain and init function\n",
    "    (thats used to initialize the class)\n",
    "    '''\n",
    "    def __init__(self):\n",
    "        '''\n",
    "        the init intializes the class\n",
    "        g = Greater()\n",
    "        in this case, only sets up a dictionary inside self\n",
    "        by convention, self is used \n",
    "        '''\n",
    "        self._people_met = set()\n",
    "        pass\n",
    "    \n",
    "    def greetings(self, name):\n",
    "        '''\n",
    "        returns a greating, and saves whoever was met.\n",
    "        :param name: str  \n",
    "        :return: str\n",
    "        '''\n",
    "        self._people_met.add(name)\n",
    "        return 'hello ' + str(name) + ', how was your weekend?'\n",
    "    \n",
    "    def get_people(self):\n",
    "        '''\n",
    "        \n",
    "        :return: a set of people met\n",
    "        '''\n",
    "        return self._people_met\n",
    "\n",
    "\n",
    "g = Greeter()\n",
    "print(g.greetings('Bill Murray'))\n",
    "print(g.greetings('Steven Hawkings'))\n",
    "g.get_people()\n"
   ]
  },
  {
   "cell_type": "markdown",
   "metadata": {},
   "source": [
    "#### Imports and Code Modules\n",
    "+ python functions and classes can be saved in a .py file and directly imported laters\n",
    "+ when multiple .py files can be combined in a directory and installed together, this essentialled becomes a python pacakge (although there are some additional files that need to be added as well)\n",
    "#### importing code syntax"
   ]
  },
  {
   "cell_type": "code",
   "execution_count": 12,
   "metadata": {},
   "outputs": [
    {
     "data": {
      "text/plain": [
       "'C:\\\\Users\\\\Matthew\\\\PycharmProjects\\\\DataScience_101'"
      ]
     },
     "execution_count": 12,
     "metadata": {},
     "output_type": "execute_result"
    }
   ],
   "source": [
    "## imports and entier module, to use later reference the import and functions you need\n",
    "\n",
    "import os\n",
    "os.getcwd() ## returns the working directory of the python as a string\n",
    "\n",
    "## you can also import funcitons directing using\n",
    "from os import getcwd\n",
    "getcwd()  ##\n",
    "\n"
   ]
  },
  {
   "cell_type": "code",
   "execution_count": 1,
   "metadata": {},
   "outputs": [],
   "source": []
  },
  {
   "cell_type": "code",
   "execution_count": null,
   "metadata": {},
   "outputs": [],
   "source": []
  },
  {
   "cell_type": "markdown",
   "metadata": {},
   "source": []
  }
 ],
 "metadata": {
  "kernelspec": {
   "display_name": "Python 3",
   "language": "python",
   "name": "python3"
  },
  "language_info": {
   "codemirror_mode": {
    "name": "ipython",
    "version": 3
   },
   "file_extension": ".py",
   "mimetype": "text/x-python",
   "name": "python",
   "nbconvert_exporter": "python",
   "pygments_lexer": "ipython3",
   "version": "3.6.9"
  }
 },
 "nbformat": 4,
 "nbformat_minor": 1
}
