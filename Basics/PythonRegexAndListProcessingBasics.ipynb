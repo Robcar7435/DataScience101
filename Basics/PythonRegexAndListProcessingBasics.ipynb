{
 "cells": [
  {
   "cell_type": "markdown",
   "metadata": {},
   "source": [
    "## REGEX (regular expressions)\n",
    "Regex is used to extract values from strings.  In python this typically done with the re package.\n",
    "Typically regex patterns are subbmitted to functions in the re package that take and return a string.\n",
    "\n",
    "Regex Cheat Sheet https://www.debuggex.com/cheatsheet/regex/python\n",
    "\n",
    "#### Regex function in the re packages\n",
    "+ findall: \tReturns a list containing all matches\n",
    "+ search: \tReturns a Match object if there is a match anywhere in the string\n",
    "+ split: \tReturns a list where the string has been split at each match\n",
    "+ sub: \tReplaces one or many matches with a string\n"
   ]
  },
  {
   "cell_type": "markdown",
   "metadata": {},
   "source": [
    "\\A \trestricts the match to start of string\n",
    "\n",
    "\\Z \trestricts the match to end of string\n",
    "\n",
    "^ \trestricts the match to start of line\n",
    "\n",
    "$ \trestricts the match to end of line\n",
    "\n",
    "\\n \tnewline character is used as line separator\n",
    "\n",
    "\\b \trestricts the match to start/end of words\n",
    "\n",
    "\\B \tmatches wherever \\b doesn’t match\n",
    "\n",
    "| \tmultiple RE combined as conditional OR each alternative can have independent anchors\n",
    "\n",
    ". \tMatch any character except the newline character \n",
    "\n",
    "[] \tCharacter class, matches one character among many\n",
    "\n",
    "\n",
    "'*' \tMatch zero or more times\n",
    "\n",
    "\n",
    "'+' \tMatch one or more times\n",
    "\n",
    "\n",
    "? \tMatch zero or one times\n",
    "\n",
    "{m,n} \tMatch m to n times (inclusive)\n",
    "\n",
    "{m,} \tMatch at least m times\n",
    "\n",
    "{,n} \tMatch up to n times (including 0 times)\n",
    "\n",
    "{n} \tMatch exactly n times\n",
    "\n",
    "[aeiou] \tMatch any vowel\n",
    "\n",
    "[^aeiou] \t^ inverts selection, so this matches any consonant\n",
    "\n",
    "[a-f] \t- defines a range, so this matches any of abcdef characters\n",
    "\n",
    "\\d \tMatch a digit, same as [0-9]\n",
    "\n",
    "\\D \tMatch non-digit, same as [^0-9] or [^\\d]\n",
    "\n",
    "\\w \tMatch word character, same as [a-zA-Z0-9_]\n",
    "\n",
    "\\W \tMatch non-word character, same as [^a-zA-Z0-9_] or [^\\w]\n",
    "\n",
    "\\s \tMatch whitespace character, same as [\\ \\t\\n\\r\\f\\v]\n",
    "\n",
    "\\S \tMatch non-whitespace character, same as [^\\ \\t\\n\\r\\f\\v] or [^\\s]\n",
    "\n",
    "\n",
    "    \n",
    "    \n",
    "referenced from https://learnbyexample.github.io/cheatsheet/python/python-regex-cheatsheet/"
   ]
  },
  {
   "cell_type": "code",
   "execution_count": 2,
   "metadata": {},
   "outputs": [
    {
     "name": "stdout",
     "output_type": "stream",
     "text": [
      "['123', '456']\n"
     ]
    }
   ],
   "source": [
    "## Find digits in strings\n",
    "import re\n",
    "x = '123test 456'\n",
    "print(re.findall('\\d+',x))\n"
   ]
  },
  {
   "cell_type": "code",
   "execution_count": 4,
   "metadata": {},
   "outputs": [
    {
     "name": "stdout",
     "output_type": "stream",
     "text": [
      "123456\n"
     ]
    }
   ],
   "source": [
    "## replaces all none digits with ''\n",
    "print(re.sub('[^\\d*]', '', x))"
   ]
  },
  {
   "cell_type": "code",
   "execution_count": 10,
   "metadata": {},
   "outputs": [
    {
     "name": "stdout",
     "output_type": "stream",
     "text": [
      "['1.23']\n"
     ]
    }
   ],
   "source": [
    "## Extract floating point number\n",
    "x = 'this is a test 1.23'\n",
    "print(re.findall('\\d[.]?\\d*',x))\n"
   ]
  },
  {
   "cell_type": "code",
   "execution_count": 30,
   "metadata": {},
   "outputs": [
    {
     "data": {
      "text/plain": [
       "1.23"
      ]
     },
     "execution_count": 30,
     "metadata": {},
     "output_type": "execute_result"
    }
   ],
   "source": [
    "## packing floats into a function\n",
    "## Extract floating point number\n",
    "\n",
    "x = 'this is a test 1.23'\n",
    "\n",
    "# most basic function\n",
    "def string_to_float(x):\n",
    "    output = re.findall('\\d[.]?\\d*',x)[0]\n",
    "    return float(output)\n",
    "\n",
    "# with error handeling\n",
    "def string_to_float(x, fill_val=0):\n",
    "    try:\n",
    "        output = re.findall('\\d[.]?\\d*',x)[0]\n",
    "    except:\n",
    "        output = fill_val\n",
    "    return float(output)\n",
    "\n",
    "# as a generator\n",
    "\n",
    "string_to_float(x)"
   ]
  },
  {
   "cell_type": "markdown",
   "metadata": {},
   "source": [
    "#### Applying Regex to a list of Strings\n",
    "Applying a regex function to a list of strings, there are 4 basic methods\n",
    "\n",
    "+ list comprhension, simple and readable, but slow\n",
    "+ generators, typically very fast when embedded in function\n",
    "+ multi threading, shared memory space\n",
    "+ multi processing, (spins up multiple processing with seperate memory spaces, cannot be burried easily in a function"
   ]
  },
  {
   "cell_type": "code",
   "execution_count": 43,
   "metadata": {},
   "outputs": [
    {
     "data": {
      "text/plain": [
       "[1.23, 1.123, 0.0]"
      ]
     },
     "execution_count": 43,
     "metadata": {},
     "output_type": "execute_result"
    }
   ],
   "source": [
    "## List comprehension method\n",
    "# Good for small data, (typically slow)\n",
    "my_list = [ 'this is a test 1.23', '1.123x', None]\n",
    "[string_to_float(x) for x in my_list]"
   ]
  },
  {
   "cell_type": "code",
   "execution_count": 42,
   "metadata": {},
   "outputs": [
    {
     "data": {
      "text/plain": [
       "[1.23, 1.123, 0.0]"
      ]
     },
     "execution_count": 42,
     "metadata": {},
     "output_type": "execute_result"
    }
   ],
   "source": [
    "# Apply to a list as a generator\n",
    "my_list = [ 'this is a test 1.23', '1.123x', None]\n",
    "# as a generator\n",
    "def string_to_float_gen(input_list, fill_val=0):\n",
    "    for x in input_list:\n",
    "        try:\n",
    "            output = re.findall('\\d[.]?\\d*',x)[0]\n",
    "        except:\n",
    "            output = fill_val\n",
    "        yield float(output)\n",
    "\n",
    "\n",
    "list(string_to_float_gen(my_list ))\n"
   ]
  },
  {
   "cell_type": "code",
   "execution_count": 40,
   "metadata": {},
   "outputs": [
    {
     "data": {
      "text/plain": [
       "[1.23, 1.123, 0.0]"
      ]
     },
     "execution_count": 40,
     "metadata": {},
     "output_type": "execute_result"
    }
   ],
   "source": [
    "### Apply using multithreading using map\n",
    "\n",
    "my_list = [ 'this is a test 1.23', '1.123x', None]\n",
    "list(map(string_to_float, my_list))\n",
    "\n"
   ]
  },
  {
   "cell_type": "code",
   "execution_count": 39,
   "metadata": {},
   "outputs": [
    {
     "name": "stdout",
     "output_type": "stream",
     "text": [
      "[1.23, 1.123, 0.0]\n"
     ]
    }
   ],
   "source": [
    "## Using Multiprocessing to apply to a list in parallel\n",
    "from multiprocessing import Pool, cpu_count\n",
    "\n",
    "n_cpus =  cpu_count()\n",
    "if __name__ == '__main__':  # protects from spinning up multiple proccess \n",
    "    p = Pool(n_cpus)\n",
    "    output = p.map(string_to_float, my_list)\n",
    "    p.terminate()\n",
    "\n",
    "print(output)"
   ]
  }
 ],
 "metadata": {
  "kernelspec": {
   "display_name": "Python 3",
   "language": "python",
   "name": "python3"
  },
  "language_info": {
   "codemirror_mode": {
    "name": "ipython",
    "version": 3
   },
   "file_extension": ".py",
   "mimetype": "text/x-python",
   "name": "python",
   "nbconvert_exporter": "python",
   "pygments_lexer": "ipython3",
   "version": "3.6.9"
  }
 },
 "nbformat": 4,
 "nbformat_minor": 2
}
