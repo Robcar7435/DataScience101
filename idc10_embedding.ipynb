{
 "cells": [
  {
   "cell_type": "code",
   "execution_count": 63,
   "metadata": {},
   "outputs": [
    {
     "data": {
      "text/plain": [
       "[('is a test', 'a', 0),\n",
       " ('this a test', 'is', 1),\n",
       " ('this a test', 'test', 0),\n",
       " ('this is test', 'a', 1),\n",
       " ('this is test', 'a', 0),\n",
       " ('this is a', 'test', 1),\n",
       " ('this is a', 'a', 0),\n",
       " ('this is a test', '', 1),\n",
       " ('this is a test', 'is', 0)]"
      ]
     },
     "execution_count": 63,
     "metadata": {},
     "output_type": "execute_result"
    }
   ],
   "source": [
    "from keras.preprocessing.text import Tokenizer\n",
    "import random \n",
    "from keras.preprocessing.sequence import pad_sequences\n",
    "import numpy as np\n",
    "docs = ['this is a test ', 'this is also a test', 'why and I still testing this', 'ok now the test is over']\n",
    "\n",
    "\n",
    "class SkipGram:\n",
    "    def __init__(self, max_len=5, tokenizer=None):\n",
    "        self.max_len = max_len\n",
    "        self.tokenizer = tokenizer\n",
    "        self.words = None\n",
    "        self.probs = None\n",
    "        self.n_words = None\n",
    "        if tokenizer:\n",
    "            self._setup_words()\n",
    "        pass\n",
    "\n",
    "    def _setup_words(self):\n",
    "        self.n_words = sum(self.tokenizer.word_counts.values())\n",
    "        self.words = np.array(list(self.tokenizer.word_counts.keys()))\n",
    "        p = np.log(np.array(list(self.tokenizer.word_counts.values())))\n",
    "        self.probs = p/p.sum()\n",
    "    def fit(self, docs):\n",
    "        self.tokenizer = Tokenizer()\n",
    "        self.tokenizer.fit_on_texts(docs)\n",
    "        self._setup_words()\n",
    "\n",
    "    def _text_to_padded_sequences(self, docs):\n",
    "        seqs = self.tokenizer.texts_to_sequences(docs)\n",
    "        seqs_padded = pad_sequences(seqs, maxlen=self.max_len, padding='post', truncating='post')\n",
    "        return seqs_padded\n",
    "    def text_to_seq(self, docs):\n",
    "        seqs = self.tokenizer.texts_to_sequences(docs)\n",
    "        seqs_padded = pad_sequences(seqs, maxlen=self.max_len-1, padding='post', truncating='post')\n",
    "        return seqs_padded\n",
    "    def _random_choice_int(self, v):\n",
    "        new_word = np.random.choice(self.words, 1, p=self.probs)[0]\n",
    "        output = self.tokenizer.word_index[new_word]\n",
    "        if v == output:\n",
    "            new_word = np.random.choice(self.words, 1, p=self.probs)[0]\n",
    "            output = self.tokenizer.word_index[new_word]\n",
    "        \n",
    "        return output\n",
    "\n",
    "    def _missing_word_gen(self, docs):\n",
    "        seqs = self._text_to_padded_sequences(docs)\n",
    "        for seq in seqs:\n",
    "            seq = np.array(seq)\n",
    "            if sum(seq) != 0:\n",
    "                for i in range(self.max_len):\n",
    "                    new_seq = np.delete(seq, i)\n",
    "                    x = np.array([new_seq, new_seq])\n",
    "                    word_index = seq[i]\n",
    "                    new_word_index = self._random_choice_int(word_index)\n",
    "                    context = np.array([[word_index], [new_word_index]])\n",
    "                    label = np.array([[1], [0]])\n",
    "                    yield x, context, label\n",
    "\n",
    "    def array_to_texts(self, x):\n",
    "        return list(s.tokenizer.sequences_to_texts_generator(x))\n",
    "    \n",
    "    def transform_gen(self, docs, batch_size=32, shuffle=True):\n",
    "        if shuffle:\n",
    "            random.shuffle(docs)\n",
    "        gen = self._missing_word_gen(docs)\n",
    "        try:\n",
    "            while True:\n",
    "                array_list = [next(gen) for _ in range(int(batch_size))]\n",
    "                x = np.vstack([v[0] for v in array_list])\n",
    "                context = np.vstack([v[1] for v in array_list])\n",
    "                labels = np.vstack([v[2] for v in array_list]).flatten()\n",
    "                yield x, context, labels\n",
    "        except StopIteration:\n",
    "            print('completed')\n",
    "\n",
    "    def transform(self, docs):\n",
    "        array_list = list(self._missing_word_gen(docs))\n",
    "        x = np.vstack([v[0] for v in array_list])\n",
    "        context = np.vstack([v[1] for v in array_list])\n",
    "        labels = np.vstack([v[2] for v in array_list]).flatten()\n",
    "        return x, context, labels\n",
    "\n",
    "test_docs = ['this is a test', 'this is still a test', 'why am I still testing', '']\n",
    "s = SkipGram(max_len = 7)\n",
    "s.fit(test_docs)\n",
    "test_x, test_context, test_labels = s.transform(test_docs)\n",
    "list(zip(s.array_to_texts(test_x,), s.array_to_texts( test_context),test_labels ))[1:10]\n"
   ]
  },
  {
   "cell_type": "markdown",
   "metadata": {},
   "source": [
    "## Download 2020 ICD 10 Codes from the CDC"
   ]
  },
  {
   "cell_type": "code",
   "execution_count": 64,
   "metadata": {},
   "outputs": [],
   "source": [
    "from urllib import request as ur\n",
    "import pandas as pd\n",
    "import re\n",
    "url = 'ftp://ftp.cdc.gov/pub/Health_Statistics/NCHS/Publications/ICD10CM/2020/icd10cm_codes_2020.txt'\n",
    "req = ur.Request(url)\n",
    "file = ur.urlopen(req)\n",
    "\n",
    "\n",
    "df = pd.read_csv(file,  header=None, sep='\\t')\n",
    "\n",
    "# parses out the code descripitions\n",
    "docs = list(map(lambda x: re.sub('[A-Z][0-9]+', '', x).strip(), df.iloc[:, 0]))\n",
    "# parest out the actuall codes \n",
    "codes = list(map(lambda x: re.search('[A-Z][0-9]+', x).group(), df.iloc[:, 0]))\n",
    " "
   ]
  },
  {
   "cell_type": "code",
   "execution_count": 65,
   "metadata": {},
   "outputs": [
    {
     "data": {
      "text/plain": [
       "31"
      ]
     },
     "execution_count": 65,
     "metadata": {},
     "output_type": "execute_result"
    }
   ],
   "source": [
    "# calculated the max sequence len\n",
    "np.max([len(d.split(' ')) for d in docs])"
   ]
  },
  {
   "cell_type": "code",
   "execution_count": 66,
   "metadata": {},
   "outputs": [],
   "source": [
    "max_len = 31\n",
    "s = SkipGram(max_len=max_len)\n",
    "s.fit(docs)\n",
    "vocab_size = len(s.tokenizer.word_index)\n",
    "context_size = 1"
   ]
  },
  {
   "cell_type": "code",
   "execution_count": 67,
   "metadata": {},
   "outputs": [
    {
     "data": {
      "text/plain": [
       "7212"
      ]
     },
     "execution_count": 67,
     "metadata": {},
     "output_type": "execute_result"
    }
   ],
   "source": [
    "vocab_size"
   ]
  },
  {
   "cell_type": "code",
   "execution_count": 68,
   "metadata": {},
   "outputs": [
    {
     "name": "stdout",
     "output_type": "stream",
     "text": [
      "__________________________________________________________________________________________________\n",
      "Layer (type)                    Output Shape         Param #     Connected to                     \n",
      "==================================================================================================\n",
      "input_19 (InputLayer)           (None, 30)           0                                            \n",
      "__________________________________________________________________________________________________\n",
      "input_20 (InputLayer)           (None, 1)            0                                            \n",
      "__________________________________________________________________________________________________\n",
      "embx (Embedding)                (None, 30, 10)       72130       input_19[0][0]                   \n",
      "__________________________________________________________________________________________________\n",
      "embc (Embedding)                (None, 1, 10)        72130       input_20[0][0]                   \n",
      "__________________________________________________________________________________________________\n",
      "dot_7 (Dot)                     (None, 30, 1)        0           embx[0][0]                       \n",
      "                                                                 embc[0][0]                       \n",
      "__________________________________________________________________________________________________\n",
      "batch_normalization_7 (BatchNor (None, 30, 1)        4           dot_7[0][0]                      \n",
      "__________________________________________________________________________________________________\n",
      "reshape_9 (Reshape)             (None, 1, 30)        0           batch_normalization_7[0][0]      \n",
      "__________________________________________________________________________________________________\n",
      "flatten (Flatten)               (None, 30)           0           reshape_9[0][0]                  \n",
      "__________________________________________________________________________________________________\n",
      "dense_9 (Dense)                 (None, 1)            31          flatten[0][0]                    \n",
      "__________________________________________________________________________________________________\n",
      "activation_9 (Activation)       (None, 1)            0           dense_9[0][0]                    \n",
      "==================================================================================================\n",
      "Total params: 144,295\n",
      "Trainable params: 144,293\n",
      "Non-trainable params: 2\n",
      "__________________________________________________________________________________________________\n"
     ]
    }
   ],
   "source": [
    "\n",
    "from keras.models import Sequential, Model\n",
    "from keras.layers import Embedding, Reshape, Activation, Input, Flatten, Dense, BatchNormalization\n",
    "from keras.layers.merge import Dot\n",
    "from keras.utils import np_utils\n",
    "from keras.utils.data_utils import get_file\n",
    "from keras.preprocessing.text import Tokenizer\n",
    "from keras.preprocessing.sequence import skipgrams\n",
    "from keras.callbacks import EarlyStopping\n",
    "esm =  EarlyStopping(patience=2, monitor='loss')\n",
    "\n",
    "dim_embedddings =10\n",
    "n_w_inputs = max_len-1 \n",
    "\n",
    "# inputs\n",
    "w_inputs = Input(shape=(n_w_inputs, ), dtype='int32')\n",
    "w = Embedding(vocab_size+1, dim_embedddings,name= 'embx')(w_inputs)\n",
    "\n",
    "# context\n",
    "c_inputs = Input(shape=(context_size, ), dtype='int32')\n",
    "c  = Embedding(vocab_size+1, dim_embedddings, name= 'embc')(c_inputs)\n",
    "o = Dot(axes=2)([w, c])\n",
    "o = BatchNormalization()(o)\n",
    "o = Reshape((1, n_w_inputs), input_shape=(n_w_inputs, 1))(o)\n",
    "o = Flatten(name='flatten')(o)\n",
    "o = Dense(1)(o)\n",
    "o = Activation('sigmoid')(o)\n",
    "\n",
    "model = Model(inputs=[w_inputs, c_inputs], outputs=o)\n",
    "model.compile(loss='binary_crossentropy', optimizer='adam')\n",
    "model.summary()"
   ]
  },
  {
   "cell_type": "code",
   "execution_count": null,
   "metadata": {},
   "outputs": [],
   "source": []
  },
  {
   "cell_type": "code",
   "execution_count": 69,
   "metadata": {},
   "outputs": [],
   "source": [
    "# define training function\n",
    "def train(doc, n_epochs=1, skipgram=s, model=model, batch_size=1024):\n",
    "    for e in range(n_epochs):\n",
    "        gen = s.transform_gen(docs, batch_size=batch_size)\n",
    "        try:\n",
    "            batch = 0\n",
    "            while True:\n",
    "                x, context, y = next(gen)\n",
    "                model.train_on_batch([x, context], y)\n",
    "                if batch % 100 == 0:\n",
    "                    results = model.evaluate([x, context], y)\n",
    "                    print('epoch {0} batch {1} results {2} ...'.format(e, batch, results))\n",
    "                batch +=1\n",
    "        except StopIteration:\n",
    "            pass\n",
    "    return model\n"
   ]
  },
  {
   "cell_type": "code",
   "execution_count": 82,
   "metadata": {},
   "outputs": [
    {
     "name": "stdout",
     "output_type": "stream",
     "text": [
      "2048/2048 [==============================] - 0s 81us/step\n",
      "epoch 0 batch 0 results 0.07324287738401836 ...\n",
      "2048/2048 [==============================] - 0s 74us/step\n",
      "epoch 0 batch 100 results 0.055996437936300936 ...\n",
      "2048/2048 [==============================] - 0s 82us/step\n",
      "epoch 0 batch 200 results 0.07172092154451093 ...\n",
      "2048/2048 [==============================] - 0s 72us/step\n",
      "epoch 0 batch 300 results 0.0817420346822928 ...\n",
      "2048/2048 [==============================] - 0s 72us/step\n",
      "epoch 0 batch 400 results 0.06585582592015271 ...\n",
      "2048/2048 [==============================] - 0s 75us/step\n",
      "epoch 0 batch 500 results 0.05984575255570235 ...\n",
      "2048/2048 [==============================] - 0s 80us/step\n",
      "epoch 0 batch 600 results 0.0684957798061987 ...\n",
      "2048/2048 [==============================] - 0s 87us/step\n",
      "epoch 0 batch 700 results 0.08176447088953864 ...\n"
     ]
    },
    {
     "ename": "KeyboardInterrupt",
     "evalue": "",
     "output_type": "error",
     "traceback": [
      "\u001b[1;31m---------------------------------------------------------------------------\u001b[0m",
      "\u001b[1;31mKeyboardInterrupt\u001b[0m                         Traceback (most recent call last)",
      "\u001b[1;32m<ipython-input-82-b45ae378c7d4>\u001b[0m in \u001b[0;36m<module>\u001b[1;34m\u001b[0m\n\u001b[1;32m----> 1\u001b[1;33m \u001b[0mmodel\u001b[0m \u001b[1;33m=\u001b[0m \u001b[0mtrain\u001b[0m\u001b[1;33m(\u001b[0m\u001b[0mdocs\u001b[0m\u001b[1;33m,\u001b[0m \u001b[1;36m1\u001b[0m\u001b[1;33m,\u001b[0m \u001b[0ms\u001b[0m\u001b[1;33m,\u001b[0m  \u001b[0mmodel\u001b[0m\u001b[1;33m)\u001b[0m\u001b[1;33m\u001b[0m\u001b[0m\n\u001b[0m",
      "\u001b[1;32m<ipython-input-69-df0c10f4be3c>\u001b[0m in \u001b[0;36mtrain\u001b[1;34m(doc, n_epochs, skipgram, model, batch_size)\u001b[0m\n\u001b[0;32m      6\u001b[0m             \u001b[0mbatch\u001b[0m \u001b[1;33m=\u001b[0m \u001b[1;36m0\u001b[0m\u001b[1;33m\u001b[0m\u001b[0m\n\u001b[0;32m      7\u001b[0m             \u001b[1;32mwhile\u001b[0m \u001b[1;32mTrue\u001b[0m\u001b[1;33m:\u001b[0m\u001b[1;33m\u001b[0m\u001b[0m\n\u001b[1;32m----> 8\u001b[1;33m                 \u001b[0mx\u001b[0m\u001b[1;33m,\u001b[0m \u001b[0mcontext\u001b[0m\u001b[1;33m,\u001b[0m \u001b[0my\u001b[0m \u001b[1;33m=\u001b[0m \u001b[0mnext\u001b[0m\u001b[1;33m(\u001b[0m\u001b[0mgen\u001b[0m\u001b[1;33m)\u001b[0m\u001b[1;33m\u001b[0m\u001b[0m\n\u001b[0m\u001b[0;32m      9\u001b[0m                 \u001b[0mmodel\u001b[0m\u001b[1;33m.\u001b[0m\u001b[0mtrain_on_batch\u001b[0m\u001b[1;33m(\u001b[0m\u001b[1;33m[\u001b[0m\u001b[0mx\u001b[0m\u001b[1;33m,\u001b[0m \u001b[0mcontext\u001b[0m\u001b[1;33m]\u001b[0m\u001b[1;33m,\u001b[0m \u001b[0my\u001b[0m\u001b[1;33m)\u001b[0m\u001b[1;33m\u001b[0m\u001b[0m\n\u001b[0;32m     10\u001b[0m                 \u001b[1;32mif\u001b[0m \u001b[0mbatch\u001b[0m \u001b[1;33m%\u001b[0m \u001b[1;36m100\u001b[0m \u001b[1;33m==\u001b[0m \u001b[1;36m0\u001b[0m\u001b[1;33m:\u001b[0m\u001b[1;33m\u001b[0m\u001b[0m\n",
      "\u001b[1;32m<ipython-input-63-47ddb9193112>\u001b[0m in \u001b[0;36mtransform_gen\u001b[1;34m(self, docs, batch_size, shuffle)\u001b[0m\n\u001b[0;32m     67\u001b[0m         \u001b[1;32mtry\u001b[0m\u001b[1;33m:\u001b[0m\u001b[1;33m\u001b[0m\u001b[0m\n\u001b[0;32m     68\u001b[0m             \u001b[1;32mwhile\u001b[0m \u001b[1;32mTrue\u001b[0m\u001b[1;33m:\u001b[0m\u001b[1;33m\u001b[0m\u001b[0m\n\u001b[1;32m---> 69\u001b[1;33m                 \u001b[0marray_list\u001b[0m \u001b[1;33m=\u001b[0m \u001b[1;33m[\u001b[0m\u001b[0mnext\u001b[0m\u001b[1;33m(\u001b[0m\u001b[0mgen\u001b[0m\u001b[1;33m)\u001b[0m \u001b[1;32mfor\u001b[0m \u001b[0m_\u001b[0m \u001b[1;32min\u001b[0m \u001b[0mrange\u001b[0m\u001b[1;33m(\u001b[0m\u001b[0mint\u001b[0m\u001b[1;33m(\u001b[0m\u001b[0mbatch_size\u001b[0m\u001b[1;33m)\u001b[0m\u001b[1;33m)\u001b[0m\u001b[1;33m]\u001b[0m\u001b[1;33m\u001b[0m\u001b[0m\n\u001b[0m\u001b[0;32m     70\u001b[0m                 \u001b[0mx\u001b[0m \u001b[1;33m=\u001b[0m \u001b[0mnp\u001b[0m\u001b[1;33m.\u001b[0m\u001b[0mvstack\u001b[0m\u001b[1;33m(\u001b[0m\u001b[1;33m[\u001b[0m\u001b[0mv\u001b[0m\u001b[1;33m[\u001b[0m\u001b[1;36m0\u001b[0m\u001b[1;33m]\u001b[0m \u001b[1;32mfor\u001b[0m \u001b[0mv\u001b[0m \u001b[1;32min\u001b[0m \u001b[0marray_list\u001b[0m\u001b[1;33m]\u001b[0m\u001b[1;33m)\u001b[0m\u001b[1;33m\u001b[0m\u001b[0m\n\u001b[0;32m     71\u001b[0m                 \u001b[0mcontext\u001b[0m \u001b[1;33m=\u001b[0m \u001b[0mnp\u001b[0m\u001b[1;33m.\u001b[0m\u001b[0mvstack\u001b[0m\u001b[1;33m(\u001b[0m\u001b[1;33m[\u001b[0m\u001b[0mv\u001b[0m\u001b[1;33m[\u001b[0m\u001b[1;36m1\u001b[0m\u001b[1;33m]\u001b[0m \u001b[1;32mfor\u001b[0m \u001b[0mv\u001b[0m \u001b[1;32min\u001b[0m \u001b[0marray_list\u001b[0m\u001b[1;33m]\u001b[0m\u001b[1;33m)\u001b[0m\u001b[1;33m\u001b[0m\u001b[0m\n",
      "\u001b[1;32m<ipython-input-63-47ddb9193112>\u001b[0m in \u001b[0;36m<listcomp>\u001b[1;34m(.0)\u001b[0m\n\u001b[0;32m     67\u001b[0m         \u001b[1;32mtry\u001b[0m\u001b[1;33m:\u001b[0m\u001b[1;33m\u001b[0m\u001b[0m\n\u001b[0;32m     68\u001b[0m             \u001b[1;32mwhile\u001b[0m \u001b[1;32mTrue\u001b[0m\u001b[1;33m:\u001b[0m\u001b[1;33m\u001b[0m\u001b[0m\n\u001b[1;32m---> 69\u001b[1;33m                 \u001b[0marray_list\u001b[0m \u001b[1;33m=\u001b[0m \u001b[1;33m[\u001b[0m\u001b[0mnext\u001b[0m\u001b[1;33m(\u001b[0m\u001b[0mgen\u001b[0m\u001b[1;33m)\u001b[0m \u001b[1;32mfor\u001b[0m \u001b[0m_\u001b[0m \u001b[1;32min\u001b[0m \u001b[0mrange\u001b[0m\u001b[1;33m(\u001b[0m\u001b[0mint\u001b[0m\u001b[1;33m(\u001b[0m\u001b[0mbatch_size\u001b[0m\u001b[1;33m)\u001b[0m\u001b[1;33m)\u001b[0m\u001b[1;33m]\u001b[0m\u001b[1;33m\u001b[0m\u001b[0m\n\u001b[0m\u001b[0;32m     70\u001b[0m                 \u001b[0mx\u001b[0m \u001b[1;33m=\u001b[0m \u001b[0mnp\u001b[0m\u001b[1;33m.\u001b[0m\u001b[0mvstack\u001b[0m\u001b[1;33m(\u001b[0m\u001b[1;33m[\u001b[0m\u001b[0mv\u001b[0m\u001b[1;33m[\u001b[0m\u001b[1;36m0\u001b[0m\u001b[1;33m]\u001b[0m \u001b[1;32mfor\u001b[0m \u001b[0mv\u001b[0m \u001b[1;32min\u001b[0m \u001b[0marray_list\u001b[0m\u001b[1;33m]\u001b[0m\u001b[1;33m)\u001b[0m\u001b[1;33m\u001b[0m\u001b[0m\n\u001b[0;32m     71\u001b[0m                 \u001b[0mcontext\u001b[0m \u001b[1;33m=\u001b[0m \u001b[0mnp\u001b[0m\u001b[1;33m.\u001b[0m\u001b[0mvstack\u001b[0m\u001b[1;33m(\u001b[0m\u001b[1;33m[\u001b[0m\u001b[0mv\u001b[0m\u001b[1;33m[\u001b[0m\u001b[1;36m1\u001b[0m\u001b[1;33m]\u001b[0m \u001b[1;32mfor\u001b[0m \u001b[0mv\u001b[0m \u001b[1;32min\u001b[0m \u001b[0marray_list\u001b[0m\u001b[1;33m]\u001b[0m\u001b[1;33m)\u001b[0m\u001b[1;33m\u001b[0m\u001b[0m\n",
      "\u001b[1;32m<ipython-input-63-47ddb9193112>\u001b[0m in \u001b[0;36m_missing_word_gen\u001b[1;34m(self, docs)\u001b[0m\n\u001b[0;32m     53\u001b[0m                     \u001b[0mx\u001b[0m \u001b[1;33m=\u001b[0m \u001b[0mnp\u001b[0m\u001b[1;33m.\u001b[0m\u001b[0marray\u001b[0m\u001b[1;33m(\u001b[0m\u001b[1;33m[\u001b[0m\u001b[0mnew_seq\u001b[0m\u001b[1;33m,\u001b[0m \u001b[0mnew_seq\u001b[0m\u001b[1;33m]\u001b[0m\u001b[1;33m)\u001b[0m\u001b[1;33m\u001b[0m\u001b[0m\n\u001b[0;32m     54\u001b[0m                     \u001b[0mword_index\u001b[0m \u001b[1;33m=\u001b[0m \u001b[0mseq\u001b[0m\u001b[1;33m[\u001b[0m\u001b[0mi\u001b[0m\u001b[1;33m]\u001b[0m\u001b[1;33m\u001b[0m\u001b[0m\n\u001b[1;32m---> 55\u001b[1;33m                     \u001b[0mnew_word_index\u001b[0m \u001b[1;33m=\u001b[0m \u001b[0mself\u001b[0m\u001b[1;33m.\u001b[0m\u001b[0m_random_choice_int\u001b[0m\u001b[1;33m(\u001b[0m\u001b[0mword_index\u001b[0m\u001b[1;33m)\u001b[0m\u001b[1;33m\u001b[0m\u001b[0m\n\u001b[0m\u001b[0;32m     56\u001b[0m                     \u001b[0mcontext\u001b[0m \u001b[1;33m=\u001b[0m \u001b[0mnp\u001b[0m\u001b[1;33m.\u001b[0m\u001b[0marray\u001b[0m\u001b[1;33m(\u001b[0m\u001b[1;33m[\u001b[0m\u001b[1;33m[\u001b[0m\u001b[0mword_index\u001b[0m\u001b[1;33m]\u001b[0m\u001b[1;33m,\u001b[0m \u001b[1;33m[\u001b[0m\u001b[0mnew_word_index\u001b[0m\u001b[1;33m]\u001b[0m\u001b[1;33m]\u001b[0m\u001b[1;33m)\u001b[0m\u001b[1;33m\u001b[0m\u001b[0m\n\u001b[0;32m     57\u001b[0m                     \u001b[0mlabel\u001b[0m \u001b[1;33m=\u001b[0m \u001b[0mnp\u001b[0m\u001b[1;33m.\u001b[0m\u001b[0marray\u001b[0m\u001b[1;33m(\u001b[0m\u001b[1;33m[\u001b[0m\u001b[1;33m[\u001b[0m\u001b[1;36m1\u001b[0m\u001b[1;33m]\u001b[0m\u001b[1;33m,\u001b[0m \u001b[1;33m[\u001b[0m\u001b[1;36m0\u001b[0m\u001b[1;33m]\u001b[0m\u001b[1;33m]\u001b[0m\u001b[1;33m)\u001b[0m\u001b[1;33m\u001b[0m\u001b[0m\n",
      "\u001b[1;32m<ipython-input-63-47ddb9193112>\u001b[0m in \u001b[0;36m_random_choice_int\u001b[1;34m(self, v)\u001b[0m\n\u001b[0;32m     36\u001b[0m         \u001b[1;32mreturn\u001b[0m \u001b[0mseqs_padded\u001b[0m\u001b[1;33m\u001b[0m\u001b[0m\n\u001b[0;32m     37\u001b[0m     \u001b[1;32mdef\u001b[0m \u001b[0m_random_choice_int\u001b[0m\u001b[1;33m(\u001b[0m\u001b[0mself\u001b[0m\u001b[1;33m,\u001b[0m \u001b[0mv\u001b[0m\u001b[1;33m)\u001b[0m\u001b[1;33m:\u001b[0m\u001b[1;33m\u001b[0m\u001b[0m\n\u001b[1;32m---> 38\u001b[1;33m         \u001b[0mnew_word\u001b[0m \u001b[1;33m=\u001b[0m \u001b[0mnp\u001b[0m\u001b[1;33m.\u001b[0m\u001b[0mrandom\u001b[0m\u001b[1;33m.\u001b[0m\u001b[0mchoice\u001b[0m\u001b[1;33m(\u001b[0m\u001b[0mself\u001b[0m\u001b[1;33m.\u001b[0m\u001b[0mwords\u001b[0m\u001b[1;33m,\u001b[0m \u001b[1;36m1\u001b[0m\u001b[1;33m,\u001b[0m \u001b[0mp\u001b[0m\u001b[1;33m=\u001b[0m\u001b[0mself\u001b[0m\u001b[1;33m.\u001b[0m\u001b[0mprobs\u001b[0m\u001b[1;33m)\u001b[0m\u001b[1;33m[\u001b[0m\u001b[1;36m0\u001b[0m\u001b[1;33m]\u001b[0m\u001b[1;33m\u001b[0m\u001b[0m\n\u001b[0m\u001b[0;32m     39\u001b[0m         \u001b[0moutput\u001b[0m \u001b[1;33m=\u001b[0m \u001b[0mself\u001b[0m\u001b[1;33m.\u001b[0m\u001b[0mtokenizer\u001b[0m\u001b[1;33m.\u001b[0m\u001b[0mword_index\u001b[0m\u001b[1;33m[\u001b[0m\u001b[0mnew_word\u001b[0m\u001b[1;33m]\u001b[0m\u001b[1;33m\u001b[0m\u001b[0m\n\u001b[0;32m     40\u001b[0m         \u001b[1;32mif\u001b[0m \u001b[0mv\u001b[0m \u001b[1;33m==\u001b[0m \u001b[0moutput\u001b[0m\u001b[1;33m:\u001b[0m\u001b[1;33m\u001b[0m\u001b[0m\n",
      "\u001b[1;31mKeyboardInterrupt\u001b[0m: "
     ]
    }
   ],
   "source": [
    "model = train(docs, 1, s,  model)"
   ]
  },
  {
   "cell_type": "code",
   "execution_count": 71,
   "metadata": {},
   "outputs": [
    {
     "data": {
      "text/plain": [
       "array([[1531,   82,   11,  107,    0,    0,    0,    0,    0,    0,    0,\n",
       "           0,    0,    0,    0,    0,    0,    0,    0,    0,    0,    0,\n",
       "           0,    0,    0,    0,    0,    0,    0,    0],\n",
       "       [  15,   19,  124,   11,   26,   54,    9,    2,    0,    0,    0,\n",
       "           0,    0,    0,    0,    0,    0,    0,    0,    0,    0,    0,\n",
       "           0,    0,    0,    0,    0,    0,    0,    0]])"
      ]
     },
     "execution_count": 71,
     "metadata": {},
     "output_type": "execute_result"
    }
   ],
   "source": [
    "emb_input = Input(shape=(max_len-1, ), dtype='int32')\n",
    "emb_layer = model.get_layer('embx')(emb_input )\n",
    "emb_model = Model(inputs=emb_input, outputs=emb_layer)\n",
    "\n",
    "seqs = s.text_to_seq(docs)\n",
    "seqs[1:3]"
   ]
  },
  {
   "cell_type": "code",
   "execution_count": 72,
   "metadata": {},
   "outputs": [
    {
     "data": {
      "text/plain": [
       "(72184, 30, 10)"
      ]
     },
     "execution_count": 72,
     "metadata": {},
     "output_type": "execute_result"
    }
   ],
   "source": [
    "vects = emb_model.predict(seqs)\n",
    "vects.shape"
   ]
  },
  {
   "cell_type": "code",
   "execution_count": 73,
   "metadata": {},
   "outputs": [
    {
     "data": {
      "text/plain": [
       "(72184, 300)"
      ]
     },
     "execution_count": 73,
     "metadata": {},
     "output_type": "execute_result"
    }
   ],
   "source": [
    "vecs_reshape = np.reshape(vects, (vects.shape[0], -1))\n",
    "vecs_reshape.shape"
   ]
  },
  {
   "cell_type": "code",
   "execution_count": 74,
   "metadata": {},
   "outputs": [
    {
     "data": {
      "image/png": "[encoded data removed]",
      "text/plain": [
       "<matplotlib.figure.Figure at 0x175d1d6e898>"
      ]
     },
     "metadata": {},
     "output_type": "display_data"
    }
   ],
   "source": [
    "from sklearn.decomposition import PCA\n",
    "import matplotlib.pyplot as plt\n",
    "%matplotlib inline\n",
    "p = PCA(2).fit(vecs_reshape)\n",
    "comps = p.transform(vecs_reshape)\n",
    "xx = comps[:, 0]\n",
    "yy = comps[:, 1]\n",
    "plt.scatter(xx, yy,s=.1)\n",
    "plt.show()"
   ]
  },
  {
   "cell_type": "code",
   "execution_count": 90,
   "metadata": {},
   "outputs": [],
   "source": [
    "vect_dict = dict(zip(codes, np.reshape(vects, (-1, (max_len-1) * dim_embedddings ))))\n",
    "code_dict = dict(zip(codes, docs))"
   ]
  },
  {
   "cell_type": "code",
   "execution_count": null,
   "metadata": {},
   "outputs": [],
   "source": [
    "from sklearn.neighbors import NearestNeighbors\n",
    "nn = NearestNeighbors(5)\n",
    "nn = nn.fit(vect_dict.values())"
   ]
  },
  {
   "cell_type": "code",
   "execution_count": 89,
   "metadata": {},
   "outputs": [
    {
     "data": {
      "text/plain": [
       "array([[-0.1084013 , -0.0636738 ,  0.02138013, ..., -0.01035827,\n",
       "        -0.01078706, -0.01088057],\n",
       "       [-0.19157313,  0.3156744 ,  0.01905485, ..., -0.01035827,\n",
       "        -0.01078706, -0.01088057],\n",
       "       [ 0.12143321,  0.374708  ,  0.06084458, ..., -0.01035827,\n",
       "        -0.01078706, -0.01088057],\n",
       "       ...,\n",
       "       [ 0.10221165,  0.3208326 ,  0.14370155, ..., -0.01035827,\n",
       "        -0.01078706, -0.01088057],\n",
       "       [ 0.01153841,  0.02142074,  0.07053322, ..., -0.01035827,\n",
       "        -0.01078706, -0.01088057],\n",
       "       [-0.12254233, -0.02010527,  0.0358062 , ..., -0.01035827,\n",
       "        -0.01078706, -0.01088057]], dtype=float32)"
      ]
     },
     "execution_count": 89,
     "metadata": {},
     "output_type": "execute_result"
    }
   ],
   "source": [
    "np.reshape(vects, (-1, 300))"
   ]
  },
  {
   "cell_type": "code",
   "execution_count": null,
   "metadata": {},
   "outputs": [],
   "source": []
  },
  {
   "cell_type": "code",
   "execution_count": 78,
   "metadata": {},
   "outputs": [],
   "source": []
  },
  {
   "cell_type": "code",
   "execution_count": 79,
   "metadata": {},
   "outputs": [],
   "source": []
  },
  {
   "cell_type": "code",
   "execution_count": 80,
   "metadata": {},
   "outputs": [
    {
     "data": {
      "text/plain": [
       "array([[ 0.23787682,  0.5360314 , -1.1291488 , -1.0371948 , -0.3604317 ,\n",
       "        -0.54900056,  2.8635721 , -1.3182254 ,  0.22442229, -0.85865223,\n",
       "         0.6123756 ,  1.3411671 , -0.7237421 ,  1.2181327 ,  0.5400485 ,\n",
       "        -0.09770048,  0.37835634,  0.88989913,  0.5764348 ,  0.23933786,\n",
       "         1.3342005 , -1.1772667 , -0.70607245, -2.7991874 ,  0.08042213,\n",
       "        -0.03354798,  0.03073583, -0.13060476, -0.17602329, -1.1250391 ]],\n",
       "      dtype=float32)"
      ]
     },
     "execution_count": 80,
     "metadata": {},
     "output_type": "execute_result"
    }
   ],
   "source": []
  },
  {
   "cell_type": "code",
   "execution_count": 92,
   "metadata": {},
   "outputs": [
    {
     "data": {
      "text/plain": [
       "['A001', 'A009', 'A0100', 'A0101', 'A0102', 'A0103', 'A0104', 'A0105', 'A0109']"
      ]
     },
     "execution_count": 92,
     "metadata": {},
     "output_type": "execute_result"
    }
   ],
   "source": [
    "codes[1:10]"
   ]
  },
  {
   "cell_type": "code",
   "execution_count": 93,
   "metadata": {},
   "outputs": [
    {
     "data": {
      "text/plain": [
       "['XS Fracture of unspecified shoulder girdle, part unspecified, sequela',\n",
       " 'A Laceration without foreign body, right thigh, initial encounter',\n",
       " 'S Poisoning by antimalarials and drugs acting on other blood protozoa, undetermined, sequela',\n",
       " 'A Injury of digital nerve of left little finger, initial encounter',\n",
       " 'A Corrosion of second degree of right wrist, initial encounter',\n",
       " 'S Other osteoporosis with current pathological fracture, right humerus, sequela',\n",
       " 'R Nondisplaced fracture of olecranon process without intraarticular extension of left ulna, subsequent encounter for open fracture type IIIA, IIIB, or IIIC with malunion',\n",
       " 'A Major laceration of body of pancreas, initial encounter',\n",
       " 'D Poisoning by anticholinesterase agents, accidental (unintentional), subsequent encounter']"
      ]
     },
     "execution_count": 93,
     "metadata": {},
     "output_type": "execute_result"
    }
   ],
   "source": [
    "docs[1:10]"
   ]
  }
 ],
 "metadata": {
  "kernelspec": {
   "display_name": "Python 3",
   "language": "python",
   "name": "python3"
  },
  "language_info": {
   "codemirror_mode": {
    "name": "ipython",
    "version": 3
   },
   "file_extension": ".py",
   "mimetype": "text/x-python",
   "name": "python",
   "nbconvert_exporter": "python",
   "pygments_lexer": "ipython3",
   "version": "3.6.5"
  }
 },
 "nbformat": 4,
 "nbformat_minor": 2
}
