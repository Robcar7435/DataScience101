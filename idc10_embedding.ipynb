{
 "cells": [
  {
   "cell_type": "code",
   "execution_count": 1,
   "metadata": {},
   "outputs": [
    {
     "name": "stderr",
     "output_type": "stream",
     "text": [
      "Using TensorFlow backend.\n",
      "/home/matthew/.local/lib/python3.6/site-packages/tensorflow/python/framework/dtypes.py:516: FutureWarning: Passing (type, 1) or '1type' as a synonym of type is deprecated; in a future version of numpy, it will be understood as (type, (1,)) / '(1,)type'.\n",
      "  _np_qint8 = np.dtype([(\"qint8\", np.int8, 1)])\n",
      "/home/matthew/.local/lib/python3.6/site-packages/tensorflow/python/framework/dtypes.py:517: FutureWarning: Passing (type, 1) or '1type' as a synonym of type is deprecated; in a future version of numpy, it will be understood as (type, (1,)) / '(1,)type'.\n",
      "  _np_quint8 = np.dtype([(\"quint8\", np.uint8, 1)])\n",
      "/home/matthew/.local/lib/python3.6/site-packages/tensorflow/python/framework/dtypes.py:518: FutureWarning: Passing (type, 1) or '1type' as a synonym of type is deprecated; in a future version of numpy, it will be understood as (type, (1,)) / '(1,)type'.\n",
      "  _np_qint16 = np.dtype([(\"qint16\", np.int16, 1)])\n",
      "/home/matthew/.local/lib/python3.6/site-packages/tensorflow/python/framework/dtypes.py:519: FutureWarning: Passing (type, 1) or '1type' as a synonym of type is deprecated; in a future version of numpy, it will be understood as (type, (1,)) / '(1,)type'.\n",
      "  _np_quint16 = np.dtype([(\"quint16\", np.uint16, 1)])\n",
      "/home/matthew/.local/lib/python3.6/site-packages/tensorflow/python/framework/dtypes.py:520: FutureWarning: Passing (type, 1) or '1type' as a synonym of type is deprecated; in a future version of numpy, it will be understood as (type, (1,)) / '(1,)type'.\n",
      "  _np_qint32 = np.dtype([(\"qint32\", np.int32, 1)])\n",
      "/home/matthew/.local/lib/python3.6/site-packages/tensorflow/python/framework/dtypes.py:525: FutureWarning: Passing (type, 1) or '1type' as a synonym of type is deprecated; in a future version of numpy, it will be understood as (type, (1,)) / '(1,)type'.\n",
      "  np_resource = np.dtype([(\"resource\", np.ubyte, 1)])\n",
      "/home/matthew/.local/lib/python3.6/site-packages/tensorboard/compat/tensorflow_stub/dtypes.py:541: FutureWarning: Passing (type, 1) or '1type' as a synonym of type is deprecated; in a future version of numpy, it will be understood as (type, (1,)) / '(1,)type'.\n",
      "  _np_qint8 = np.dtype([(\"qint8\", np.int8, 1)])\n",
      "/home/matthew/.local/lib/python3.6/site-packages/tensorboard/compat/tensorflow_stub/dtypes.py:542: FutureWarning: Passing (type, 1) or '1type' as a synonym of type is deprecated; in a future version of numpy, it will be understood as (type, (1,)) / '(1,)type'.\n",
      "  _np_quint8 = np.dtype([(\"quint8\", np.uint8, 1)])\n",
      "/home/matthew/.local/lib/python3.6/site-packages/tensorboard/compat/tensorflow_stub/dtypes.py:543: FutureWarning: Passing (type, 1) or '1type' as a synonym of type is deprecated; in a future version of numpy, it will be understood as (type, (1,)) / '(1,)type'.\n",
      "  _np_qint16 = np.dtype([(\"qint16\", np.int16, 1)])\n",
      "/home/matthew/.local/lib/python3.6/site-packages/tensorboard/compat/tensorflow_stub/dtypes.py:544: FutureWarning: Passing (type, 1) or '1type' as a synonym of type is deprecated; in a future version of numpy, it will be understood as (type, (1,)) / '(1,)type'.\n",
      "  _np_quint16 = np.dtype([(\"quint16\", np.uint16, 1)])\n",
      "/home/matthew/.local/lib/python3.6/site-packages/tensorboard/compat/tensorflow_stub/dtypes.py:545: FutureWarning: Passing (type, 1) or '1type' as a synonym of type is deprecated; in a future version of numpy, it will be understood as (type, (1,)) / '(1,)type'.\n",
      "  _np_qint32 = np.dtype([(\"qint32\", np.int32, 1)])\n",
      "/home/matthew/.local/lib/python3.6/site-packages/tensorboard/compat/tensorflow_stub/dtypes.py:550: FutureWarning: Passing (type, 1) or '1type' as a synonym of type is deprecated; in a future version of numpy, it will be understood as (type, (1,)) / '(1,)type'.\n",
      "  np_resource = np.dtype([(\"resource\", np.ubyte, 1)])\n"
     ]
    },
    {
     "data": {
      "text/plain": [
       "[('this is test', 'a', 1),\n",
       " ('this is test', 'testing', 0),\n",
       " ('this is a', 'test', 1),\n",
       " ('this is a', 'this', 0),\n",
       " ('this is a test', 'still', 1),\n",
       " ('this is a test', 'is', 0),\n",
       " ('this is still test', 'a', 1),\n",
       " ('this is still test', 'test', 0),\n",
       " ('this is still a', 'test', 1),\n",
       " ('this is still a', 'testing', 0),\n",
       " ('why am still testing', 'i', 1),\n",
       " ('why am still testing', 'this', 0),\n",
       " ('why am i testing', 'still', 1),\n",
       " ('why am i testing', 'this', 0),\n",
       " ('why am i still', 'testing', 1),\n",
       " ('why am i still', 'a', 0)]"
      ]
     },
     "execution_count": 1,
     "metadata": {},
     "output_type": "execute_result"
    }
   ],
   "source": [
    "from keras.preprocessing.text import Tokenizer\n",
    "from keras.preprocessing.sequence import pad_sequences\n",
    "import numpy as np\n",
    "docs = ['this is a test ', 'this is also a test', 'why and I still testing this', 'ok now the test is over']\n",
    "\n",
    "\n",
    "class SkipGram:\n",
    "    def __init__(self, max_len=5, tokenizer=None):\n",
    "        self.max_len = max_len\n",
    "        self.input_len = 2\n",
    "        self.tokenizer = tokenizer\n",
    "        self.words = None\n",
    "        self.probs = None\n",
    "        self.n_words = None\n",
    "        if tokenizer:\n",
    "            self._setup_words()\n",
    "        pass\n",
    "\n",
    "    def _setup_words(self):\n",
    "        self.n_words = sum(self.tokenizer.word_counts.values())\n",
    "        self.words = np.array(list(self.tokenizer.word_counts.keys()))\n",
    "        self.probs = np.array(list(self.tokenizer.word_counts.values()))/self.n_words\n",
    "\n",
    "    def fit(self, docs):\n",
    "        self.tokenizer = Tokenizer()\n",
    "        self.tokenizer.fit_on_texts(docs)\n",
    "        self._setup_words()\n",
    "\n",
    "    def _text_to_padded_sequences(self, docs):\n",
    "        seqs = self.tokenizer.texts_to_sequences(docs)\n",
    "        seqs_padded = pad_sequences(seqs, maxlen=self.max_len, padding='post', truncating='post')\n",
    "        return seqs_padded\n",
    "    def text_to_seq(self, docs):\n",
    "        seqs = self.tokenizer.texts_to_sequences(docs)\n",
    "        seqs_padded = pad_sequences(seqs, maxlen=self.max_len-1, padding='post', truncating='post')\n",
    "        return seqs_padded\n",
    "    def _random_choice_int(self, v):\n",
    "        new_word = np.random.choice(self.words, 1, p=self.probs)[0]\n",
    "        output = self.tokenizer.word_index[new_word]\n",
    "        if v == output:\n",
    "            new_word = np.random.choice(self.words, 1, p=self.probs)[0]\n",
    "            output = self.tokenizer.word_index[new_word]\n",
    "        \n",
    "        return output\n",
    "\n",
    "    def _missing_word_gen(self, docs):\n",
    "        seqs = self._text_to_padded_sequences(docs)\n",
    "        for seq in seqs:\n",
    "            seq = np.array(seq)\n",
    "            if sum(seq) != 0:\n",
    "                for i in range(self.input_len, self.max_len):\n",
    "                    if seq[i] != 0:\n",
    "                        new_seq = np.delete(seq, i)\n",
    "                        x = np.array([new_seq, new_seq])\n",
    "                        word_index = seq[i]\n",
    "                        new_word_index = self._random_choice_int(word_index)\n",
    "                        context = np.array([[word_index], [new_word_index]])\n",
    "                        label = np.array([[1], [0]])\n",
    "                        yield x, context, label\n",
    "\n",
    "    def array_to_texts(self, x):\n",
    "        return list(s.tokenizer.sequences_to_texts_generator(x))\n",
    "\n",
    "    def transform(self, docs):\n",
    "        array_list = list(self._missing_word_gen(docs))\n",
    "        x = np.vstack([v[0] for v in array_list])\n",
    "        context = np.vstack([v[1] for v in array_list])\n",
    "        labels = np.vstack([v[2] for v in array_list]).flatten()\n",
    "        return x, context, labels\n",
    "\n",
    "docs = ['this is a test', 'this is still a test', 'why am I still testing', '']\n",
    "s = SkipGram(max_len = 7)\n",
    "s.fit(docs)\n",
    "test_x, test_context, test_labels = s.transform(docs)\n",
    "list(zip(s.array_to_texts(test_x,), s.array_to_texts( test_context),test_labels ))"
   ]
  },
  {
   "cell_type": "code",
   "execution_count": null,
   "metadata": {},
   "outputs": [],
   "source": []
  },
  {
   "cell_type": "code",
   "execution_count": 2,
   "metadata": {},
   "outputs": [
    {
     "data": {
      "text/html": [
       "<div>\n",
       "<style scoped>\n",
       "    .dataframe tbody tr th:only-of-type {\n",
       "        vertical-align: middle;\n",
       "    }\n",
       "\n",
       "    .dataframe tbody tr th {\n",
       "        vertical-align: top;\n",
       "    }\n",
       "\n",
       "    .dataframe thead th {\n",
       "        text-align: right;\n",
       "    }\n",
       "</style>\n",
       "<table border=\"1\" class=\"dataframe\">\n",
       "  <thead>\n",
       "    <tr style=\"text-align: right;\">\n",
       "      <th></th>\n",
       "      <th>0</th>\n",
       "      <th>1</th>\n",
       "      <th>2</th>\n",
       "      <th>3</th>\n",
       "      <th>4</th>\n",
       "      <th>5</th>\n",
       "    </tr>\n",
       "  </thead>\n",
       "  <tbody>\n",
       "    <tr>\n",
       "      <th>0</th>\n",
       "      <td>A00</td>\n",
       "      <td>0</td>\n",
       "      <td>A000</td>\n",
       "      <td>Cholera due to Vibrio cholerae 01, biovar chol...</td>\n",
       "      <td>Cholera due to Vibrio cholerae 01, biovar chol...</td>\n",
       "      <td>Cholera</td>\n",
       "    </tr>\n",
       "    <tr>\n",
       "      <th>1</th>\n",
       "      <td>A00</td>\n",
       "      <td>1</td>\n",
       "      <td>A001</td>\n",
       "      <td>Cholera due to Vibrio cholerae 01, biovar eltor</td>\n",
       "      <td>Cholera due to Vibrio cholerae 01, biovar eltor</td>\n",
       "      <td>Cholera</td>\n",
       "    </tr>\n",
       "    <tr>\n",
       "      <th>2</th>\n",
       "      <td>A00</td>\n",
       "      <td>9</td>\n",
       "      <td>A009</td>\n",
       "      <td>Cholera, unspecified</td>\n",
       "      <td>Cholera, unspecified</td>\n",
       "      <td>Cholera</td>\n",
       "    </tr>\n",
       "    <tr>\n",
       "      <th>3</th>\n",
       "      <td>A010</td>\n",
       "      <td>0</td>\n",
       "      <td>A0100</td>\n",
       "      <td>Typhoid fever, unspecified</td>\n",
       "      <td>Typhoid fever, unspecified</td>\n",
       "      <td>Typhoid fever</td>\n",
       "    </tr>\n",
       "    <tr>\n",
       "      <th>4</th>\n",
       "      <td>A010</td>\n",
       "      <td>1</td>\n",
       "      <td>A0101</td>\n",
       "      <td>Typhoid meningitis</td>\n",
       "      <td>Typhoid meningitis</td>\n",
       "      <td>Typhoid fever</td>\n",
       "    </tr>\n",
       "  </tbody>\n",
       "</table>\n",
       "</div>"
      ],
      "text/plain": [
       "      0  1      2                                                  3  \\\n",
       "0   A00  0   A000  Cholera due to Vibrio cholerae 01, biovar chol...   \n",
       "1   A00  1   A001    Cholera due to Vibrio cholerae 01, biovar eltor   \n",
       "2   A00  9   A009                               Cholera, unspecified   \n",
       "3  A010  0  A0100                         Typhoid fever, unspecified   \n",
       "4  A010  1  A0101                                 Typhoid meningitis   \n",
       "\n",
       "                                                   4              5  \n",
       "0  Cholera due to Vibrio cholerae 01, biovar chol...        Cholera  \n",
       "1    Cholera due to Vibrio cholerae 01, biovar eltor        Cholera  \n",
       "2                               Cholera, unspecified        Cholera  \n",
       "3                         Typhoid fever, unspecified  Typhoid fever  \n",
       "4                                 Typhoid meningitis  Typhoid fever  "
      ]
     },
     "execution_count": 2,
     "metadata": {},
     "output_type": "execute_result"
    }
   ],
   "source": [
    "import pandas as pd\n",
    "df = pd.read_csv('https://raw.githubusercontent.com/kamillamagna/ICD-10-CSV/master/codes.csv', header=None)\n",
    "df.head()\n",
    "docs = df.iloc[:, 4]\n",
    "\n",
    "df.head()"
   ]
  },
  {
   "cell_type": "code",
   "execution_count": 3,
   "metadata": {},
   "outputs": [
    {
     "data": {
      "text/plain": [
       "31"
      ]
     },
     "execution_count": 3,
     "metadata": {},
     "output_type": "execute_result"
    }
   ],
   "source": [
    "# calculated the max sequence len\n",
    "np.max([len(d.split(' ')) for d in docs])"
   ]
  },
  {
   "cell_type": "code",
   "execution_count": 4,
   "metadata": {},
   "outputs": [],
   "source": [
    "max_len = 31\n",
    "s = SkipGram(max_len=max_len)\n",
    "s.fit(docs)\n",
    "x, context, labels = s.transform(docs)"
   ]
  },
  {
   "cell_type": "code",
   "execution_count": 5,
   "metadata": {},
   "outputs": [
    {
     "data": {
      "text/plain": [
       "[('cholera due vibrio cholerae 01 biovar cholerae', 'to', 1),\n",
       " ('cholera due vibrio cholerae 01 biovar cholerae', 'vein', 0),\n",
       " ('cholera due to cholerae 01 biovar cholerae', 'vibrio', 1),\n",
       " ('cholera due to cholerae 01 biovar cholerae', 'hostilities', 0),\n",
       " ('cholera due to vibrio 01 biovar cholerae', 'cholerae', 1),\n",
       " ('cholera due to vibrio 01 biovar cholerae', 'applicable', 0),\n",
       " ('cholera due to vibrio cholerae biovar cholerae', '01', 1),\n",
       " ('cholera due to vibrio cholerae biovar cholerae', 'at', 0),\n",
       " ('cholera due to vibrio cholerae 01 cholerae', 'biovar', 1),\n",
       " ('cholera due to vibrio cholerae 01 cholerae', 'fascia', 0)]"
      ]
     },
     "execution_count": 5,
     "metadata": {},
     "output_type": "execute_result"
    }
   ],
   "source": [
    "list(zip(s.array_to_texts(x[0:10,:]), s.array_to_texts(context[0:10,:]), labels[0:10] ))"
   ]
  },
  {
   "cell_type": "code",
   "execution_count": 6,
   "metadata": {},
   "outputs": [
    {
     "data": {
      "text/plain": [
       "((1209416, 30), (1209416, 1), (1209416,))"
      ]
     },
     "execution_count": 6,
     "metadata": {},
     "output_type": "execute_result"
    }
   ],
   "source": [
    "x.shape, context.shape, labels.shape"
   ]
  },
  {
   "cell_type": "code",
   "execution_count": 7,
   "metadata": {},
   "outputs": [
    {
     "data": {
      "text/plain": [
       "7122"
      ]
     },
     "execution_count": 7,
     "metadata": {},
     "output_type": "execute_result"
    }
   ],
   "source": [
    "len(s.tokenizer.word_index)\n"
   ]
  },
  {
   "cell_type": "code",
   "execution_count": 8,
   "metadata": {},
   "outputs": [
    {
     "name": "stdout",
     "output_type": "stream",
     "text": [
      "Model: \"model_1\"\n",
      "__________________________________________________________________________________________________\n",
      "Layer (type)                    Output Shape         Param #     Connected to                     \n",
      "==================================================================================================\n",
      "input_1 (InputLayer)            (None, 30)           0                                            \n",
      "__________________________________________________________________________________________________\n",
      "input_2 (InputLayer)            (None, 1)            0                                            \n",
      "__________________________________________________________________________________________________\n",
      "embx (Embedding)                (None, 30, 10)       71230       input_1[0][0]                    \n",
      "__________________________________________________________________________________________________\n",
      "embc (Embedding)                (None, 1, 10)        71230       input_2[0][0]                    \n",
      "__________________________________________________________________________________________________\n",
      "dot_1 (Dot)                     (None, 30, 1)        0           embx[0][0]                       \n",
      "                                                                 embc[0][0]                       \n",
      "__________________________________________________________________________________________________\n",
      "batch_normalization_1 (BatchNor (None, 30, 1)        4           dot_1[0][0]                      \n",
      "__________________________________________________________________________________________________\n",
      "reshape_1 (Reshape)             (None, 1, 30)        0           batch_normalization_1[0][0]      \n",
      "__________________________________________________________________________________________________\n",
      "flatten (Flatten)               (None, 30)           0           reshape_1[0][0]                  \n",
      "__________________________________________________________________________________________________\n",
      "dense_1 (Dense)                 (None, 1)            31          flatten[0][0]                    \n",
      "__________________________________________________________________________________________________\n",
      "activation_1 (Activation)       (None, 1)            0           dense_1[0][0]                    \n",
      "==================================================================================================\n",
      "Total params: 142,495\n",
      "Trainable params: 142,493\n",
      "Non-trainable params: 2\n",
      "__________________________________________________________________________________________________\n",
      "WARNING:tensorflow:From /home/matthew/.local/lib/python3.6/site-packages/tensorflow/python/ops/nn_impl.py:180: add_dispatch_support.<locals>.wrapper (from tensorflow.python.ops.array_ops) is deprecated and will be removed in a future version.\n",
      "Instructions for updating:\n",
      "Use tf.where in 2.0, which has the same broadcast rule as np.where\n"
     ]
    }
   ],
   "source": [
    "\n",
    "from keras.models import Sequential, Model\n",
    "from keras.layers import Embedding, Reshape, Activation, Input, Flatten, Dense, BatchNormalization\n",
    "from keras.layers.merge import Dot\n",
    "from keras.utils import np_utils\n",
    "from keras.utils.data_utils import get_file\n",
    "from keras.preprocessing.text import Tokenizer\n",
    "from keras.preprocessing.sequence import skipgrams\n",
    "from keras.callbacks import EarlyStopping\n",
    "esm =  EarlyStopping(patience=2, monitor='loss')\n",
    "input_len = x.shape[1]\n",
    "vocab_size = len(s.tokenizer.word_index) + 1\n",
    "\n",
    "dim_embedddings =10\n",
    "\n",
    "# inputs\n",
    "w_inputs = Input(shape=(input_len, ), dtype='int32')\n",
    "w = Embedding(vocab_size, dim_embedddings,name= 'embx')(w_inputs)\n",
    "\n",
    "# context\n",
    "c_inputs = Input(shape=(1, ), dtype='int32')\n",
    "c  = Embedding(vocab_size, dim_embedddings, name= 'embc')(c_inputs)\n",
    "o = Dot(axes=2)([w, c])\n",
    "o = BatchNormalization()(o)\n",
    "o = Reshape((1,input_len), input_shape=(input_len, 1))(o)\n",
    "o = Flatten(name='flatten')(o)\n",
    "o = Dense(1)(o)\n",
    "o = Activation('sigmoid')(o)\n",
    "\n",
    "model = Model(inputs=[w_inputs, c_inputs], outputs=o)\n",
    "model.summary()\n",
    "model.compile(loss='binary_crossentropy', optimizer='adam')\n",
    "# fit the model\n"
   ]
  },
  {
   "cell_type": "code",
   "execution_count": 9,
   "metadata": {},
   "outputs": [
    {
     "name": "stdout",
     "output_type": "stream",
     "text": [
      "WARNING:tensorflow:From /home/matthew/.local/lib/python3.6/site-packages/keras/backend/tensorflow_backend.py:422: The name tf.global_variables is deprecated. Please use tf.compat.v1.global_variables instead.\n",
      "\n",
      "Epoch 1/20\n",
      "1209416/1209416 [==============================] - 8s 6us/step - loss: 0.3111\n",
      "Epoch 2/20\n",
      "1209416/1209416 [==============================] - 8s 6us/step - loss: 0.1471\n",
      "Epoch 3/20\n",
      "1209416/1209416 [==============================] - 8s 7us/step - loss: 0.1132\n",
      "Epoch 4/20\n",
      "1209416/1209416 [==============================] - 8s 7us/step - loss: 0.0986\n",
      "Epoch 5/20\n",
      "1209416/1209416 [==============================] - 8s 7us/step - loss: 0.0904\n",
      "Epoch 6/20\n",
      "1209416/1209416 [==============================] - 8s 7us/step - loss: 0.0847\n",
      "Epoch 7/20\n",
      "1209416/1209416 [==============================] - 8s 6us/step - loss: 0.0808\n",
      "Epoch 8/20\n",
      "1209416/1209416 [==============================] - 9s 7us/step - loss: 0.0776\n",
      "Epoch 9/20\n",
      "1209416/1209416 [==============================] - 8s 7us/step - loss: 0.0750\n",
      "Epoch 10/20\n",
      "1209416/1209416 [==============================] - 8s 7us/step - loss: 0.0730\n",
      "Epoch 11/20\n",
      "1209416/1209416 [==============================] - 8s 7us/step - loss: 0.0713\n",
      "Epoch 12/20\n",
      "1209416/1209416 [==============================] - 8s 6us/step - loss: 0.0698\n",
      "Epoch 13/20\n",
      "1209416/1209416 [==============================] - 7s 6us/step - loss: 0.0685\n",
      "Epoch 14/20\n",
      "1209416/1209416 [==============================] - 8s 6us/step - loss: 0.0674\n",
      "Epoch 15/20\n",
      "1209416/1209416 [==============================] - 8s 6us/step - loss: 0.0664\n",
      "Epoch 16/20\n",
      "1209416/1209416 [==============================] - 8s 6us/step - loss: 0.0655\n",
      "Epoch 17/20\n",
      "1209416/1209416 [==============================] - 8s 6us/step - loss: 0.0646\n",
      "Epoch 18/20\n",
      "1209416/1209416 [==============================] - 8s 6us/step - loss: 0.0639\n",
      "Epoch 19/20\n",
      "1209416/1209416 [==============================] - 8s 7us/step - loss: 0.0632\n",
      "Epoch 20/20\n",
      "1209416/1209416 [==============================] - 9s 7us/step - loss: 0.0627\n"
     ]
    },
    {
     "data": {
      "text/plain": [
       "<keras.callbacks.callbacks.History at 0x7f5429db45c0>"
      ]
     },
     "execution_count": 9,
     "metadata": {},
     "output_type": "execute_result"
    }
   ],
   "source": [
    "model.fit([x, context], labels, batch_size=512, epochs=20, callbacks=[esm ])"
   ]
  },
  {
   "cell_type": "code",
   "execution_count": 10,
   "metadata": {},
   "outputs": [
    {
     "data": {
      "text/plain": [
       "array([[3755,   55,   21, 3128, 3756, 4291, 4292, 4863,    0,    0,    0,\n",
       "           0,    0,    0,    0,    0,    0,    0,    0,    0,    0,    0,\n",
       "           0,    0,    0,    0,    0,    0,    0,    0],\n",
       "       [3755,    4,    0,    0,    0,    0,    0,    0,    0,    0,    0,\n",
       "           0,    0,    0,    0,    0,    0,    0,    0,    0,    0,    0,\n",
       "           0,    0,    0,    0,    0,    0,    0,    0]], dtype=int32)"
      ]
     },
     "execution_count": 10,
     "metadata": {},
     "output_type": "execute_result"
    }
   ],
   "source": [
    "emb_input = Input(shape=(input_len, ), dtype='int32')\n",
    "emb_layer = model.get_layer('embx')(emb_input )\n",
    "emb_model = Model(inputs=emb_input, outputs=emb_layer)\n",
    "\n",
    "seqs = s.text_to_seq(docs)\n",
    "seqs[1:3]"
   ]
  },
  {
   "cell_type": "code",
   "execution_count": 11,
   "metadata": {},
   "outputs": [
    {
     "data": {
      "text/plain": [
       "(71704, 30, 10)"
      ]
     },
     "execution_count": 11,
     "metadata": {},
     "output_type": "execute_result"
    }
   ],
   "source": [
    "vects = emb_model.predict(seqs)\n",
    "vects.shape"
   ]
  },
  {
   "cell_type": "code",
   "execution_count": 12,
   "metadata": {},
   "outputs": [
    {
     "data": {
      "text/plain": [
       "(71704, 300)"
      ]
     },
     "execution_count": 12,
     "metadata": {},
     "output_type": "execute_result"
    }
   ],
   "source": [
    "vecs_reshape = np.reshape(vects, (vects.shape[0], -1))\n",
    "vecs_reshape.shape"
   ]
  },
  {
   "cell_type": "code",
   "execution_count": 13,
   "metadata": {},
   "outputs": [
    {
     "data": {
      "image/png": "[encoded data removed]",
      "text/plain": [
       "<Figure size 432x288 with 1 Axes>"
      ]
     },
     "metadata": {
      "needs_background": "light"
     },
     "output_type": "display_data"
    }
   ],
   "source": [
    "from sklearn.decomposition import PCA\n",
    "import matplotlib.pyplot as plt\n",
    "%matplotlib inline\n",
    "p = PCA(2).fit(vecs_reshape)\n",
    "comps = p.transform(vecs_reshape)\n",
    "xx = comps[:, 0]\n",
    "yy = comps[:, 1]\n",
    "plt.scatter(xx, yy,s=.1)\n",
    "plt.show()"
   ]
  },
  {
   "cell_type": "code",
   "execution_count": 14,
   "metadata": {},
   "outputs": [
    {
     "name": "stdout",
     "output_type": "stream",
     "text": [
      "Model: \"model_3\"\n",
      "_________________________________________________________________\n",
      "Layer (type)                 Output Shape              Param #   \n",
      "=================================================================\n",
      "input_4 (InputLayer)         (None, 30, 10)            0         \n",
      "_________________________________________________________________\n",
      "flatten_1 (Flatten)          (None, 300)               0         \n",
      "_________________________________________________________________\n",
      "d0 (Dense)                   (None, 30)                9030      \n",
      "_________________________________________________________________\n",
      "gaussian_noise_1 (GaussianNo (None, 30)                0         \n",
      "_________________________________________________________________\n",
      "dense_2 (Dense)              (None, 300)               9300      \n",
      "_________________________________________________________________\n",
      "reshape_2 (Reshape)          (None, 30, 10)            0         \n",
      "_________________________________________________________________\n",
      "activation_2 (Activation)    (None, 30, 10)            0         \n",
      "=================================================================\n",
      "Total params: 18,330\n",
      "Trainable params: 18,330\n",
      "Non-trainable params: 0\n",
      "_________________________________________________________________\n"
     ]
    }
   ],
   "source": [
    "from keras.layers import GaussianNoise\n",
    "ac_inputs = Input(shape=(30,10), dtype='float32')\n",
    "ac_flat = Flatten()(ac_inputs)\n",
    "ac_dense0 = Dense(30, name='d0')(ac_flat)\n",
    "ac_noise = GaussianNoise(1)(ac_dense0)\n",
    "ac_dense1 = Dense(300)(ac_noise) \n",
    "ac_reshape = Reshape((30,10))(ac_dense1)\n",
    "ac_outputs = Activation('linear')(ac_reshape)\n",
    "\n",
    "ae = Model(inputs=ac_inputs, outputs=ac_outputs)\n",
    "ae.summary()\n",
    "ae.compile(loss='mse', optimizer='adam')"
   ]
  },
  {
   "cell_type": "code",
   "execution_count": 15,
   "metadata": {},
   "outputs": [
    {
     "name": "stdout",
     "output_type": "stream",
     "text": [
      "Epoch 1/10\n",
      "71704/71704 [==============================] - 2s 33us/step - loss: 0.0203\n",
      "Epoch 2/10\n",
      "71704/71704 [==============================] - 2s 31us/step - loss: 0.0119\n",
      "Epoch 3/10\n",
      "71704/71704 [==============================] - 2s 31us/step - loss: 0.0099\n",
      "Epoch 4/10\n",
      "71704/71704 [==============================] - 2s 31us/step - loss: 0.0093\n",
      "Epoch 5/10\n",
      "71704/71704 [==============================] - 2s 32us/step - loss: 0.0091\n",
      "Epoch 6/10\n",
      "71704/71704 [==============================] - 3s 35us/step - loss: 0.0090\n",
      "Epoch 7/10\n",
      "71704/71704 [==============================] - 2s 35us/step - loss: 0.0090\n",
      "Epoch 8/10\n",
      "71704/71704 [==============================] - 2s 32us/step - loss: 0.0089\n",
      "Epoch 9/10\n",
      "71704/71704 [==============================] - 2s 31us/step - loss: 0.0089\n",
      "Epoch 10/10\n",
      "71704/71704 [==============================] - 2s 30us/step - loss: 0.0089\n"
     ]
    },
    {
     "data": {
      "text/plain": [
       "<keras.callbacks.callbacks.History at 0x7f5392bf0eb8>"
      ]
     },
     "execution_count": 15,
     "metadata": {},
     "output_type": "execute_result"
    }
   ],
   "source": [
    "ae.fit(vects, vects, epochs=10, callbacks=[esm])"
   ]
  },
  {
   "cell_type": "code",
   "execution_count": 21,
   "metadata": {},
   "outputs": [
    {
     "data": {
      "text/plain": [
       "array([[ 4.4689512e+00,  5.9348524e-01, -7.4419343e-01, -6.4438260e-01,\n",
       "        -3.5305054e+00, -8.2384163e-01, -2.6100132e+00,  2.1817324e+00,\n",
       "         2.3164525e+00,  2.1183941e+00, -4.9767666e+00,  1.1692721e+00,\n",
       "        -2.4096584e+00, -7.1553993e-01, -2.5239987e+00, -3.9288428e+00,\n",
       "        -3.0476904e-01,  5.3536749e+00,  1.9736573e+00, -1.9078090e+00,\n",
       "         1.0326308e+00, -2.6481221e+00,  3.1815594e-01, -1.3205260e-02,\n",
       "        -3.0261903e+00,  1.0059192e+00, -2.9451082e+00, -3.7612348e+00,\n",
       "        -1.0581744e+00,  2.4779454e-01],\n",
       "       [ 1.4485455e+00,  1.7111412e+00,  1.2572498e+00, -8.8142365e-02,\n",
       "        -6.2799942e-01,  2.0969918e+00,  2.7410865e-02,  1.7864659e+00,\n",
       "         7.1183234e-02,  6.9277191e-01,  4.7176734e-01, -4.5649642e-01,\n",
       "        -1.0787007e-01,  5.7616866e-01,  1.8524522e+00,  1.1788481e+00,\n",
       "         1.2905182e-01,  3.8692102e-01, -8.7651300e-01,  3.7038007e-01,\n",
       "         1.0046599e+00, -1.5126052e+00, -4.3586183e-02,  1.2756923e-01,\n",
       "        -1.4057977e+00, -1.3022529e+00,  1.4900416e-01, -1.0043017e+00,\n",
       "         3.3453766e-01,  1.5301137e+00],\n",
       "       [ 3.5952680e+00,  4.8496189e+00,  4.4421854e+00, -1.0743754e+00,\n",
       "        -1.8116536e+00,  1.7438148e-01,  2.3985760e+00,  1.7980680e+00,\n",
       "        -1.2914738e-01,  2.8933985e+00, -5.6195664e-01, -2.7367229e+00,\n",
       "         3.8278856e+00, -1.8516316e+00,  4.5024681e+00, -2.8498614e+00,\n",
       "        -2.4931004e+00, -3.6029301e+00,  8.0438042e-01, -4.9147825e+00,\n",
       "         5.0963078e+00, -3.4026699e+00, -4.6737580e+00, -1.5662832e+00,\n",
       "        -2.3485696e+00, -2.4124591e+00, -4.6863955e-01, -4.0932000e-04,\n",
       "        -3.1859407e-01,  7.1747524e-01],\n",
       "       [ 2.2093265e+00,  4.4624248e+00,  2.3635652e+00, -1.9132771e+00,\n",
       "        -4.3913994e+00,  3.0605875e-02,  2.4146664e+00,  3.9633672e+00,\n",
       "        -3.1631795e-01,  3.8527203e+00, -1.7021755e+00, -4.7281152e-01,\n",
       "         3.0035424e+00, -2.3368623e+00,  2.1427479e+00, -2.5752368e+00,\n",
       "        -6.7868543e-01, -3.2233305e+00, -8.0717909e-01, -4.9565105e+00,\n",
       "         4.6489396e+00, -4.7917886e+00, -6.7024069e+00, -1.3648708e+00,\n",
       "        -6.7675948e-01, -4.1852802e-01, -2.3697000e+00, -1.7444009e+00,\n",
       "        -6.8164432e-01, -1.4434828e+00],\n",
       "       [ 3.2910101e+00,  4.0252047e+00,  5.3528347e+00,  1.1168659e+00,\n",
       "        -2.4204366e+00,  1.8047158e-01, -1.0994958e+00,  1.4772824e+00,\n",
       "        -1.3404225e+00,  3.5381269e+00, -1.9602447e+00, -1.5004672e+00,\n",
       "         2.5576367e+00, -2.9933095e+00,  1.3745166e+00, -2.6772068e+00,\n",
       "        -2.8843102e+00, -4.6480231e+00,  7.7917469e-01, -4.5535626e+00,\n",
       "         6.6722589e+00, -7.1159191e+00, -4.8827672e+00, -7.4956983e-02,\n",
       "        -7.5765002e-01, -2.3858750e-01, -1.3355503e+00, -1.2883602e+00,\n",
       "         7.6664656e-01,  2.2519617e+00],\n",
       "       [ 4.6840239e+00,  6.2614384e+00,  5.4097242e+00, -1.6686330e+00,\n",
       "        -1.1348683e+00,  1.3668619e+00,  5.2585572e-01,  2.8945525e+00,\n",
       "        -8.8659537e-01,  3.0880570e+00, -1.6643640e+00, -3.0980861e+00,\n",
       "         3.4826617e+00, -2.7743196e+00,  2.7580917e+00, -8.0875164e-01,\n",
       "         4.7791356e-01, -1.1226667e+00,  4.9240026e-01, -2.8313816e+00,\n",
       "         5.2401223e+00, -4.4615045e+00, -3.7739778e+00, -2.4125183e+00,\n",
       "        -2.0919709e+00, -2.3392255e+00,  2.7839217e-01, -5.2614677e-01,\n",
       "         9.8679417e-01,  7.5432128e-01],\n",
       "       [ 4.9161296e+00,  5.9791284e+00,  4.3392401e+00, -7.1255058e-02,\n",
       "        -1.4351425e+00, -2.9026800e-01,  2.1018171e+00,  1.9349127e+00,\n",
       "        -2.2255042e+00,  4.2383351e+00, -2.0322671e+00, -3.4840188e+00,\n",
       "         4.4528289e+00, -2.7893729e+00,  2.2128339e+00, -7.9644692e-01,\n",
       "        -1.2701170e+00, -2.8859005e+00, -2.5889245e-01, -5.5134525e+00,\n",
       "         5.3953252e+00, -4.2231688e+00, -4.3936038e+00, -2.0610166e+00,\n",
       "         2.2266096e-01, -2.0768902e+00, -1.4125836e+00, -4.1518843e-01,\n",
       "         6.7666322e-01,  4.7298323e-02],\n",
       "       [ 2.9134822e+00,  4.9476423e+00,  4.0231247e+00, -2.2125325e-01,\n",
       "        -1.9500189e+00,  8.5223162e-01,  3.6940126e+00,  3.3702037e+00,\n",
       "        -1.3476785e+00,  3.8742266e+00, -9.0576708e-01, -2.0659268e+00,\n",
       "         3.5975838e+00, -2.7641401e+00,  3.0280063e+00, -1.1089549e+00,\n",
       "        -1.9364809e+00, -3.8771622e+00, -9.0467250e-01, -4.0827594e+00,\n",
       "         4.0082865e+00, -3.8408034e+00, -5.0836334e+00, -2.0006013e+00,\n",
       "        -5.1573288e-01, -1.0921209e+00, -1.8754573e+00, -8.1149721e-01,\n",
       "         5.6068391e-01, -1.6065063e-01],\n",
       "       [ 4.1652026e+00,  3.7075200e+00,  5.2461748e+00,  5.6672961e-02,\n",
       "        -1.8169088e+00, -1.0005927e+00, -1.2772117e+00,  3.4903114e+00,\n",
       "        -4.9643132e-01,  4.1581149e+00, -1.2478944e+00, -1.2534042e-01,\n",
       "         3.3598065e+00, -2.2345498e+00,  2.6773582e+00, -1.4382750e+00,\n",
       "        -2.1049230e-01, -4.0753474e+00,  1.6139494e+00, -5.4590516e+00,\n",
       "         4.5383239e+00, -6.3505864e+00, -4.1190162e+00, -2.0599468e+00,\n",
       "         1.1265526e+00,  3.3301950e-02, -2.8055511e+00, -1.4628936e+00,\n",
       "         6.9095689e-01,  3.5203218e+00]], dtype=float32)"
      ]
     },
     "execution_count": 21,
     "metadata": {},
     "output_type": "execute_result"
    }
   ],
   "source": [
    "# create the final doc to vect transformer\n",
    "d2v_in = Input(shape=(input_len, ), dtype='int32')\n",
    "d2v__emb_layer = model.get_layer('embx')(d2v_in)\n",
    "d2v_flat = Flatten()(d2v__emb_layer)\n",
    "d2v_output = ae.get_layer('d0')(d2v_flat )\n",
    "\n",
    "d2v = Model(inputs=d2v_in, outputs=d2v_output )\n",
    "\n",
    "doc_vects = d2v.predict(seqs)\n",
    "doc_vects.shape\n",
    "doc_vects[1:10]\n"
   ]
  }
 ],
 "metadata": {
  "kernelspec": {
   "display_name": "Python 3",
   "language": "python",
   "name": "python3"
  },
  "language_info": {
   "codemirror_mode": {
    "name": "ipython",
    "version": 3
   },
   "file_extension": ".py",
   "mimetype": "text/x-python",
   "name": "python",
   "nbconvert_exporter": "python",
   "pygments_lexer": "ipython3",
   "version": "3.6.8"
  }
 },
 "nbformat": 4,
 "nbformat_minor": 2
}
