{
 "cells": [
  {
   "cell_type": "code",
   "execution_count": 134,
   "metadata": {},
   "outputs": [
    {
     "data": {
      "text/plain": [
       "[('is a test', 'this', 1),\n",
       " ('is a test', 'is', 0),\n",
       " ('this a test', 'is', 1),\n",
       " ('this a test', 'still', 0),\n",
       " ('this is test', 'a', 1),\n",
       " ('this is test', 'am', 0),\n",
       " ('this is a', 'test', 1),\n",
       " ('this is a', 'testing', 0),\n",
       " ('this is a test', '', 1),\n",
       " ('this is a test', 'why', 0),\n",
       " ('this is a test', '', 1),\n",
       " ('this is a test', 'a', 0),\n",
       " ('this is a test', '', 1),\n",
       " ('this is a test', 'testing', 0),\n",
       " ('is still a test', 'this', 1),\n",
       " ('is still a test', 'test', 0),\n",
       " ('this still a test', 'is', 1),\n",
       " ('this still a test', 'why', 0),\n",
       " ('this is a test', 'still', 1),\n",
       " ('this is a test', 'a', 0),\n",
       " ('this is still test', 'a', 1),\n",
       " ('this is still test', 'this', 0),\n",
       " ('this is still a', 'test', 1),\n",
       " ('this is still a', 'still', 0),\n",
       " ('this is still a test', '', 1),\n",
       " ('this is still a test', 'is', 0),\n",
       " ('this is still a test', '', 1),\n",
       " ('this is still a test', 'is', 0),\n",
       " ('am i still testing', 'why', 1),\n",
       " ('am i still testing', 'still', 0),\n",
       " ('why i still testing', 'am', 1),\n",
       " ('why i still testing', 'a', 0),\n",
       " ('why am still testing', 'i', 1),\n",
       " ('why am still testing', 'am', 0),\n",
       " ('why am i testing', 'still', 1),\n",
       " ('why am i testing', 'testing', 0),\n",
       " ('why am i still', 'testing', 1),\n",
       " ('why am i still', 'a', 0),\n",
       " ('why am i still testing', '', 1),\n",
       " ('why am i still testing', 'still', 0),\n",
       " ('why am i still testing', '', 1),\n",
       " ('why am i still testing', 'still', 0)]"
      ]
     },
     "execution_count": 134,
     "metadata": {},
     "output_type": "execute_result"
    }
   ],
   "source": [
    "from keras.preprocessing.text import Tokenizer\n",
    "from keras.preprocessing.sequence import pad_sequences\n",
    "import numpy as np\n",
    "docs = ['this is a test ', 'this is also a test', 'why and I still testing this', 'ok now the test is over']\n",
    "\n",
    "\n",
    "class SkipGram:\n",
    "    def __init__(self, max_len=5, tokenizer=None):\n",
    "        self.max_len = max_len\n",
    "        self.tokenizer = tokenizer\n",
    "        self.words = None\n",
    "        self.probs = None\n",
    "        self.n_words = None\n",
    "        if tokenizer:\n",
    "            self._setup_words()\n",
    "        pass\n",
    "\n",
    "    def _setup_words(self):\n",
    "        self.n_words = sum(self.tokenizer.word_counts.values())\n",
    "        self.words = np.array(list(self.tokenizer.word_counts.keys()))\n",
    "        self.probs = np.array(list(self.tokenizer.word_counts.values()))/self.n_words\n",
    "\n",
    "    def fit(self, docs):\n",
    "        self.tokenizer = Tokenizer()\n",
    "        self.tokenizer.fit_on_texts(docs)\n",
    "        self._setup_words()\n",
    "\n",
    "    def _text_to_padded_sequences(self, docs):\n",
    "        seqs = self.tokenizer.texts_to_sequences(docs)\n",
    "        seqs_padded = pad_sequences(seqs, maxlen=self.max_len, padding='post', truncating='post')\n",
    "        return seqs_padded\n",
    "    def text_to_seq(self, docs):\n",
    "        seqs = self.tokenizer.texts_to_sequences(docs)\n",
    "        seqs_padded = pad_sequences(seqs, maxlen=self.max_len-1, padding='post', truncating='post')\n",
    "        return seqs_padded\n",
    "    def _random_choice_int(self, v):\n",
    "        new_word = np.random.choice(self.words, 1, p=self.probs)[0]\n",
    "        output = self.tokenizer.word_index[new_word]\n",
    "        if v == output:\n",
    "            new_word = np.random.choice(self.words, 1, p=self.probs)[0]\n",
    "            output = self.tokenizer.word_index[new_word]\n",
    "        \n",
    "        return output\n",
    "\n",
    "    def _missing_word_gen(self, docs):\n",
    "        seqs = self._text_to_padded_sequences(docs)\n",
    "        for seq in seqs:\n",
    "            seq = np.array(seq)\n",
    "            if sum(seq) != 0:\n",
    "                for i in range(self.max_len):\n",
    "                    new_seq = np.delete(seq, i)\n",
    "                    x = np.array([new_seq, new_seq])\n",
    "                    word_index = seq[i]\n",
    "                    new_word_index = self._random_choice_int(word_index)\n",
    "                    context = np.array([[word_index], [new_word_index]])\n",
    "                    label = np.array([[1], [0]])\n",
    "                    yield x, context, label\n",
    "\n",
    "    def array_to_texts(self, x):\n",
    "        return list(s.tokenizer.sequences_to_texts_generator(x))\n",
    "    \n",
    "    def transform_gen(self, docs, batch_size=32):\n",
    "        gen = self._missing_word_gen(docs)\n",
    "        try:\n",
    "            while True:\n",
    "                array_list = [next(gen) for _ in range(int(batch_size))]\n",
    "                x = np.vstack([v[0] for v in array_list])\n",
    "                context = np.vstack([v[1] for v in array_list])\n",
    "                labels = np.vstack([v[2] for v in array_list]).flatten()\n",
    "                yield x, context, labels\n",
    "        except StopIteration:\n",
    "            print('completed')\n",
    "\n",
    "    def transform(self, docs):\n",
    "        array_list = list(self._missing_word_gen(docs))\n",
    "        x = np.vstack([v[0] for v in array_list])\n",
    "        context = np.vstack([v[1] for v in array_list])\n",
    "        labels = np.vstack([v[2] for v in array_list]).flatten()\n",
    "        return x, context, labels\n",
    "\n",
    "test_docs = ['this is a test', 'this is still a test', 'why am I still testing', '']\n",
    "s = SkipGram(max_len = 7)\n",
    "s.fit(test_docs)\n",
    "test_x, test_context, test_labels = s.transform(test_docs)\n",
    "list(zip(s.array_to_texts(test_x,), s.array_to_texts( test_context),test_labels ))\n"
   ]
  },
  {
   "cell_type": "markdown",
   "metadata": {},
   "source": [
    "## Download 2020 ICD 10 Codes from the CDC"
   ]
  },
  {
   "cell_type": "code",
   "execution_count": 136,
   "metadata": {},
   "outputs": [],
   "source": [
    "from urllib import request as ur\n",
    "import pandas as pd\n",
    "url = 'ftp://ftp.cdc.gov/pub/Health_Statistics/NCHS/Publications/ICD10CM/2020/icd10cm_codes_2020.txt'\n",
    "req = ur.Request(url)\n",
    "file = ur.urlopen(req)\n",
    "\n",
    "\n",
    "df = pd.read_csv(file,  header=None, sep='\\t')\n",
    "\n",
    "# parses out the code descripitions\n",
    "docs = list(map(lambda x: re.sub('[A-Z][0-9]+', '', x).strip(), df.iloc[:, 0]))\n",
    "# parest out the actuall codes \n",
    "codes = list(map(lambda x: re.search('[A-Z][0-9]+', x).group(), df.iloc[:, 0]))\n",
    " "
   ]
  },
  {
   "cell_type": "code",
   "execution_count": 111,
   "metadata": {},
   "outputs": [
    {
     "data": {
      "text/plain": [
       "31"
      ]
     },
     "execution_count": 111,
     "metadata": {},
     "output_type": "execute_result"
    }
   ],
   "source": [
    "# calculated the max sequence len\n",
    "np.max([len(d.split(' ')) for d in docs])"
   ]
  },
  {
   "cell_type": "code",
   "execution_count": 144,
   "metadata": {},
   "outputs": [],
   "source": [
    "max_len = 31\n",
    "s = SkipGram(max_len=max_len)\n",
    "s.fit(docs)\n",
    "vocab_size = len(s.tokenizer.word_index)\n",
    "context_size = 1"
   ]
  },
  {
   "cell_type": "code",
   "execution_count": 146,
   "metadata": {},
   "outputs": [
    {
     "data": {
      "text/plain": [
       "7212"
      ]
     },
     "execution_count": 146,
     "metadata": {},
     "output_type": "execute_result"
    }
   ],
   "source": [
    "vocab_size"
   ]
  },
  {
   "cell_type": "code",
   "execution_count": 157,
   "metadata": {},
   "outputs": [
    {
     "name": "stdout",
     "output_type": "stream",
     "text": [
      "Model: \"model_6\"\n",
      "__________________________________________________________________________________________________\n",
      "Layer (type)                    Output Shape         Param #     Connected to                     \n",
      "==================================================================================================\n",
      "input_17 (InputLayer)           (None, 30)           0                                            \n",
      "__________________________________________________________________________________________________\n",
      "input_18 (InputLayer)           (None, 1)            0                                            \n",
      "__________________________________________________________________________________________________\n",
      "embx (Embedding)                (None, 30, 10)       72130       input_17[0][0]                   \n",
      "__________________________________________________________________________________________________\n",
      "embc (Embedding)                (None, 1, 10)        72130       input_18[0][0]                   \n",
      "__________________________________________________________________________________________________\n",
      "dot_8 (Dot)                     (None, 30, 1)        0           embx[0][0]                       \n",
      "                                                                 embc[0][0]                       \n",
      "__________________________________________________________________________________________________\n",
      "batch_normalization_8 (BatchNor (None, 30, 1)        4           dot_8[0][0]                      \n",
      "__________________________________________________________________________________________________\n",
      "reshape_6 (Reshape)             (None, 1, 30)        0           batch_normalization_8[0][0]      \n",
      "__________________________________________________________________________________________________\n",
      "flatten (Flatten)               (None, 30)           0           reshape_6[0][0]                  \n",
      "__________________________________________________________________________________________________\n",
      "dense_6 (Dense)                 (None, 1)            31          flatten[0][0]                    \n",
      "__________________________________________________________________________________________________\n",
      "activation_6 (Activation)       (None, 1)            0           dense_6[0][0]                    \n",
      "==================================================================================================\n",
      "Total params: 144,295\n",
      "Trainable params: 144,293\n",
      "Non-trainable params: 2\n",
      "__________________________________________________________________________________________________\n"
     ]
    }
   ],
   "source": [
    "\n",
    "from keras.models import Sequential, Model\n",
    "from keras.layers import Embedding, Reshape, Activation, Input, Flatten, Dense, BatchNormalization\n",
    "from keras.layers.merge import Dot\n",
    "from keras.utils import np_utils\n",
    "from keras.utils.data_utils import get_file\n",
    "from keras.preprocessing.text import Tokenizer\n",
    "from keras.preprocessing.sequence import skipgrams\n",
    "from keras.callbacks import EarlyStopping\n",
    "esm =  EarlyStopping(patience=2, monitor='loss')\n",
    "\n",
    "dim_embedddings =10\n",
    "n_w_inputs = max_len-1 \n",
    "\n",
    "# inputs\n",
    "w_inputs = Input(shape=(n_w_inputs, ), dtype='int32')\n",
    "w = Embedding(vocab_size+1, dim_embedddings,name= 'embx')(w_inputs)\n",
    "\n",
    "# context\n",
    "c_inputs = Input(shape=(context_size, ), dtype='int32')\n",
    "c  = Embedding(vocab_size+1, dim_embedddings, name= 'embc')(c_inputs)\n",
    "o = Dot(axes=2)([w, c])\n",
    "o = BatchNormalization()(o)\n",
    "o = Reshape((1, n_w_inputs), input_shape=(n_w_inputs, 1))(o)\n",
    "o = Flatten(name='flatten')(o)\n",
    "o = Dense(1)(o)\n",
    "o = Activation('sigmoid')(o)\n",
    "\n",
    "model = Model(inputs=[w_inputs, c_inputs], outputs=o)\n",
    "model.summary()\n",
    "model.compile(loss='binary_crossentropy', optimizer='adam')\n",
    "# fit the model\n"
   ]
  },
  {
   "cell_type": "code",
   "execution_count": null,
   "metadata": {},
   "outputs": [],
   "source": []
  },
  {
   "cell_type": "code",
   "execution_count": 158,
   "metadata": {},
   "outputs": [
    {
     "name": "stdout",
     "output_type": "stream",
     "text": [
      "completed\n"
     ]
    }
   ],
   "source": [
    "def train(doc, n_epochs=1, skipgram=s, model=model, batch_size=512):\n",
    "    for e in range(n_epochs):\n",
    "        gen = s.transform_gen(docs, batch_size=batch_size)\n",
    "        try:\n",
    "            while True:\n",
    "                x, context, y = next(gen)\n",
    "                model.train_on_batch([x, context], y)\n",
    "        except StopIteration:\n",
    "            pass\n",
    "    return model\n",
    "model = train(docs, 1, s,  model)"
   ]
  },
  {
   "cell_type": "code",
   "execution_count": 160,
   "metadata": {},
   "outputs": [
    {
     "data": {
      "text/plain": [
       "array([[3794,   58,   24, 3159, 3795, 4331, 4332, 4944,    0,    0,    0,\n",
       "           0,    0,    0,    0,    0,    0,    0,    0,    0,    0,    0,\n",
       "           0,    0,    0,    0,    0,    0,    0,    0],\n",
       "       [3794,    4,    0,    0,    0,    0,    0,    0,    0,    0,    0,\n",
       "           0,    0,    0,    0,    0,    0,    0,    0,    0,    0,    0,\n",
       "           0,    0,    0,    0,    0,    0,    0,    0]], dtype=int32)"
      ]
     },
     "execution_count": 160,
     "metadata": {},
     "output_type": "execute_result"
    }
   ],
   "source": [
    "emb_input = Input(shape=(max_len-1, ), dtype='int32')\n",
    "emb_layer = model.get_layer('embx')(emb_input )\n",
    "emb_model = Model(inputs=emb_input, outputs=emb_layer)\n",
    "\n",
    "seqs = s.text_to_seq(docs)\n",
    "seqs[1:3]"
   ]
  },
  {
   "cell_type": "code",
   "execution_count": 161,
   "metadata": {},
   "outputs": [
    {
     "data": {
      "text/plain": [
       "(72184, 30, 10)"
      ]
     },
     "execution_count": 161,
     "metadata": {},
     "output_type": "execute_result"
    }
   ],
   "source": [
    "vects = emb_model.predict(seqs)\n",
    "vects.shape"
   ]
  },
  {
   "cell_type": "code",
   "execution_count": 162,
   "metadata": {},
   "outputs": [
    {
     "data": {
      "text/plain": [
       "(72184, 300)"
      ]
     },
     "execution_count": 162,
     "metadata": {},
     "output_type": "execute_result"
    }
   ],
   "source": [
    "vecs_reshape = np.reshape(vects, (vects.shape[0], -1))\n",
    "vecs_reshape.shape"
   ]
  },
  {
   "cell_type": "code",
   "execution_count": 163,
   "metadata": {},
   "outputs": [
    {
     "data": {
      "image/png": "[encoded data removed]",
      "text/plain": [
       "<Figure size 432x288 with 1 Axes>"
      ]
     },
     "metadata": {
      "needs_background": "light"
     },
     "output_type": "display_data"
    }
   ],
   "source": [
    "from sklearn.decomposition import PCA\n",
    "import matplotlib.pyplot as plt\n",
    "%matplotlib inline\n",
    "p = PCA(2).fit(vecs_reshape)\n",
    "comps = p.transform(vecs_reshape)\n",
    "xx = comps[:, 0]\n",
    "yy = comps[:, 1]\n",
    "plt.scatter(xx, yy,s=.1)\n",
    "plt.show()"
   ]
  },
  {
   "cell_type": "code",
   "execution_count": 164,
   "metadata": {},
   "outputs": [
    {
     "name": "stdout",
     "output_type": "stream",
     "text": [
      "Model: \"model_8\"\n",
      "_________________________________________________________________\n",
      "Layer (type)                 Output Shape              Param #   \n",
      "=================================================================\n",
      "input_20 (InputLayer)        (None, 30, 10)            0         \n",
      "_________________________________________________________________\n",
      "flatten_1 (Flatten)          (None, 300)               0         \n",
      "_________________________________________________________________\n",
      "d0 (Dense)                   (None, 30)                9030      \n",
      "_________________________________________________________________\n",
      "gaussian_noise_1 (GaussianNo (None, 30)                0         \n",
      "_________________________________________________________________\n",
      "dense_7 (Dense)              (None, 300)               9300      \n",
      "_________________________________________________________________\n",
      "reshape_7 (Reshape)          (None, 30, 10)            0         \n",
      "_________________________________________________________________\n",
      "activation_7 (Activation)    (None, 30, 10)            0         \n",
      "=================================================================\n",
      "Total params: 18,330\n",
      "Trainable params: 18,330\n",
      "Non-trainable params: 0\n",
      "_________________________________________________________________\n"
     ]
    }
   ],
   "source": [
    "from keras.layers import GaussianNoise\n",
    "ac_inputs = Input(shape=(30,10), dtype='float32')\n",
    "ac_flat = Flatten()(ac_inputs)\n",
    "ac_dense0 = Dense(30, name='d0')(ac_flat)\n",
    "ac_noise = GaussianNoise(1)(ac_dense0)\n",
    "ac_dense1 = Dense(300)(ac_noise) \n",
    "ac_reshape = Reshape((30,10))(ac_dense1)\n",
    "ac_outputs = Activation('linear')(ac_reshape)\n",
    "\n",
    "ae = Model(inputs=ac_inputs, outputs=ac_outputs)\n",
    "ae.summary()\n",
    "ae.compile(loss='mse', optimizer='adam')"
   ]
  },
  {
   "cell_type": "code",
   "execution_count": 165,
   "metadata": {},
   "outputs": [
    {
     "name": "stdout",
     "output_type": "stream",
     "text": [
      "Epoch 1/10\n",
      "72184/72184 [==============================] - 3s 38us/step - loss: 0.0125\n",
      "Epoch 2/10\n",
      "72184/72184 [==============================] - 2s 34us/step - loss: 0.0056\n",
      "Epoch 3/10\n",
      "72184/72184 [==============================] - 2s 34us/step - loss: 0.0045\n",
      "Epoch 4/10\n",
      "72184/72184 [==============================] - 3s 37us/step - loss: 0.0038\n",
      "Epoch 5/10\n",
      "72184/72184 [==============================] - 3s 36us/step - loss: 0.0035\n",
      "Epoch 6/10\n",
      "72184/72184 [==============================] - 3s 35us/step - loss: 0.0033\n",
      "Epoch 7/10\n",
      "72184/72184 [==============================] - 3s 39us/step - loss: 0.0033\n",
      "Epoch 8/10\n",
      "72184/72184 [==============================] - 2s 33us/step - loss: 0.0033\n",
      "Epoch 9/10\n",
      "72184/72184 [==============================] - 2s 34us/step - loss: 0.0032\n",
      "Epoch 10/10\n",
      "72184/72184 [==============================] - 3s 36us/step - loss: 0.0032\n"
     ]
    },
    {
     "data": {
      "text/plain": [
       "<keras.callbacks.callbacks.History at 0x7f313d843160>"
      ]
     },
     "execution_count": 165,
     "metadata": {},
     "output_type": "execute_result"
    }
   ],
   "source": [
    "ae.fit(vects, vects, epochs=10, callbacks=[esm])"
   ]
  },
  {
   "cell_type": "code",
   "execution_count": 168,
   "metadata": {},
   "outputs": [
    {
     "data": {
      "text/plain": [
       "array([[ 1.9844742e+00, -1.1262115e+00,  2.4850941e+00,  1.5158374e+00,\n",
       "        -1.0119201e+00, -2.1898057e+00, -1.3320541e+00,  1.1337572e+00,\n",
       "        -1.0395868e+00, -1.3976133e+00,  8.8617080e-01,  4.3655410e-01,\n",
       "         2.4043121e+00,  5.2443439e-01,  2.0493019e+00,  3.3933029e-02,\n",
       "         4.7819394e-01,  1.5459973e-01, -2.3181202e-01,  1.0253621e+00,\n",
       "        -8.1109989e-01, -1.5020680e+00, -8.6862034e-01, -1.5117447e+00,\n",
       "         7.7139717e-01,  2.6804390e+00, -5.1628816e-01,  1.3258536e+00,\n",
       "        -6.9219422e-01,  1.0987523e+00],\n",
       "       [ 2.0901849e+00, -2.3151495e+00,  1.0068781e+00,  2.7547815e+00,\n",
       "         2.1879272e+00, -1.6304355e+00, -2.1256528e+00,  1.2087435e+00,\n",
       "         2.4738729e+00, -8.8784432e-01,  2.3763177e+00,  2.4174729e-01,\n",
       "         7.9300082e-01,  1.1398114e+00,  7.5968140e-01, -1.2411315e+00,\n",
       "        -1.6450223e+00,  5.8768851e-01,  1.2607078e-01,  4.7965968e-01,\n",
       "         3.7179196e-01,  9.8991692e-02,  3.6701506e-01, -1.6502832e+00,\n",
       "         3.3141339e+00,  1.4643565e+00,  1.8529245e-01,  2.5928712e+00,\n",
       "         2.1664202e-03, -9.3828666e-01]], dtype=float32)"
      ]
     },
     "execution_count": 168,
     "metadata": {},
     "output_type": "execute_result"
    }
   ],
   "source": [
    "# create the final doc to vect transformer\n",
    "d2v_in = Input(shape=(max_len-1, ), dtype='int32')\n",
    "d2v__emb_layer = model.get_layer('embx')(d2v_in)\n",
    "d2v_flat = Flatten()(d2v__emb_layer)\n",
    "d2v_output = ae.get_layer('d0')(d2v_flat )\n",
    "\n",
    "d2v = Model(inputs=d2v_in, outputs=d2v_output )\n",
    "\n",
    "doc_vects = d2v.predict(seqs)\n",
    "doc_vects.shape\n",
    "doc_vects[1:3]\n"
   ]
  },
  {
   "cell_type": "code",
   "execution_count": null,
   "metadata": {},
   "outputs": [],
   "source": [
    "from sklearn.neighbors import NearestNeighbors\n",
    "nn = NearestNeighbors(5)\n",
    "nn = nn.fit(doc_vects)\n"
   ]
  },
  {
   "cell_type": "code",
   "execution_count": 185,
   "metadata": {},
   "outputs": [
    {
     "data": {
      "text/plain": [
       "'M84379'"
      ]
     },
     "execution_count": 185,
     "metadata": {},
     "output_type": "execute_result"
    }
   ],
   "source": [
    "code_dict = dict(zip(codes, doc_vects))\n",
    "# need to save the tokenizer \n",
    "# need to add variable sequence length code doc to vect.  \n",
    "\n",
    "x = s.text_to_seq(['septic shock'])\n",
    "preds = d2v.predict(x)\n",
    "codes[nn.kneighbors(x)[1][0][0]]"
   ]
  },
  {
   "cell_type": "code",
   "execution_count": 180,
   "metadata": {},
   "outputs": [
    {
     "data": {
      "text/plain": [
       "(array([[1009.36755651, 1009.43514457, 1009.50618548, 1009.50753122,\n",
       "         1009.64218857]]), array([[64509, 67725, 58343, 65523, 58340]]))"
      ]
     },
     "execution_count": 180,
     "metadata": {},
     "output_type": "execute_result"
    }
   ],
   "source": []
  },
  {
   "cell_type": "code",
   "execution_count": 178,
   "metadata": {},
   "outputs": [
    {
     "data": {
      "text/plain": [
       "'M84379'"
      ]
     },
     "execution_count": 178,
     "metadata": {},
     "output_type": "execute_result"
    }
   ],
   "source": [
    "codes[16438]"
   ]
  }
 ],
 "metadata": {
  "kernelspec": {
   "display_name": "Python 3",
   "language": "python",
   "name": "python3"
  },
  "language_info": {
   "codemirror_mode": {
    "name": "ipython",
    "version": 3
   },
   "file_extension": ".py",
   "mimetype": "text/x-python",
   "name": "python",
   "nbconvert_exporter": "python",
   "pygments_lexer": "ipython3",
   "version": "3.6.8"
  }
 },
 "nbformat": 4,
 "nbformat_minor": 2
}
